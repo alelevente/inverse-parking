{
 "cells": [
  {
   "cell_type": "markdown",
   "id": "efdeba6c-84d7-4f5c-9958-87d3074828f9",
   "metadata": {},
   "source": [
    "# **Analyzing the gradient leakage problem on a variety of vehicles**"
   ]
  },
  {
   "cell_type": "code",
   "execution_count": 1,
   "id": "7189c607-b2ad-48e2-a041-5b2fa6178d0b",
   "metadata": {},
   "outputs": [
    {
     "name": "stderr",
     "output_type": "stream",
     "text": [
      "/home/madbiker/anaconda3/lib/python3.8/site-packages/scipy/__init__.py:146: UserWarning: A NumPy version >=1.16.5 and <1.23.0 is required for this version of SciPy (detected version 1.24.3\n",
      "  warnings.warn(f\"A NumPy version >={np_minversion} and <{np_maxversion}\"\n"
     ]
    }
   ],
   "source": [
    "import json\n",
    "\n",
    "import numpy as np\n",
    "import pandas as pd\n",
    "\n",
    "import matplotlib.pyplot as plt\n",
    "import seaborn as sns"
   ]
  },
  {
   "cell_type": "code",
   "execution_count": 2,
   "id": "76149977-9d3f-4009-ad42-d026afceaee4",
   "metadata": {},
   "outputs": [],
   "source": [
    "RESULTS_ROOT = \"./04_distr_gradient_leakage/results/\""
   ]
  },
  {
   "cell_type": "markdown",
   "id": "2172f3c6-7be2-4742-82b0-f76e1f5f6703",
   "metadata": {},
   "source": [
    "## **1. Statistical evaluation**"
   ]
  },
  {
   "cell_type": "markdown",
   "id": "ec84bbea-767c-49d6-a656-c99c895506c8",
   "metadata": {},
   "source": [
    "### 1.1 Averages"
   ]
  },
  {
   "cell_type": "code",
   "execution_count": 28,
   "id": "24a58aae-1f7b-442b-8731-d17ca9412652",
   "metadata": {},
   "outputs": [],
   "source": [
    "#reading the data:\n",
    "vehicle_data = {}\n",
    "for i in range(5):\n",
    "    with open(RESULTS_ROOT+f\"vehicle_results_{i}.json\") as f:\n",
    "        data = json.load(f)\n",
    "        \n",
    "    for veh in data:\n",
    "        \n",
    "        if veh.startswith(\"h\"):\n",
    "            veh_type = \"household\"\n",
    "        elif veh.startswith(\"c\"):\n",
    "            veh_type = \"commute\"\n",
    "        elif veh.startswith(\"r\"):\n",
    "            veh_type = \"random\"\n",
    "            \n",
    "        #if i == 0:\n",
    "        if not(veh in vehicle_data):\n",
    "            vehicle_data[veh] = {\n",
    "                \"position_rate\": len(data[veh][\"positions\"]),\n",
    "                \"time_offset\": np.abs(data[veh][\"time_offset\"]),\n",
    "                \"type\": veh_type,\n",
    "                \"occurence\": 1\n",
    "            }\n",
    "        else:\n",
    "            vehicle_data[veh][\"position_rate\"] += len(data[veh][\"positions\"])\n",
    "            vehicle_data[veh][\"time_offset\"] += np.abs(data[veh][\"time_offset\"])\n",
    "            vehicle_data[veh][\"occurence\"] += 1\n",
    "            \n",
    "gl_df = pd.DataFrame.from_dict(vehicle_data, orient=\"index\")\n",
    "gl_df[\"position_rate\"] = gl_df[\"position_rate\"]/gl_df[\"occurence\"]\n",
    "gl_df[\"time_offset\"] = gl_df[\"time_offset\"]/gl_df[\"occurence\"]"
   ]
  },
  {
   "cell_type": "code",
   "execution_count": 29,
   "id": "91de6d89-0716-4b74-a2a3-923cd9e4af01",
   "metadata": {},
   "outputs": [
    {
     "data": {
      "text/html": [
       "<div>\n",
       "<style scoped>\n",
       "    .dataframe tbody tr th:only-of-type {\n",
       "        vertical-align: middle;\n",
       "    }\n",
       "\n",
       "    .dataframe tbody tr th {\n",
       "        vertical-align: top;\n",
       "    }\n",
       "\n",
       "    .dataframe thead th {\n",
       "        text-align: right;\n",
       "    }\n",
       "</style>\n",
       "<table border=\"1\" class=\"dataframe\">\n",
       "  <thead>\n",
       "    <tr style=\"text-align: right;\">\n",
       "      <th></th>\n",
       "      <th>position_rate</th>\n",
       "      <th>time_offset</th>\n",
       "      <th>type</th>\n",
       "      <th>occurence</th>\n",
       "    </tr>\n",
       "  </thead>\n",
       "  <tbody>\n",
       "    <tr>\n",
       "      <th>carIn343</th>\n",
       "      <td>6.0</td>\n",
       "      <td>0.0</td>\n",
       "      <td>commute</td>\n",
       "      <td>1</td>\n",
       "    </tr>\n",
       "    <tr>\n",
       "      <th>randUni277:6</th>\n",
       "      <td>9.0</td>\n",
       "      <td>27.0</td>\n",
       "      <td>random</td>\n",
       "      <td>1</td>\n",
       "    </tr>\n",
       "    <tr>\n",
       "      <th>randUni94:4</th>\n",
       "      <td>3.5</td>\n",
       "      <td>20.0</td>\n",
       "      <td>random</td>\n",
       "      <td>2</td>\n",
       "    </tr>\n",
       "    <tr>\n",
       "      <th>randUni417:6</th>\n",
       "      <td>5.5</td>\n",
       "      <td>23.5</td>\n",
       "      <td>random</td>\n",
       "      <td>2</td>\n",
       "    </tr>\n",
       "    <tr>\n",
       "      <th>randUni860:4</th>\n",
       "      <td>7.0</td>\n",
       "      <td>2.0</td>\n",
       "      <td>random</td>\n",
       "      <td>1</td>\n",
       "    </tr>\n",
       "    <tr>\n",
       "      <th>...</th>\n",
       "      <td>...</td>\n",
       "      <td>...</td>\n",
       "      <td>...</td>\n",
       "      <td>...</td>\n",
       "    </tr>\n",
       "    <tr>\n",
       "      <th>h620c1:0</th>\n",
       "      <td>3.0</td>\n",
       "      <td>21.0</td>\n",
       "      <td>household</td>\n",
       "      <td>1</td>\n",
       "    </tr>\n",
       "    <tr>\n",
       "      <th>h3077c1:0</th>\n",
       "      <td>9.0</td>\n",
       "      <td>0.0</td>\n",
       "      <td>household</td>\n",
       "      <td>1</td>\n",
       "    </tr>\n",
       "    <tr>\n",
       "      <th>randUni394:7</th>\n",
       "      <td>4.0</td>\n",
       "      <td>17.0</td>\n",
       "      <td>random</td>\n",
       "      <td>1</td>\n",
       "    </tr>\n",
       "    <tr>\n",
       "      <th>h3193c1:0</th>\n",
       "      <td>8.0</td>\n",
       "      <td>1.0</td>\n",
       "      <td>household</td>\n",
       "      <td>1</td>\n",
       "    </tr>\n",
       "    <tr>\n",
       "      <th>h611c1:0</th>\n",
       "      <td>6.0</td>\n",
       "      <td>0.0</td>\n",
       "      <td>household</td>\n",
       "      <td>1</td>\n",
       "    </tr>\n",
       "  </tbody>\n",
       "</table>\n",
       "<p>1324 rows × 4 columns</p>\n",
       "</div>"
      ],
      "text/plain": [
       "              position_rate  time_offset       type  occurence\n",
       "carIn343                6.0          0.0    commute          1\n",
       "randUni277:6            9.0         27.0     random          1\n",
       "randUni94:4             3.5         20.0     random          2\n",
       "randUni417:6            5.5         23.5     random          2\n",
       "randUni860:4            7.0          2.0     random          1\n",
       "...                     ...          ...        ...        ...\n",
       "h620c1:0                3.0         21.0  household          1\n",
       "h3077c1:0               9.0          0.0  household          1\n",
       "randUni394:7            4.0         17.0     random          1\n",
       "h3193c1:0               8.0          1.0  household          1\n",
       "h611c1:0                6.0          0.0  household          1\n",
       "\n",
       "[1324 rows x 4 columns]"
      ]
     },
     "execution_count": 29,
     "metadata": {},
     "output_type": "execute_result"
    }
   ],
   "source": [
    "gl_df"
   ]
  },
  {
   "cell_type": "code",
   "execution_count": 30,
   "id": "3c68f6d2-2189-41a3-9fd7-12ca631516e5",
   "metadata": {},
   "outputs": [
    {
     "data": {
      "text/plain": [
       "array([[<AxesSubplot: title={'center': 'position_rate'}>,\n",
       "        <AxesSubplot: title={'center': 'time_offset'}>],\n",
       "       [<AxesSubplot: title={'center': 'occurence'}>, <AxesSubplot: >]],\n",
       "      dtype=object)"
      ]
     },
     "execution_count": 30,
     "metadata": {},
     "output_type": "execute_result"
    },
    {
     "data": {
      "image/png": "[encoded data removed]",
      "text/plain": [
       "<Figure size 640x480 with 4 Axes>"
      ]
     },
     "metadata": {},
     "output_type": "display_data"
    }
   ],
   "source": [
    "gl_df.hist()"
   ]
  },
  {
   "cell_type": "code",
   "execution_count": 31,
   "id": "23ec3717-3b5c-4f61-8b87-b582a50e7d3e",
   "metadata": {},
   "outputs": [
    {
     "data": {
      "text/html": [
       "<div>\n",
       "<style scoped>\n",
       "    .dataframe tbody tr th:only-of-type {\n",
       "        vertical-align: middle;\n",
       "    }\n",
       "\n",
       "    .dataframe tbody tr th {\n",
       "        vertical-align: top;\n",
       "    }\n",
       "\n",
       "    .dataframe thead th {\n",
       "        text-align: right;\n",
       "    }\n",
       "</style>\n",
       "<table border=\"1\" class=\"dataframe\">\n",
       "  <thead>\n",
       "    <tr style=\"text-align: right;\">\n",
       "      <th></th>\n",
       "      <th>position_rate</th>\n",
       "      <th>time_offset</th>\n",
       "      <th>occurence</th>\n",
       "    </tr>\n",
       "    <tr>\n",
       "      <th>type</th>\n",
       "      <th></th>\n",
       "      <th></th>\n",
       "      <th></th>\n",
       "    </tr>\n",
       "  </thead>\n",
       "  <tbody>\n",
       "    <tr>\n",
       "      <th>commute</th>\n",
       "      <td>5.982206</td>\n",
       "      <td>1.825623</td>\n",
       "      <td>1.085409</td>\n",
       "    </tr>\n",
       "    <tr>\n",
       "      <th>household</th>\n",
       "      <td>7.409924</td>\n",
       "      <td>6.264833</td>\n",
       "      <td>1.148867</td>\n",
       "    </tr>\n",
       "    <tr>\n",
       "      <th>random</th>\n",
       "      <td>5.517030</td>\n",
       "      <td>16.777475</td>\n",
       "      <td>1.144414</td>\n",
       "    </tr>\n",
       "  </tbody>\n",
       "</table>\n",
       "</div>"
      ],
      "text/plain": [
       "           position_rate  time_offset  occurence\n",
       "type                                            \n",
       "commute         5.982206     1.825623   1.085409\n",
       "household       7.409924     6.264833   1.148867\n",
       "random          5.517030    16.777475   1.144414"
      ]
     },
     "execution_count": 31,
     "metadata": {},
     "output_type": "execute_result"
    }
   ],
   "source": [
    "gl_df.groupby(\"type\").mean()"
   ]
  },
  {
   "cell_type": "code",
   "execution_count": 32,
   "id": "8a43469d-e97e-4f8a-8cd9-7063b9c44126",
   "metadata": {},
   "outputs": [
    {
     "data": {
      "text/html": [
       "<div>\n",
       "<style scoped>\n",
       "    .dataframe tbody tr th:only-of-type {\n",
       "        vertical-align: middle;\n",
       "    }\n",
       "\n",
       "    .dataframe tbody tr th {\n",
       "        vertical-align: top;\n",
       "    }\n",
       "\n",
       "    .dataframe thead th {\n",
       "        text-align: right;\n",
       "    }\n",
       "</style>\n",
       "<table border=\"1\" class=\"dataframe\">\n",
       "  <thead>\n",
       "    <tr style=\"text-align: right;\">\n",
       "      <th></th>\n",
       "      <th>position_rate</th>\n",
       "      <th>time_offset</th>\n",
       "      <th>occurence</th>\n",
       "    </tr>\n",
       "    <tr>\n",
       "      <th>type</th>\n",
       "      <th></th>\n",
       "      <th></th>\n",
       "      <th></th>\n",
       "    </tr>\n",
       "  </thead>\n",
       "  <tbody>\n",
       "    <tr>\n",
       "      <th>commute</th>\n",
       "      <td>2.017257</td>\n",
       "      <td>2.209117</td>\n",
       "      <td>0.279988</td>\n",
       "    </tr>\n",
       "    <tr>\n",
       "      <th>household</th>\n",
       "      <td>2.071302</td>\n",
       "      <td>9.393431</td>\n",
       "      <td>0.382881</td>\n",
       "    </tr>\n",
       "    <tr>\n",
       "      <th>random</th>\n",
       "      <td>2.149796</td>\n",
       "      <td>10.737366</td>\n",
       "      <td>0.377924</td>\n",
       "    </tr>\n",
       "  </tbody>\n",
       "</table>\n",
       "</div>"
      ],
      "text/plain": [
       "           position_rate  time_offset  occurence\n",
       "type                                            \n",
       "commute         2.017257     2.209117   0.279988\n",
       "household       2.071302     9.393431   0.382881\n",
       "random          2.149796    10.737366   0.377924"
      ]
     },
     "execution_count": 32,
     "metadata": {},
     "output_type": "execute_result"
    }
   ],
   "source": [
    "gl_df.groupby(\"type\").std()"
   ]
  },
  {
   "cell_type": "markdown",
   "id": "85a34053-33c2-41c7-bf37-e230e984af58",
   "metadata": {},
   "source": [
    "### 1.2 Extremal cases"
   ]
  },
  {
   "cell_type": "code",
   "execution_count": 33,
   "id": "965e4dba-4a0d-43c9-8f61-212a066e6144",
   "metadata": {},
   "outputs": [],
   "source": [
    "gl_df[\"abs_time_offset\"] = np.abs(gl_df[\"time_offset\"])"
   ]
  },
  {
   "cell_type": "code",
   "execution_count": 34,
   "id": "0d8e7471-7b2d-4a6e-a7c4-8a54dc442f00",
   "metadata": {},
   "outputs": [
    {
     "data": {
      "text/html": [
       "<div>\n",
       "<style scoped>\n",
       "    .dataframe tbody tr th:only-of-type {\n",
       "        vertical-align: middle;\n",
       "    }\n",
       "\n",
       "    .dataframe tbody tr th {\n",
       "        vertical-align: top;\n",
       "    }\n",
       "\n",
       "    .dataframe thead th {\n",
       "        text-align: right;\n",
       "    }\n",
       "</style>\n",
       "<table border=\"1\" class=\"dataframe\">\n",
       "  <thead>\n",
       "    <tr style=\"text-align: right;\">\n",
       "      <th></th>\n",
       "      <th>position_rate</th>\n",
       "      <th>time_offset</th>\n",
       "      <th>type</th>\n",
       "      <th>occurence</th>\n",
       "      <th>abs_time_offset</th>\n",
       "    </tr>\n",
       "  </thead>\n",
       "  <tbody>\n",
       "    <tr>\n",
       "      <th>h3055c1:0</th>\n",
       "      <td>10.0</td>\n",
       "      <td>0.0</td>\n",
       "      <td>household</td>\n",
       "      <td>1</td>\n",
       "      <td>0.0</td>\n",
       "    </tr>\n",
       "    <tr>\n",
       "      <th>h920c1:0</th>\n",
       "      <td>10.0</td>\n",
       "      <td>0.0</td>\n",
       "      <td>household</td>\n",
       "      <td>1</td>\n",
       "      <td>0.0</td>\n",
       "    </tr>\n",
       "    <tr>\n",
       "      <th>h197c1:0</th>\n",
       "      <td>10.0</td>\n",
       "      <td>4.0</td>\n",
       "      <td>household</td>\n",
       "      <td>1</td>\n",
       "      <td>4.0</td>\n",
       "    </tr>\n",
       "    <tr>\n",
       "      <th>h3037c2:0</th>\n",
       "      <td>10.0</td>\n",
       "      <td>4.0</td>\n",
       "      <td>household</td>\n",
       "      <td>1</td>\n",
       "      <td>4.0</td>\n",
       "    </tr>\n",
       "    <tr>\n",
       "      <th>h2548c1:0</th>\n",
       "      <td>10.0</td>\n",
       "      <td>7.5</td>\n",
       "      <td>household</td>\n",
       "      <td>2</td>\n",
       "      <td>7.5</td>\n",
       "    </tr>\n",
       "    <tr>\n",
       "      <th>...</th>\n",
       "      <td>...</td>\n",
       "      <td>...</td>\n",
       "      <td>...</td>\n",
       "      <td>...</td>\n",
       "      <td>...</td>\n",
       "    </tr>\n",
       "    <tr>\n",
       "      <th>h3460c1:0</th>\n",
       "      <td>10.0</td>\n",
       "      <td>3.0</td>\n",
       "      <td>household</td>\n",
       "      <td>1</td>\n",
       "      <td>3.0</td>\n",
       "    </tr>\n",
       "    <tr>\n",
       "      <th>randUni18:4</th>\n",
       "      <td>10.0</td>\n",
       "      <td>26.0</td>\n",
       "      <td>random</td>\n",
       "      <td>1</td>\n",
       "      <td>26.0</td>\n",
       "    </tr>\n",
       "    <tr>\n",
       "      <th>carIn179</th>\n",
       "      <td>10.0</td>\n",
       "      <td>0.0</td>\n",
       "      <td>commute</td>\n",
       "      <td>1</td>\n",
       "      <td>0.0</td>\n",
       "    </tr>\n",
       "    <tr>\n",
       "      <th>randUni620:8</th>\n",
       "      <td>10.0</td>\n",
       "      <td>34.0</td>\n",
       "      <td>random</td>\n",
       "      <td>1</td>\n",
       "      <td>34.0</td>\n",
       "    </tr>\n",
       "    <tr>\n",
       "      <th>randUni712:4</th>\n",
       "      <td>10.0</td>\n",
       "      <td>25.0</td>\n",
       "      <td>random</td>\n",
       "      <td>1</td>\n",
       "      <td>25.0</td>\n",
       "    </tr>\n",
       "  </tbody>\n",
       "</table>\n",
       "<p>70 rows × 5 columns</p>\n",
       "</div>"
      ],
      "text/plain": [
       "              position_rate  time_offset       type  occurence  \\\n",
       "h3055c1:0              10.0          0.0  household          1   \n",
       "h920c1:0               10.0          0.0  household          1   \n",
       "h197c1:0               10.0          4.0  household          1   \n",
       "h3037c2:0              10.0          4.0  household          1   \n",
       "h2548c1:0              10.0          7.5  household          2   \n",
       "...                     ...          ...        ...        ...   \n",
       "h3460c1:0              10.0          3.0  household          1   \n",
       "randUni18:4            10.0         26.0     random          1   \n",
       "carIn179               10.0          0.0    commute          1   \n",
       "randUni620:8           10.0         34.0     random          1   \n",
       "randUni712:4           10.0         25.0     random          1   \n",
       "\n",
       "              abs_time_offset  \n",
       "h3055c1:0                 0.0  \n",
       "h920c1:0                  0.0  \n",
       "h197c1:0                  4.0  \n",
       "h3037c2:0                 4.0  \n",
       "h2548c1:0                 7.5  \n",
       "...                       ...  \n",
       "h3460c1:0                 3.0  \n",
       "randUni18:4              26.0  \n",
       "carIn179                  0.0  \n",
       "randUni620:8             34.0  \n",
       "randUni712:4             25.0  \n",
       "\n",
       "[70 rows x 5 columns]"
      ]
     },
     "execution_count": 34,
     "metadata": {},
     "output_type": "execute_result"
    }
   ],
   "source": [
    "gl_df[gl_df[\"position_rate\"] == max(gl_df[\"position_rate\"])]"
   ]
  },
  {
   "cell_type": "code",
   "execution_count": 35,
   "id": "f76769f3-397d-49cf-a1d4-286722439767",
   "metadata": {},
   "outputs": [
    {
     "data": {
      "text/html": [
       "<div>\n",
       "<style scoped>\n",
       "    .dataframe tbody tr th:only-of-type {\n",
       "        vertical-align: middle;\n",
       "    }\n",
       "\n",
       "    .dataframe tbody tr th {\n",
       "        vertical-align: top;\n",
       "    }\n",
       "\n",
       "    .dataframe thead th {\n",
       "        text-align: right;\n",
       "    }\n",
       "</style>\n",
       "<table border=\"1\" class=\"dataframe\">\n",
       "  <thead>\n",
       "    <tr style=\"text-align: right;\">\n",
       "      <th></th>\n",
       "      <th>position_rate</th>\n",
       "      <th>time_offset</th>\n",
       "      <th>type</th>\n",
       "      <th>occurence</th>\n",
       "      <th>abs_time_offset</th>\n",
       "    </tr>\n",
       "  </thead>\n",
       "  <tbody>\n",
       "    <tr>\n",
       "      <th>randUni401:5</th>\n",
       "      <td>0.0</td>\n",
       "      <td>34.0</td>\n",
       "      <td>random</td>\n",
       "      <td>1</td>\n",
       "      <td>34.0</td>\n",
       "    </tr>\n",
       "    <tr>\n",
       "      <th>randUni812:4</th>\n",
       "      <td>0.0</td>\n",
       "      <td>5.0</td>\n",
       "      <td>random</td>\n",
       "      <td>1</td>\n",
       "      <td>5.0</td>\n",
       "    </tr>\n",
       "  </tbody>\n",
       "</table>\n",
       "</div>"
      ],
      "text/plain": [
       "              position_rate  time_offset    type  occurence  abs_time_offset\n",
       "randUni401:5            0.0         34.0  random          1             34.0\n",
       "randUni812:4            0.0          5.0  random          1              5.0"
      ]
     },
     "execution_count": 35,
     "metadata": {},
     "output_type": "execute_result"
    }
   ],
   "source": [
    "gl_df[gl_df[\"position_rate\"] == min(gl_df[\"position_rate\"])]"
   ]
  },
  {
   "cell_type": "code",
   "execution_count": 36,
   "id": "2c178eea-252a-42ad-a2e0-ee46d2224588",
   "metadata": {},
   "outputs": [
    {
     "data": {
      "text/html": [
       "<div>\n",
       "<style scoped>\n",
       "    .dataframe tbody tr th:only-of-type {\n",
       "        vertical-align: middle;\n",
       "    }\n",
       "\n",
       "    .dataframe tbody tr th {\n",
       "        vertical-align: top;\n",
       "    }\n",
       "\n",
       "    .dataframe thead th {\n",
       "        text-align: right;\n",
       "    }\n",
       "</style>\n",
       "<table border=\"1\" class=\"dataframe\">\n",
       "  <thead>\n",
       "    <tr style=\"text-align: right;\">\n",
       "      <th></th>\n",
       "      <th>position_rate</th>\n",
       "      <th>time_offset</th>\n",
       "      <th>type</th>\n",
       "      <th>occurence</th>\n",
       "      <th>abs_time_offset</th>\n",
       "    </tr>\n",
       "  </thead>\n",
       "  <tbody>\n",
       "    <tr>\n",
       "      <th>h1751c1:0</th>\n",
       "      <td>7.0</td>\n",
       "      <td>37.0</td>\n",
       "      <td>household</td>\n",
       "      <td>1</td>\n",
       "      <td>37.0</td>\n",
       "    </tr>\n",
       "  </tbody>\n",
       "</table>\n",
       "</div>"
      ],
      "text/plain": [
       "           position_rate  time_offset       type  occurence  abs_time_offset\n",
       "h1751c1:0            7.0         37.0  household          1             37.0"
      ]
     },
     "execution_count": 36,
     "metadata": {},
     "output_type": "execute_result"
    }
   ],
   "source": [
    "gl_df[gl_df[\"abs_time_offset\"] == max(gl_df[\"abs_time_offset\"])]"
   ]
  },
  {
   "cell_type": "code",
   "execution_count": 37,
   "id": "9038ea54-8cf5-407f-b36c-934e53e256dc",
   "metadata": {},
   "outputs": [
    {
     "data": {
      "text/html": [
       "<div>\n",
       "<style scoped>\n",
       "    .dataframe tbody tr th:only-of-type {\n",
       "        vertical-align: middle;\n",
       "    }\n",
       "\n",
       "    .dataframe tbody tr th {\n",
       "        vertical-align: top;\n",
       "    }\n",
       "\n",
       "    .dataframe thead th {\n",
       "        text-align: right;\n",
       "    }\n",
       "</style>\n",
       "<table border=\"1\" class=\"dataframe\">\n",
       "  <thead>\n",
       "    <tr style=\"text-align: right;\">\n",
       "      <th></th>\n",
       "      <th>position_rate</th>\n",
       "      <th>time_offset</th>\n",
       "      <th>type</th>\n",
       "      <th>occurence</th>\n",
       "      <th>abs_time_offset</th>\n",
       "    </tr>\n",
       "  </thead>\n",
       "  <tbody>\n",
       "    <tr>\n",
       "      <th>carIn343</th>\n",
       "      <td>6.0</td>\n",
       "      <td>0.0</td>\n",
       "      <td>commute</td>\n",
       "      <td>1</td>\n",
       "      <td>0.0</td>\n",
       "    </tr>\n",
       "    <tr>\n",
       "      <th>carIn386</th>\n",
       "      <td>5.0</td>\n",
       "      <td>0.0</td>\n",
       "      <td>commute</td>\n",
       "      <td>1</td>\n",
       "      <td>0.0</td>\n",
       "    </tr>\n",
       "    <tr>\n",
       "      <th>h3055c1:0</th>\n",
       "      <td>10.0</td>\n",
       "      <td>0.0</td>\n",
       "      <td>household</td>\n",
       "      <td>1</td>\n",
       "      <td>0.0</td>\n",
       "    </tr>\n",
       "    <tr>\n",
       "      <th>h920c1:0</th>\n",
       "      <td>10.0</td>\n",
       "      <td>0.0</td>\n",
       "      <td>household</td>\n",
       "      <td>1</td>\n",
       "      <td>0.0</td>\n",
       "    </tr>\n",
       "    <tr>\n",
       "      <th>carIn744</th>\n",
       "      <td>5.0</td>\n",
       "      <td>0.0</td>\n",
       "      <td>commute</td>\n",
       "      <td>1</td>\n",
       "      <td>0.0</td>\n",
       "    </tr>\n",
       "    <tr>\n",
       "      <th>...</th>\n",
       "      <td>...</td>\n",
       "      <td>...</td>\n",
       "      <td>...</td>\n",
       "      <td>...</td>\n",
       "      <td>...</td>\n",
       "    </tr>\n",
       "    <tr>\n",
       "      <th>carIn616</th>\n",
       "      <td>8.0</td>\n",
       "      <td>0.0</td>\n",
       "      <td>commute</td>\n",
       "      <td>1</td>\n",
       "      <td>0.0</td>\n",
       "    </tr>\n",
       "    <tr>\n",
       "      <th>carIn569</th>\n",
       "      <td>3.0</td>\n",
       "      <td>0.0</td>\n",
       "      <td>commute</td>\n",
       "      <td>1</td>\n",
       "      <td>0.0</td>\n",
       "    </tr>\n",
       "    <tr>\n",
       "      <th>carIn715</th>\n",
       "      <td>7.0</td>\n",
       "      <td>0.0</td>\n",
       "      <td>commute</td>\n",
       "      <td>1</td>\n",
       "      <td>0.0</td>\n",
       "    </tr>\n",
       "    <tr>\n",
       "      <th>h3077c1:0</th>\n",
       "      <td>9.0</td>\n",
       "      <td>0.0</td>\n",
       "      <td>household</td>\n",
       "      <td>1</td>\n",
       "      <td>0.0</td>\n",
       "    </tr>\n",
       "    <tr>\n",
       "      <th>h611c1:0</th>\n",
       "      <td>6.0</td>\n",
       "      <td>0.0</td>\n",
       "      <td>household</td>\n",
       "      <td>1</td>\n",
       "      <td>0.0</td>\n",
       "    </tr>\n",
       "  </tbody>\n",
       "</table>\n",
       "<p>253 rows × 5 columns</p>\n",
       "</div>"
      ],
      "text/plain": [
       "           position_rate  time_offset       type  occurence  abs_time_offset\n",
       "carIn343             6.0          0.0    commute          1              0.0\n",
       "carIn386             5.0          0.0    commute          1              0.0\n",
       "h3055c1:0           10.0          0.0  household          1              0.0\n",
       "h920c1:0            10.0          0.0  household          1              0.0\n",
       "carIn744             5.0          0.0    commute          1              0.0\n",
       "...                  ...          ...        ...        ...              ...\n",
       "carIn616             8.0          0.0    commute          1              0.0\n",
       "carIn569             3.0          0.0    commute          1              0.0\n",
       "carIn715             7.0          0.0    commute          1              0.0\n",
       "h3077c1:0            9.0          0.0  household          1              0.0\n",
       "h611c1:0             6.0          0.0  household          1              0.0\n",
       "\n",
       "[253 rows x 5 columns]"
      ]
     },
     "execution_count": 37,
     "metadata": {},
     "output_type": "execute_result"
    }
   ],
   "source": [
    "gl_df[gl_df[\"abs_time_offset\"] == min(gl_df[\"abs_time_offset\"])]"
   ]
  },
  {
   "cell_type": "markdown",
   "id": "cf3342c2-8926-47a3-9f31-b30a75494e39",
   "metadata": {},
   "source": [
    "### 1.3 Distributions by vehicle type"
   ]
  },
  {
   "cell_type": "code",
   "execution_count": 38,
   "id": "b65f2da1-210e-434b-afc5-de464f4c917c",
   "metadata": {},
   "outputs": [
    {
     "data": {
      "text/plain": [
       "Text(0, 0.5, 'matched parkings')"
      ]
     },
     "execution_count": 38,
     "metadata": {},
     "output_type": "execute_result"
    },
    {
     "data": {
      "image/png": "[encoded data removed]",
      "text/plain": [
       "<Figure size 640x480 with 1 Axes>"
      ]
     },
     "metadata": {},
     "output_type": "display_data"
    }
   ],
   "source": [
    "sns.violinplot(data = gl_df, x = \"type\", y = \"position_rate\",\n",
    "               cut = 0, #fixing to the data's scale\n",
    "               width=0.5, alpha=0.4)\n",
    "plt.xlabel(\"vehicle type\")\n",
    "plt.ylabel(\"matched parkings\")\n",
    "#plt.title(\"Success rate distribution of matched parking lots\\nby vehicle type category\")"
   ]
  },
  {
   "cell_type": "code",
   "execution_count": 39,
   "id": "aa7f5ac7-9fb8-4e28-b80a-bb38a259db02",
   "metadata": {},
   "outputs": [
    {
     "data": {
      "text/plain": [
       "Text(0, 0.5, 'abs. time offset [15 min]')"
      ]
     },
     "execution_count": 39,
     "metadata": {},
     "output_type": "execute_result"
    },
    {
     "data": {
      "image/png": "[encoded data removed]",
      "text/plain": [
       "<Figure size 640x480 with 1 Axes>"
      ]
     },
     "metadata": {},
     "output_type": "display_data"
    }
   ],
   "source": [
    "sns.violinplot(data = gl_df, x = \"type\", y = \"time_offset\",\n",
    "               cut = 0, #fixing to the data's scale\n",
    "               width=0.5, alpha=0.4)\n",
    "plt.xlabel(\"vehicle type\")\n",
    "plt.ylabel(\"abs. time offset [15 min]\")\n",
    "#plt.title(\"Success rate distribution of identified moving time\\nby vehicle type category\")"
   ]
  },
  {
   "cell_type": "markdown",
   "id": "c23a2071-8a1a-47e1-90ce-fdbdcf8529e8",
   "metadata": {},
   "source": [
    "## **2. Checking the Household traffic**"
   ]
  },
  {
   "cell_type": "markdown",
   "id": "9d447d1d-606b-40c0-b606-c226ad18a4ec",
   "metadata": {},
   "source": [
    "### 2.1 Clustering\n",
    "\n",
    "The `household` vehicle type seems to produce a Gaussian mixture distribution (with means around 0, and 15) in terms of time offset. To check this out, we try to create 2 clusters, corresponding to these Gaussian distributions. Later on, we will compare this two clusters."
   ]
  },
  {
   "cell_type": "code",
   "execution_count": 67,
   "id": "0dc23fac-0b0a-4edc-93be-ab8aa504d4ba",
   "metadata": {},
   "outputs": [
    {
     "name": "stderr",
     "output_type": "stream",
     "text": [
      "Exception ignored on calling ctypes callback function: <function _ThreadpoolInfo._find_modules_with_dl_iterate_phdr.<locals>.match_module_callback at 0x7f734f9e0f70>\n",
      "Traceback (most recent call last):\n",
      "  File \"/home/madbiker/anaconda3/lib/python3.8/site-packages/threadpoolctl.py\", line 400, in match_module_callback\n",
      "    self._make_module_from_path(filepath)\n",
      "  File \"/home/madbiker/anaconda3/lib/python3.8/site-packages/threadpoolctl.py\", line 515, in _make_module_from_path\n",
      "    module = module_class(filepath, prefix, user_api, internal_api)\n",
      "  File \"/home/madbiker/anaconda3/lib/python3.8/site-packages/threadpoolctl.py\", line 606, in __init__\n",
      "    self.version = self.get_version()\n",
      "  File \"/home/madbiker/anaconda3/lib/python3.8/site-packages/threadpoolctl.py\", line 646, in get_version\n",
      "    config = get_config().split()\n",
      "AttributeError: 'NoneType' object has no attribute 'split'\n"
     ]
    }
   ],
   "source": [
    "import copy\n",
    "from sklearn.cluster import KMeans\n",
    "\n",
    "household_gl_df = copy.deepcopy(gl_df[gl_df[\"type\"] == \"household\"])\n",
    "X = np.array(household_gl_df[\"time_offset\"]).reshape(-1, 1)\n",
    "kmeans = KMeans(n_clusters=2, random_state=42).fit(X) #fix seed to always have the same clusters\n",
    "household_gl_df[\"cluster\"] = kmeans.predict(X)"
   ]
  },
  {
   "cell_type": "code",
   "execution_count": 68,
   "id": "16499966-5a0b-4bb4-986b-2e6b78af9812",
   "metadata": {},
   "outputs": [
    {
     "data": {
      "text/html": [
       "<div>\n",
       "<style scoped>\n",
       "    .dataframe tbody tr th:only-of-type {\n",
       "        vertical-align: middle;\n",
       "    }\n",
       "\n",
       "    .dataframe tbody tr th {\n",
       "        vertical-align: top;\n",
       "    }\n",
       "\n",
       "    .dataframe thead th {\n",
       "        text-align: right;\n",
       "    }\n",
       "</style>\n",
       "<table border=\"1\" class=\"dataframe\">\n",
       "  <thead>\n",
       "    <tr style=\"text-align: right;\">\n",
       "      <th></th>\n",
       "      <th>position_rate</th>\n",
       "      <th>time_offset</th>\n",
       "      <th>type</th>\n",
       "      <th>occurence</th>\n",
       "      <th>abs_time_offset</th>\n",
       "      <th>cluster</th>\n",
       "    </tr>\n",
       "  </thead>\n",
       "  <tbody>\n",
       "    <tr>\n",
       "      <th>h1881c1:0</th>\n",
       "      <td>9.0</td>\n",
       "      <td>1.0</td>\n",
       "      <td>household</td>\n",
       "      <td>1</td>\n",
       "      <td>1.0</td>\n",
       "      <td>0</td>\n",
       "    </tr>\n",
       "    <tr>\n",
       "      <th>h2327c1:0</th>\n",
       "      <td>3.0</td>\n",
       "      <td>4.0</td>\n",
       "      <td>household</td>\n",
       "      <td>1</td>\n",
       "      <td>4.0</td>\n",
       "      <td>0</td>\n",
       "    </tr>\n",
       "    <tr>\n",
       "      <th>h3055c1:0</th>\n",
       "      <td>10.0</td>\n",
       "      <td>0.0</td>\n",
       "      <td>household</td>\n",
       "      <td>1</td>\n",
       "      <td>0.0</td>\n",
       "      <td>0</td>\n",
       "    </tr>\n",
       "    <tr>\n",
       "      <th>h920c1:0</th>\n",
       "      <td>10.0</td>\n",
       "      <td>0.0</td>\n",
       "      <td>household</td>\n",
       "      <td>1</td>\n",
       "      <td>0.0</td>\n",
       "      <td>0</td>\n",
       "    </tr>\n",
       "    <tr>\n",
       "      <th>h2057c1:0</th>\n",
       "      <td>7.0</td>\n",
       "      <td>30.0</td>\n",
       "      <td>household</td>\n",
       "      <td>2</td>\n",
       "      <td>30.0</td>\n",
       "      <td>1</td>\n",
       "    </tr>\n",
       "    <tr>\n",
       "      <th>...</th>\n",
       "      <td>...</td>\n",
       "      <td>...</td>\n",
       "      <td>...</td>\n",
       "      <td>...</td>\n",
       "      <td>...</td>\n",
       "      <td>...</td>\n",
       "    </tr>\n",
       "    <tr>\n",
       "      <th>h139c1:0</th>\n",
       "      <td>7.0</td>\n",
       "      <td>6.0</td>\n",
       "      <td>household</td>\n",
       "      <td>1</td>\n",
       "      <td>6.0</td>\n",
       "      <td>0</td>\n",
       "    </tr>\n",
       "    <tr>\n",
       "      <th>h620c1:0</th>\n",
       "      <td>3.0</td>\n",
       "      <td>21.0</td>\n",
       "      <td>household</td>\n",
       "      <td>1</td>\n",
       "      <td>21.0</td>\n",
       "      <td>1</td>\n",
       "    </tr>\n",
       "    <tr>\n",
       "      <th>h3077c1:0</th>\n",
       "      <td>9.0</td>\n",
       "      <td>0.0</td>\n",
       "      <td>household</td>\n",
       "      <td>1</td>\n",
       "      <td>0.0</td>\n",
       "      <td>0</td>\n",
       "    </tr>\n",
       "    <tr>\n",
       "      <th>h3193c1:0</th>\n",
       "      <td>8.0</td>\n",
       "      <td>1.0</td>\n",
       "      <td>household</td>\n",
       "      <td>1</td>\n",
       "      <td>1.0</td>\n",
       "      <td>0</td>\n",
       "    </tr>\n",
       "    <tr>\n",
       "      <th>h611c1:0</th>\n",
       "      <td>6.0</td>\n",
       "      <td>0.0</td>\n",
       "      <td>household</td>\n",
       "      <td>1</td>\n",
       "      <td>0.0</td>\n",
       "      <td>0</td>\n",
       "    </tr>\n",
       "  </tbody>\n",
       "</table>\n",
       "<p>309 rows × 6 columns</p>\n",
       "</div>"
      ],
      "text/plain": [
       "           position_rate  time_offset       type  occurence  abs_time_offset  \\\n",
       "h1881c1:0            9.0          1.0  household          1              1.0   \n",
       "h2327c1:0            3.0          4.0  household          1              4.0   \n",
       "h3055c1:0           10.0          0.0  household          1              0.0   \n",
       "h920c1:0            10.0          0.0  household          1              0.0   \n",
       "h2057c1:0            7.0         30.0  household          2             30.0   \n",
       "...                  ...          ...        ...        ...              ...   \n",
       "h139c1:0             7.0          6.0  household          1              6.0   \n",
       "h620c1:0             3.0         21.0  household          1             21.0   \n",
       "h3077c1:0            9.0          0.0  household          1              0.0   \n",
       "h3193c1:0            8.0          1.0  household          1              1.0   \n",
       "h611c1:0             6.0          0.0  household          1              0.0   \n",
       "\n",
       "           cluster  \n",
       "h1881c1:0        0  \n",
       "h2327c1:0        0  \n",
       "h3055c1:0        0  \n",
       "h920c1:0         0  \n",
       "h2057c1:0        1  \n",
       "...            ...  \n",
       "h139c1:0         0  \n",
       "h620c1:0         1  \n",
       "h3077c1:0        0  \n",
       "h3193c1:0        0  \n",
       "h611c1:0         0  \n",
       "\n",
       "[309 rows x 6 columns]"
      ]
     },
     "execution_count": 68,
     "metadata": {},
     "output_type": "execute_result"
    }
   ],
   "source": [
    "household_gl_df"
   ]
  },
  {
   "cell_type": "code",
   "execution_count": 69,
   "id": "2eb6bff6-ba3f-449f-ba40-2ba920513ad0",
   "metadata": {},
   "outputs": [
    {
     "data": {
      "text/plain": [
       "Text(0, 0.5, 'matched parkings')"
      ]
     },
     "execution_count": 69,
     "metadata": {},
     "output_type": "execute_result"
    },
    {
     "data": {
      "image/png": "[encoded data removed]",
      "text/plain": [
       "<Figure size 640x480 with 1 Axes>"
      ]
     },
     "metadata": {},
     "output_type": "display_data"
    }
   ],
   "source": [
    "sns.violinplot(data = household_gl_df, x = \"type\", y = \"position_rate\", hue = \"cluster\",\n",
    "               cut = 0, #fixing to the data's scale\n",
    "               width=0.5, alpha=0.4)\n",
    "plt.xlabel(\"vehicle type\")\n",
    "plt.ylabel(\"matched parkings\")\n",
    "#plt.title(\"Success rate distribution of matched parking lots\\nin household category\")"
   ]
  },
  {
   "cell_type": "code",
   "execution_count": 70,
   "id": "7630e623-1371-4961-9f20-785f3b88da8a",
   "metadata": {},
   "outputs": [
    {
     "data": {
      "text/plain": [
       "Text(0, 0.5, 'abs. time offset [15 min]')"
      ]
     },
     "execution_count": 70,
     "metadata": {},
     "output_type": "execute_result"
    },
    {
     "data": {
      "image/png": "[encoded data removed]",
      "text/plain": [
       "<Figure size 640x480 with 1 Axes>"
      ]
     },
     "metadata": {},
     "output_type": "display_data"
    }
   ],
   "source": [
    "sns.violinplot(data = household_gl_df, x = \"type\", y = \"time_offset\", hue = \"cluster\",\n",
    "               cut = 0,\n",
    "               width=0.5, alpha=0.4)\n",
    "plt.xlabel(\"vehicle type\")\n",
    "plt.ylabel(\"abs. time offset [15 min]\")\n",
    "#plt.title(\"Success rate distribution of identified moving time\\nin household category\")"
   ]
  },
  {
   "cell_type": "markdown",
   "id": "3d3b95d6-b873-48cc-a248-e45bb0e75ad0",
   "metadata": {
    "jp-MarkdownHeadingCollapsed": true,
    "tags": []
   },
   "source": [
    "### 2.2 Visualizing movings"
   ]
  },
  {
   "cell_type": "code",
   "execution_count": 71,
   "id": "3e9ad405-d0d1-4b6e-bfa7-6d83f099e6cd",
   "metadata": {},
   "outputs": [],
   "source": [
    "SIM_RESULTS_ROOT = \"../01_simulation/04_results/\"\n",
    "SEEDS = ['42', '1234', '1867', '613', '1001']\n",
    "PARKING_DEFINITION_FILE = \"../01_simulation/02_scenario/parking_areas.add.xml\"\n",
    "NET_FILE = \"../01_simulation/02_scenario/rand_grid.net.xml\""
   ]
  },
  {
   "cell_type": "code",
   "execution_count": 72,
   "id": "54430337-015f-4580-a481-dfe24ac3a5ef",
   "metadata": {},
   "outputs": [],
   "source": [
    "def combine_commuters(veh_id):\n",
    "    if veh_id.startswith(\"carIn\"):\n",
    "        return veh_id.split(\":\")[0]\n",
    "    return veh_id"
   ]
  },
  {
   "cell_type": "code",
   "execution_count": 73,
   "id": "4bc31e99-b73c-4eac-b5a7-f50a0fabdcd3",
   "metadata": {},
   "outputs": [],
   "source": [
    "p_data = pd.DataFrame()\n",
    "#READING DATA:\n",
    "for s in SEEDS:\n",
    "    filename = SIM_RESULTS_ROOT+f'poccup_by_vehs_{s}.csv'\n",
    "    pf = pd.read_csv(filename)\n",
    "    pf[\"seed\"] = [s]*len(pf)\n",
    "    p_data = pd.concat([p_data, pf])\n",
    "    \n",
    "p_data[\"veh_id\"] = p_data[\"veh_id\"].apply(combine_commuters)\n",
    "    \n",
    "p_data[\"time\"] = p_data[\"time\"] - 4*24*60*60\n",
    "p_data[\"time\"] = p_data[\"time\"].astype(int)\n",
    "p_data[\"time_of_day\"] = (p_data[\"time\"] - (p_data[\"time\"] // (24*60*60))*24*60*60) / (24*60*60) #converting to 0.0-1.0 and removing periodicity"
   ]
  },
  {
   "cell_type": "code",
   "execution_count": 74,
   "id": "87c6ad28-2c9e-4cb3-9d02-04f4b061217e",
   "metadata": {},
   "outputs": [
    {
     "ename": "XMLSyntaxError",
     "evalue": "Start tag expected, '<' not found, line 1, column 1 (<string>, line 1)",
     "output_type": "error",
     "traceback": [
      "Traceback \u001b[0;36m(most recent call last)\u001b[0m:\n",
      "  File \u001b[1;32m\"/home/madbiker/anaconda3/lib/python3.8/site-packages/IPython/core/interactiveshell.py\"\u001b[0m, line \u001b[1;32m3457\u001b[0m, in \u001b[1;35mrun_code\u001b[0m\n    exec(code_obj, self.user_global_ns, self.user_ns)\n",
      "  File \u001b[1;32m\"/tmp/ipykernel_2989789/1324254629.py\"\u001b[0m, line \u001b[1;32m1\u001b[0m, in \u001b[1;35m<module>\u001b[0m\n    parking_df = pd.read_xml(PARKING_DEFINITION_FILE)\n",
      "  File \u001b[1;32m\"/home/madbiker/anaconda3/lib/python3.8/site-packages/pandas/util/_decorators.py\"\u001b[0m, line \u001b[1;32m311\u001b[0m, in \u001b[1;35mwrapper\u001b[0m\n    return func(*args, **kwargs)\n",
      "  File \u001b[1;32m\"/home/madbiker/anaconda3/lib/python3.8/site-packages/pandas/io/xml.py\"\u001b[0m, line \u001b[1;32m938\u001b[0m, in \u001b[1;35mread_xml\u001b[0m\n    return _parse(\n",
      "  File \u001b[1;32m\"/home/madbiker/anaconda3/lib/python3.8/site-packages/pandas/io/xml.py\"\u001b[0m, line \u001b[1;32m733\u001b[0m, in \u001b[1;35m_parse\u001b[0m\n    data_dicts = p.parse_data()\n",
      "  File \u001b[1;32m\"/home/madbiker/anaconda3/lib/python3.8/site-packages/pandas/io/xml.py\"\u001b[0m, line \u001b[1;32m389\u001b[0m, in \u001b[1;35mparse_data\u001b[0m\n    self.xml_doc = XML(self._parse_doc(self.path_or_buffer))\n",
      "  File \u001b[1;32m\"/home/madbiker/anaconda3/lib/python3.8/site-packages/pandas/io/xml.py\"\u001b[0m, line \u001b[1;32m554\u001b[0m, in \u001b[1;35m_parse_doc\u001b[0m\n    doc = fromstring(\n",
      "  File \u001b[1;32m\"src/lxml/etree.pyx\"\u001b[0m, line \u001b[1;32m3254\u001b[0m, in \u001b[1;35mlxml.etree.fromstring\u001b[0m\n",
      "  File \u001b[1;32m\"src/lxml/parser.pxi\"\u001b[0m, line \u001b[1;32m1913\u001b[0m, in \u001b[1;35mlxml.etree._parseMemoryDocument\u001b[0m\n",
      "  File \u001b[1;32m\"src/lxml/parser.pxi\"\u001b[0m, line \u001b[1;32m1800\u001b[0m, in \u001b[1;35mlxml.etree._parseDoc\u001b[0m\n",
      "  File \u001b[1;32m\"src/lxml/parser.pxi\"\u001b[0m, line \u001b[1;32m1141\u001b[0m, in \u001b[1;35mlxml.etree._BaseParser._parseDoc\u001b[0m\n",
      "  File \u001b[1;32m\"src/lxml/parser.pxi\"\u001b[0m, line \u001b[1;32m615\u001b[0m, in \u001b[1;35mlxml.etree._ParserContext._handleParseResultDoc\u001b[0m\n",
      "  File \u001b[1;32m\"src/lxml/parser.pxi\"\u001b[0m, line \u001b[1;32m725\u001b[0m, in \u001b[1;35mlxml.etree._handleParseResult\u001b[0m\n",
      "\u001b[0;36m  File \u001b[0;32m\"src/lxml/parser.pxi\"\u001b[0;36m, line \u001b[0;32m654\u001b[0;36m, in \u001b[0;35mlxml.etree._raiseParseError\u001b[0;36m\u001b[0m\n",
      "\u001b[0;36m  File \u001b[0;32m\"<string>\"\u001b[0;36m, line \u001b[0;32m1\u001b[0m\n\u001b[0;31mXMLSyntaxError\u001b[0m\u001b[0;31m:\u001b[0m Start tag expected, '<' not found, line 1, column 1\n"
     ]
    }
   ],
   "source": [
    "parking_df = pd.read_xml(PARKING_DEFINITION_FILE)"
   ]
  },
  {
   "cell_type": "code",
   "execution_count": null,
   "id": "ab21fcad-a473-4433-88ce-cc03a77d5eb7",
   "metadata": {},
   "outputs": [],
   "source": [
    "edges = []\n",
    "for i,r in parking_df.iterrows():\n",
    "    edges.append(r.lane.split(\"_\")[0])\n",
    "parking_df[\"edge\"] = edges\n",
    "\n",
    "parking_positions = {}\n",
    "for i,r in parking_df.iterrows():\n",
    "    parking_positions[r.id] = r.edge"
   ]
  },
  {
   "cell_type": "code",
   "execution_count": null,
   "id": "49e1f759-c5ae-4c8b-ae28-a3145a4816eb",
   "metadata": {},
   "outputs": [],
   "source": [
    "from importlib import reload\n",
    "import visualization\n",
    "\n",
    "reload(visualization);"
   ]
  },
  {
   "cell_type": "markdown",
   "id": "86980c79-d2aa-4051-8496-2d119222e134",
   "metadata": {},
   "source": [
    "#### Cluster1"
   ]
  },
  {
   "cell_type": "code",
   "execution_count": null,
   "id": "e61b9ba4-85ff-41b2-ab94-14ffd67b36e9",
   "metadata": {},
   "outputs": [],
   "source": [
    "cluster1 = household_gl_df[household_gl_df[\"cluster\"] == 1].index\n",
    "for veh in cluster1:\n",
    "    p_veh_data = p_data[p_data[\"veh_id\"] == veh]\n",
    "    print(len(p_veh_data), \"/\", len(p_veh_data[\"parking_id\"].unique()))\n",
    "    veh_lots = p_veh_data[\"parking_id\"]\n",
    "    visualization.plot_dataset(NET_FILE, veh_lots, parking_positions)"
   ]
  },
  {
   "cell_type": "markdown",
   "id": "849ca883-f7ff-47f3-be90-4861e22f9c2c",
   "metadata": {},
   "source": [
    "#### Cluster0"
   ]
  },
  {
   "cell_type": "code",
   "execution_count": null,
   "id": "1308d7be-b563-473b-9366-b27fba8902e0",
   "metadata": {},
   "outputs": [],
   "source": [
    "cluster0 = household_gl_df[household_gl_df[\"cluster\"] == 0].index[:10]\n",
    "for veh in cluster0:\n",
    "    p_veh_data = p_data[p_data[\"veh_id\"] == veh]\n",
    "    print(len(p_veh_data), \"/\", len(p_veh_data[\"parking_id\"].unique()))\n",
    "    veh_lots = p_veh_data[\"parking_id\"]\n",
    "    visualization.plot_dataset(NET_FILE, veh_lots, parking_positions)"
   ]
  },
  {
   "cell_type": "markdown",
   "id": "c6276661-f9ad-4ee3-b06e-a229420fed46",
   "metadata": {},
   "source": [
    "### 2.3 Moving times"
   ]
  },
  {
   "cell_type": "code",
   "execution_count": 75,
   "id": "7b7a099a-f471-4020-92eb-cc2924b9eca2",
   "metadata": {},
   "outputs": [
    {
     "data": {
      "image/png": "[encoded data removed]",
      "text/plain": [
       "<Figure size 640x480 with 1 Axes>"
      ]
     },
     "metadata": {},
     "output_type": "display_data"
    }
   ],
   "source": [
    "cluster0 = household_gl_df[household_gl_df[\"cluster\"] == 0].index[:10]\n",
    "for veh in cluster0:\n",
    "    p_veh_data = p_data[p_data[\"veh_id\"] == veh]\n",
    "    p_veh_data[\"time_of_day\"].hist()\n",
    "    #plt.show()"
   ]
  },
  {
   "cell_type": "code",
   "execution_count": 76,
   "id": "bb089559-59fa-46ca-81ab-5c6c25f99aa4",
   "metadata": {},
   "outputs": [],
   "source": [
    "def collect_cluster_data(p_data, cluster_indices):\n",
    "    cl_data = []\n",
    "    for ind in cluster_indices:\n",
    "        p_veh_data = p_data[p_data[\"veh_id\"] == ind]\n",
    "        for i,r in p_veh_data.iterrows():\n",
    "            cl_data.append(r.time_of_day)\n",
    "    return cl_data"
   ]
  },
  {
   "cell_type": "code",
   "execution_count": 77,
   "id": "0771efb3-bb7d-45f3-a4ab-171966846458",
   "metadata": {},
   "outputs": [],
   "source": [
    "cl0_data = collect_cluster_data(p_data, cluster0)\n",
    "cl0_data = np.array(cl0_data)*24"
   ]
  },
  {
   "cell_type": "code",
   "execution_count": 78,
   "id": "485b5101-0833-489b-a33e-c931a5293fc5",
   "metadata": {},
   "outputs": [
    {
     "data": {
      "text/plain": [
       "Text(0.5, 0, 'time [h]')"
      ]
     },
     "execution_count": 78,
     "metadata": {},
     "output_type": "execute_result"
    },
    {
     "data": {
      "image/png": "[encoded data removed]",
      "text/plain": [
       "<Figure size 640x480 with 1 Axes>"
      ]
     },
     "metadata": {},
     "output_type": "display_data"
    }
   ],
   "source": [
    "import seaborn as sns\n",
    "sns.histplot(cl0_data, bins=24*4,)# kde=True)\n",
    "plt.xlim(0, 24)\n",
    "plt.xticks(ticks=[0, 4, 8, 12, 16, 20, 24])\n",
    "plt.xlabel(\"time [h]\")"
   ]
  },
  {
   "cell_type": "code",
   "execution_count": 79,
   "id": "5462b3a1-fe1d-4772-ac71-3756f4ffd772",
   "metadata": {},
   "outputs": [
    {
     "data": {
      "image/png": "[encoded data removed]",
      "text/plain": [
       "<Figure size 640x480 with 1 Axes>"
      ]
     },
     "metadata": {},
     "output_type": "display_data"
    }
   ],
   "source": [
    "cluster1 = household_gl_df[household_gl_df[\"cluster\"] == 1].index\n",
    "for veh in cluster1:\n",
    "    p_veh_data = p_data[p_data[\"veh_id\"] == veh]\n",
    "    p_veh_data[\"time_of_day\"].hist()\n",
    "    #plt.show()"
   ]
  },
  {
   "cell_type": "code",
   "execution_count": 80,
   "id": "daa9bc14-c0bd-4b41-9a3d-f26c60db2b9e",
   "metadata": {},
   "outputs": [],
   "source": [
    "cl1_data = collect_cluster_data(p_data, cluster1)\n",
    "cl1_data = np.array(cl1_data)*24"
   ]
  },
  {
   "cell_type": "code",
   "execution_count": 81,
   "id": "9dcbdc40-643f-46a0-9e57-b40c244288ef",
   "metadata": {},
   "outputs": [
    {
     "data": {
      "text/plain": [
       "Text(0.5, 0, 'time [h]')"
      ]
     },
     "execution_count": 81,
     "metadata": {},
     "output_type": "execute_result"
    },
    {
     "data": {
      "image/png": "[encoded data removed]",
      "text/plain": [
       "<Figure size 640x480 with 1 Axes>"
      ]
     },
     "metadata": {},
     "output_type": "display_data"
    }
   ],
   "source": [
    "sns.histplot(cl1_data, bins=24*4,)\n",
    "plt.xlim(0, 24)\n",
    "plt.xticks(ticks=[0, 4, 8, 12, 16, 20, 24])\n",
    "plt.xlabel(\"time [h]\")"
   ]
  }
 ],
 "metadata": {
  "kernelspec": {
   "display_name": "Python 3 (ipykernel)",
   "language": "python",
   "name": "python3"
  },
  "language_info": {
   "codemirror_mode": {
    "name": "ipython",
    "version": 3
   },
   "file_extension": ".py",
   "mimetype": "text/x-python",
   "name": "python",
   "nbconvert_exporter": "python",
   "pygments_lexer": "ipython3",
   "version": "3.8.16"
  }
 },
 "nbformat": 4,
 "nbformat_minor": 5
}
