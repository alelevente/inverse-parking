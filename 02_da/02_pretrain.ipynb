{
 "cells": [
  {
   "cell_type": "markdown",
   "id": "f12529f0-29b2-4fb3-a7b7-28c4b8afbe27",
   "metadata": {},
   "source": [
    "# **Pretrain a TF model to imitate federated learning**"
   ]
  },
  {
   "cell_type": "code",
   "execution_count": 1,
   "id": "f64db9f7-5f59-4a23-a501-4c2360430cef",
   "metadata": {},
   "outputs": [],
   "source": [
    "import numpy as np\n",
    "import pandas as pd\n",
    "\n",
    "import matplotlib.pyplot as plt"
   ]
  },
  {
   "cell_type": "code",
   "execution_count": 2,
   "id": "819e2fa0-009d-4ceb-91d9-2707590e5740",
   "metadata": {},
   "outputs": [],
   "source": [
    "import tensorflow as tf\n",
    "from tensorflow import keras\n",
    "from tensorflow.keras import layers"
   ]
  },
  {
   "cell_type": "code",
   "execution_count": 3,
   "id": "c7e3d989-e0ee-4841-89b6-9911790eb242",
   "metadata": {},
   "outputs": [],
   "source": [
    "import json"
   ]
  },
  {
   "cell_type": "code",
   "execution_count": 4,
   "id": "e83de654-055a-421e-8880-3a1f480ddca4",
   "metadata": {},
   "outputs": [],
   "source": [
    "RESULTS_ROOT = \"../01_simulation/04_results/\"\n",
    "SEEDS = ['42', '1234', '1867', '613', '1001']"
   ]
  },
  {
   "cell_type": "code",
   "execution_count": 5,
   "id": "9aa663c4-b449-42d8-98b2-8a0a21c03b6f",
   "metadata": {},
   "outputs": [],
   "source": [
    "p_data = pd.DataFrame()\n",
    "#READING DATA:\n",
    "for s in SEEDS:\n",
    "    filename = RESULTS_ROOT+f'poccup_by_vehs_{s}.csv'\n",
    "    pf = pd.read_csv(filename)\n",
    "    pf[\"seed\"] = [s]*len(pf)\n",
    "    p_data = pd.concat([p_data, pf])\n",
    "    "
   ]
  },
  {
   "cell_type": "code",
   "execution_count": 6,
   "id": "d97c4bdd-41e9-49b6-b29c-82954069ebc1",
   "metadata": {},
   "outputs": [],
   "source": [
    "def combine_commuters(veh_id):\n",
    "    if veh_id.startswith(\"carIn\"):\n",
    "        return veh_id.split(\":\")[0]\n",
    "    return veh_id"
   ]
  },
  {
   "cell_type": "code",
   "execution_count": 7,
   "id": "8ba6ffea-cb0e-4274-b050-378c18c64a11",
   "metadata": {},
   "outputs": [],
   "source": [
    "p_data[\"veh_id\"] = p_data[\"veh_id\"].apply(combine_commuters)"
   ]
  },
  {
   "cell_type": "code",
   "execution_count": 8,
   "id": "30e91d6e-510f-46b9-ace1-aed0be520745",
   "metadata": {},
   "outputs": [
    {
     "data": {
      "text/plain": [
       "4644"
      ]
     },
     "execution_count": 8,
     "metadata": {},
     "output_type": "execute_result"
    }
   ],
   "source": [
    "len(p_data[\"veh_id\"].unique())"
   ]
  },
  {
   "cell_type": "code",
   "execution_count": 9,
   "id": "090c0d91-1b5d-41e9-a9ce-d7bc35374acf",
   "metadata": {},
   "outputs": [],
   "source": [
    "parkings = p_data[\"parking_id\"].unique()"
   ]
  },
  {
   "cell_type": "code",
   "execution_count": 10,
   "id": "856550b3-30f7-4cb5-83be-83a75987ef3e",
   "metadata": {},
   "outputs": [],
   "source": [
    "p_data = pd.get_dummies(p_data, columns=[\"parking_id\"])\n",
    "p_data[\"time\"] = p_data[\"time\"] - 4*24*60*60\n",
    "p_data[\"time\"] = p_data[\"time\"].astype(int)\n",
    "p_data[\"time_of_day\"] = (p_data[\"time\"] - (p_data[\"time\"] // (24*60*60))*24*60*60) / (24*60*60) #converting to 0.0-1.0 and removing periodicity"
   ]
  },
  {
   "cell_type": "code",
   "execution_count": 11,
   "id": "5d20713d-6bfc-4836-ab64-45461dd71861",
   "metadata": {},
   "outputs": [],
   "source": [
    "column_dict = {}\n",
    "for_columns_data = p_data.head()\n",
    "for_columns_data = for_columns_data.drop(columns=[\"veh_id\", \"time\", \"occupancy\", \"seed\", \"occupancy\"])\n",
    "cols = list(for_columns_data.columns)\n",
    "for p in parkings:\n",
    "    column_dict[p] = cols.index(f\"parking_id_{p}\")"
   ]
  },
  {
   "cell_type": "code",
   "execution_count": 12,
   "id": "6034f60e-5a53-4b39-9107-5f8e6e11cdb2",
   "metadata": {},
   "outputs": [],
   "source": [
    "with open(\"one_hot_encoding_dict.json\", \"w\") as f:\n",
    "    json.dump(column_dict, f)"
   ]
  },
  {
   "cell_type": "markdown",
   "id": "9112903b-bdc5-4c5d-a6a0-6e2c9037edfb",
   "metadata": {
    "jp-MarkdownHeadingCollapsed": true,
    "tags": []
   },
   "source": [
    "## Create vehicle list"
   ]
  },
  {
   "cell_type": "code",
   "execution_count": 13,
   "id": "3faece9c-6b86-48e8-88eb-2b52dcf32e3d",
   "metadata": {},
   "outputs": [],
   "source": [
    "vehicles = np.random.choice(p_data[\"veh_id\"].unique(), 4300, replace=False) #out of 4644 vehicles\n",
    "test_vehicles = np.random.choice(p_data[~p_data[\"veh_id\"].isin(vehicles)][\"veh_id\"].unique(), 300, replace=False)"
   ]
  },
  {
   "cell_type": "code",
   "execution_count": 14,
   "id": "72a736bb-09bc-4bc5-82a5-af8a4c7492b1",
   "metadata": {},
   "outputs": [],
   "source": [
    "# save the list of selected vehicles:\n",
    "import json\n",
    "\n",
    "save_vehs = {\n",
    "    \"train_vehs\": list(vehicles),\n",
    "    \"test_vehs\" : list(test_vehicles)\n",
    "}\n",
    "with open(\"veh_list.json\", \"w\") as f:\n",
    "    json.dump(save_vehs, f)"
   ]
  },
  {
   "cell_type": "markdown",
   "id": "34658f11-0614-4897-902b-c6eb69b63a93",
   "metadata": {
    "tags": []
   },
   "source": [
    "## Load vehicle list"
   ]
  },
  {
   "cell_type": "code",
   "execution_count": 13,
   "id": "c51a784c-1676-4766-ba52-f647271732a6",
   "metadata": {},
   "outputs": [],
   "source": [
    "#loading the list selected vehicles:\n",
    "with open(\"veh_list.json\", \"r\") as f:\n",
    "    saved_vehs = json.load(f)\n",
    "vehicles = saved_vehs[\"train_vehs\"]"
   ]
  },
  {
   "cell_type": "markdown",
   "id": "141a214f-d472-450b-ad73-97f935a39c76",
   "metadata": {},
   "source": [
    "## Training"
   ]
  },
  {
   "cell_type": "code",
   "execution_count": 14,
   "id": "03e8a43f-d4ec-4176-aba8-8dbd7918b303",
   "metadata": {},
   "outputs": [],
   "source": [
    "p_train = p_data[p_data[\"veh_id\"].isin(vehicles)]"
   ]
  },
  {
   "cell_type": "code",
   "execution_count": 15,
   "id": "5eb9a1a2-b9c8-48db-b2d1-527a5147847b",
   "metadata": {},
   "outputs": [
    {
     "name": "stderr",
     "output_type": "stream",
     "text": [
      "2024-05-07 16:10:09.164661: I tensorflow/stream_executor/cuda/cuda_gpu_executor.cc:975] successful NUMA node read from SysFS had negative value (-1), but there must be at least one NUMA node, so returning NUMA node zero\n",
      "2024-05-07 16:10:09.177782: I tensorflow/stream_executor/cuda/cuda_gpu_executor.cc:975] successful NUMA node read from SysFS had negative value (-1), but there must be at least one NUMA node, so returning NUMA node zero\n",
      "2024-05-07 16:10:09.177953: I tensorflow/stream_executor/cuda/cuda_gpu_executor.cc:975] successful NUMA node read from SysFS had negative value (-1), but there must be at least one NUMA node, so returning NUMA node zero\n",
      "2024-05-07 16:10:09.178701: I tensorflow/core/platform/cpu_feature_guard.cc:193] This TensorFlow binary is optimized with oneAPI Deep Neural Network Library (oneDNN) to use the following CPU instructions in performance-critical operations:  AVX2 FMA\n",
      "To enable them in other operations, rebuild TensorFlow with the appropriate compiler flags.\n",
      "2024-05-07 16:10:09.179124: I tensorflow/stream_executor/cuda/cuda_gpu_executor.cc:975] successful NUMA node read from SysFS had negative value (-1), but there must be at least one NUMA node, so returning NUMA node zero\n",
      "2024-05-07 16:10:09.179253: I tensorflow/stream_executor/cuda/cuda_gpu_executor.cc:975] successful NUMA node read from SysFS had negative value (-1), but there must be at least one NUMA node, so returning NUMA node zero\n",
      "2024-05-07 16:10:09.179362: I tensorflow/stream_executor/cuda/cuda_gpu_executor.cc:975] successful NUMA node read from SysFS had negative value (-1), but there must be at least one NUMA node, so returning NUMA node zero\n",
      "2024-05-07 16:10:09.234343: I tensorflow/stream_executor/cuda/cuda_gpu_executor.cc:975] successful NUMA node read from SysFS had negative value (-1), but there must be at least one NUMA node, so returning NUMA node zero\n",
      "2024-05-07 16:10:09.234486: I tensorflow/stream_executor/cuda/cuda_gpu_executor.cc:975] successful NUMA node read from SysFS had negative value (-1), but there must be at least one NUMA node, so returning NUMA node zero\n",
      "2024-05-07 16:10:09.234598: I tensorflow/stream_executor/cuda/cuda_gpu_executor.cc:975] successful NUMA node read from SysFS had negative value (-1), but there must be at least one NUMA node, so returning NUMA node zero\n",
      "2024-05-07 16:10:09.234700: I tensorflow/core/common_runtime/gpu/gpu_device.cc:1532] Created device /job:localhost/replica:0/task:0/device:GPU:0 with 10338 MB memory:  -> device: 0, name: NVIDIA GeForce RTX 3060, pci bus id: 0000:08:00.0, compute capability: 8.6\n"
     ]
    }
   ],
   "source": [
    "model = keras.Sequential([\n",
    "    layers.Dense(64, activation=\"relu\"),\n",
    "    layers.Dense(128, activation=\"relu\"),\n",
    "    layers.Dense(64, activation=\"relu\"),\n",
    "    layers.Dense(1)\n",
    "])\n",
    "\n",
    "model.compile(loss=\"mse\", optimizer=tf.keras.optimizers.Adam(0.001))\n",
    "callbacks = [tf.keras.callbacks.EarlyStopping(monitor=\"loss\", patience=3)]"
   ]
  },
  {
   "cell_type": "code",
   "execution_count": 16,
   "id": "04c5dfab-1412-425a-b1f3-a043f7fd4eee",
   "metadata": {},
   "outputs": [],
   "source": [
    "X_train = p_train.drop(columns=[\"veh_id\", \"time\", \"occupancy\", \"seed\"])\n",
    "y_train = p_train[\"occupancy\"]"
   ]
  },
  {
   "cell_type": "code",
   "execution_count": 17,
   "id": "b14b0e7d-75da-4a25-904a-3964fa4fdd51",
   "metadata": {},
   "outputs": [
    {
     "name": "stdout",
     "output_type": "stream",
     "text": [
      "Epoch 1/5\n",
      " 46/100 [============>.................] - ETA: 0s - loss: 0.1168"
     ]
    },
    {
     "name": "stderr",
     "output_type": "stream",
     "text": [
      "2024-05-07 16:10:11.147046: I tensorflow/stream_executor/cuda/cuda_blas.cc:1786] TensorFloat-32 will be used for the matrix multiplication. This will only be logged once.\n"
     ]
    },
    {
     "name": "stdout",
     "output_type": "stream",
     "text": [
      "100/100 [==============================] - 1s 2ms/step - loss: 0.0808\n",
      "Epoch 2/5\n",
      "100/100 [==============================] - 0s 2ms/step - loss: 0.0374\n",
      "Epoch 3/5\n",
      "100/100 [==============================] - 0s 2ms/step - loss: 0.0185\n",
      "Epoch 4/5\n",
      "100/100 [==============================] - 0s 2ms/step - loss: 0.0075\n",
      "Epoch 5/5\n",
      "100/100 [==============================] - 0s 2ms/step - loss: 0.0048\n",
      "Epoch 1/5\n",
      "100/100 [==============================] - 0s 2ms/step - loss: 0.0038\n",
      "Epoch 2/5\n",
      "100/100 [==============================] - 0s 2ms/step - loss: 0.0033\n",
      "Epoch 3/5\n",
      "100/100 [==============================] - 0s 2ms/step - loss: 0.0030\n",
      "Epoch 4/5\n",
      "100/100 [==============================] - 0s 2ms/step - loss: 0.0028\n",
      "Epoch 5/5\n",
      "100/100 [==============================] - 0s 2ms/step - loss: 0.0027\n",
      "Epoch 1/5\n",
      "100/100 [==============================] - 0s 2ms/step - loss: 0.0026\n",
      "Epoch 2/5\n",
      "100/100 [==============================] - 0s 2ms/step - loss: 0.0026\n",
      "Epoch 3/5\n",
      "100/100 [==============================] - 0s 2ms/step - loss: 0.0025\n",
      "Epoch 4/5\n",
      "100/100 [==============================] - 0s 2ms/step - loss: 0.0025\n",
      "Epoch 5/5\n",
      "100/100 [==============================] - 0s 2ms/step - loss: 0.0025\n",
      "Epoch 1/5\n",
      "100/100 [==============================] - 0s 2ms/step - loss: 0.0024\n",
      "Epoch 2/5\n",
      "100/100 [==============================] - 0s 2ms/step - loss: 0.0024\n",
      "Epoch 3/5\n",
      "100/100 [==============================] - 0s 2ms/step - loss: 0.0024\n",
      "Epoch 4/5\n",
      "100/100 [==============================] - 0s 2ms/step - loss: 0.0023\n",
      "Epoch 5/5\n",
      "100/100 [==============================] - 0s 2ms/step - loss: 0.0023\n",
      "Epoch 1/5\n",
      "100/100 [==============================] - 0s 2ms/step - loss: 0.0023\n",
      "Epoch 2/5\n",
      "100/100 [==============================] - 0s 2ms/step - loss: 0.0023\n",
      "Epoch 3/5\n",
      "100/100 [==============================] - 0s 2ms/step - loss: 0.0023\n",
      "Epoch 4/5\n",
      "100/100 [==============================] - 0s 2ms/step - loss: 0.0023\n",
      "Epoch 5/5\n",
      "100/100 [==============================] - 0s 2ms/step - loss: 0.0023\n",
      "Epoch 1/5\n",
      "100/100 [==============================] - 0s 2ms/step - loss: 0.0023\n",
      "Epoch 2/5\n",
      "100/100 [==============================] - 0s 2ms/step - loss: 0.0023\n",
      "Epoch 3/5\n",
      "100/100 [==============================] - 0s 2ms/step - loss: 0.0023\n",
      "Epoch 4/5\n",
      "100/100 [==============================] - 0s 2ms/step - loss: 0.0022\n",
      "Epoch 5/5\n",
      "100/100 [==============================] - 0s 2ms/step - loss: 0.0022\n",
      "Epoch 1/5\n",
      "100/100 [==============================] - 0s 2ms/step - loss: 0.0023\n",
      "Epoch 2/5\n",
      "100/100 [==============================] - 0s 2ms/step - loss: 0.0022\n",
      "Epoch 3/5\n",
      "100/100 [==============================] - 0s 2ms/step - loss: 0.0022\n",
      "Epoch 4/5\n",
      "100/100 [==============================] - 0s 2ms/step - loss: 0.0022\n",
      "Epoch 5/5\n",
      "100/100 [==============================] - 0s 2ms/step - loss: 0.0022\n",
      "Epoch 1/5\n",
      "100/100 [==============================] - 0s 2ms/step - loss: 0.0022\n",
      "Epoch 2/5\n",
      "100/100 [==============================] - 0s 2ms/step - loss: 0.0022\n",
      "Epoch 3/5\n",
      "100/100 [==============================] - 0s 2ms/step - loss: 0.0022\n",
      "Epoch 4/5\n",
      "100/100 [==============================] - 0s 2ms/step - loss: 0.0022\n",
      "Epoch 5/5\n",
      "100/100 [==============================] - 0s 2ms/step - loss: 0.0022\n",
      "Epoch 1/5\n",
      "100/100 [==============================] - 0s 3ms/step - loss: 0.0022\n",
      "Epoch 2/5\n",
      "100/100 [==============================] - 0s 2ms/step - loss: 0.0022\n",
      "Epoch 3/5\n",
      "100/100 [==============================] - 0s 2ms/step - loss: 0.0022\n",
      "Epoch 4/5\n",
      "100/100 [==============================] - 0s 2ms/step - loss: 0.0022\n",
      "Epoch 5/5\n",
      "100/100 [==============================] - 0s 2ms/step - loss: 0.0022\n",
      "Epoch 1/5\n",
      "100/100 [==============================] - 0s 2ms/step - loss: 0.0022\n",
      "Epoch 2/5\n",
      "100/100 [==============================] - 0s 2ms/step - loss: 0.0022\n",
      "Epoch 3/5\n",
      "100/100 [==============================] - 0s 2ms/step - loss: 0.0022\n",
      "Epoch 4/5\n",
      "100/100 [==============================] - 0s 2ms/step - loss: 0.0022\n",
      "Epoch 5/5\n",
      "100/100 [==============================] - 0s 2ms/step - loss: 0.0023\n",
      "Epoch 1/5\n",
      "100/100 [==============================] - 0s 2ms/step - loss: 0.0022\n",
      "Epoch 2/5\n",
      "100/100 [==============================] - 0s 2ms/step - loss: 0.0022\n",
      "Epoch 3/5\n",
      "100/100 [==============================] - 0s 2ms/step - loss: 0.0022\n",
      "Epoch 4/5\n",
      "100/100 [==============================] - 0s 2ms/step - loss: 0.0021\n",
      "Epoch 5/5\n",
      "100/100 [==============================] - 0s 2ms/step - loss: 0.0022\n",
      "Epoch 1/5\n",
      "100/100 [==============================] - 0s 2ms/step - loss: 0.0022\n",
      "Epoch 2/5\n",
      "100/100 [==============================] - 0s 2ms/step - loss: 0.0022\n",
      "Epoch 3/5\n",
      "100/100 [==============================] - 0s 2ms/step - loss: 0.0022\n",
      "Epoch 4/5\n",
      "100/100 [==============================] - 0s 2ms/step - loss: 0.0022\n",
      "Epoch 5/5\n",
      "100/100 [==============================] - 0s 2ms/step - loss: 0.0022\n",
      "Epoch 1/5\n",
      "100/100 [==============================] - 0s 2ms/step - loss: 0.0022\n",
      "Epoch 2/5\n",
      "100/100 [==============================] - 0s 2ms/step - loss: 0.0021\n",
      "Epoch 3/5\n",
      "100/100 [==============================] - 0s 2ms/step - loss: 0.0022\n",
      "Epoch 4/5\n",
      "100/100 [==============================] - 0s 2ms/step - loss: 0.0022\n",
      "Epoch 5/5\n",
      "100/100 [==============================] - 0s 2ms/step - loss: 0.0021\n",
      "Epoch 1/5\n",
      "100/100 [==============================] - 0s 2ms/step - loss: 0.0021\n",
      "Epoch 2/5\n",
      "100/100 [==============================] - 0s 2ms/step - loss: 0.0022\n",
      "Epoch 3/5\n",
      "100/100 [==============================] - 0s 2ms/step - loss: 0.0021\n",
      "Epoch 4/5\n",
      "100/100 [==============================] - 0s 2ms/step - loss: 0.0021\n",
      "Epoch 5/5\n",
      "100/100 [==============================] - 0s 2ms/step - loss: 0.0021\n",
      "Epoch 1/5\n",
      "100/100 [==============================] - 0s 2ms/step - loss: 0.0022\n",
      "Epoch 2/5\n",
      "100/100 [==============================] - 0s 2ms/step - loss: 0.0021\n",
      "Epoch 3/5\n",
      "100/100 [==============================] - 0s 2ms/step - loss: 0.0021\n",
      "Epoch 4/5\n",
      "100/100 [==============================] - 0s 2ms/step - loss: 0.0021\n",
      "Epoch 5/5\n",
      "100/100 [==============================] - 0s 2ms/step - loss: 0.0021\n",
      "Epoch 1/5\n",
      "100/100 [==============================] - 0s 2ms/step - loss: 0.0022\n",
      "Epoch 2/5\n",
      "100/100 [==============================] - 0s 2ms/step - loss: 0.0022\n",
      "Epoch 3/5\n",
      "100/100 [==============================] - 0s 2ms/step - loss: 0.0021\n",
      "Epoch 4/5\n",
      "100/100 [==============================] - 0s 2ms/step - loss: 0.0021\n",
      "Epoch 5/5\n",
      "100/100 [==============================] - 0s 2ms/step - loss: 0.0021\n",
      "Epoch 1/5\n",
      "100/100 [==============================] - 0s 2ms/step - loss: 0.0022\n",
      "Epoch 2/5\n",
      "100/100 [==============================] - 0s 2ms/step - loss: 0.0021\n",
      "Epoch 3/5\n",
      "100/100 [==============================] - 0s 2ms/step - loss: 0.0022\n",
      "Epoch 4/5\n",
      "100/100 [==============================] - 0s 2ms/step - loss: 0.0022\n",
      "Epoch 5/5\n",
      "100/100 [==============================] - 0s 2ms/step - loss: 0.0021\n",
      "Epoch 1/5\n",
      "100/100 [==============================] - 0s 2ms/step - loss: 0.0022\n",
      "Epoch 2/5\n",
      "100/100 [==============================] - 0s 2ms/step - loss: 0.0022\n",
      "Epoch 3/5\n",
      "100/100 [==============================] - 0s 2ms/step - loss: 0.0021\n",
      "Epoch 4/5\n",
      "100/100 [==============================] - 0s 2ms/step - loss: 0.0021\n",
      "Epoch 5/5\n",
      "100/100 [==============================] - 0s 2ms/step - loss: 0.0021\n",
      "Epoch 1/5\n",
      "100/100 [==============================] - 0s 2ms/step - loss: 0.0021\n",
      "Epoch 2/5\n",
      "100/100 [==============================] - 0s 2ms/step - loss: 0.0022\n",
      "Epoch 3/5\n",
      "100/100 [==============================] - 0s 2ms/step - loss: 0.0022\n",
      "Epoch 4/5\n",
      "100/100 [==============================] - 0s 2ms/step - loss: 0.0021\n",
      "Epoch 5/5\n",
      "100/100 [==============================] - 0s 2ms/step - loss: 0.0021\n",
      "Epoch 1/5\n",
      "100/100 [==============================] - 0s 2ms/step - loss: 0.0021\n",
      "Epoch 2/5\n",
      "100/100 [==============================] - 0s 2ms/step - loss: 0.0021\n",
      "Epoch 3/5\n",
      "100/100 [==============================] - 0s 2ms/step - loss: 0.0021\n",
      "Epoch 4/5\n",
      "100/100 [==============================] - 0s 2ms/step - loss: 0.0021\n",
      "Epoch 5/5\n",
      "100/100 [==============================] - 0s 2ms/step - loss: 0.0022\n",
      "Epoch 1/5\n",
      "100/100 [==============================] - 0s 2ms/step - loss: 0.0021\n",
      "Epoch 2/5\n",
      "100/100 [==============================] - 0s 2ms/step - loss: 0.0021\n",
      "Epoch 3/5\n",
      "100/100 [==============================] - 0s 2ms/step - loss: 0.0021\n",
      "Epoch 4/5\n",
      "100/100 [==============================] - 0s 2ms/step - loss: 0.0021\n",
      "Epoch 5/5\n",
      "100/100 [==============================] - 0s 2ms/step - loss: 0.0021\n",
      "Epoch 1/5\n",
      "100/100 [==============================] - 0s 2ms/step - loss: 0.0021\n",
      "Epoch 2/5\n",
      "100/100 [==============================] - 0s 2ms/step - loss: 0.0022\n",
      "Epoch 3/5\n",
      "100/100 [==============================] - 0s 2ms/step - loss: 0.0021\n",
      "Epoch 4/5\n",
      "100/100 [==============================] - 0s 2ms/step - loss: 0.0021\n",
      "Epoch 5/5\n",
      "100/100 [==============================] - 0s 2ms/step - loss: 0.0021\n",
      "Epoch 1/5\n",
      "100/100 [==============================] - 0s 2ms/step - loss: 0.0021\n",
      "Epoch 2/5\n",
      "100/100 [==============================] - 0s 2ms/step - loss: 0.0021\n",
      "Epoch 3/5\n",
      "100/100 [==============================] - 0s 2ms/step - loss: 0.0021\n",
      "Epoch 4/5\n",
      "100/100 [==============================] - 0s 2ms/step - loss: 0.0021\n",
      "Epoch 5/5\n",
      "100/100 [==============================] - 0s 2ms/step - loss: 0.0021\n",
      "Epoch 1/5\n",
      "100/100 [==============================] - 0s 2ms/step - loss: 0.0021\n",
      "Epoch 2/5\n",
      "100/100 [==============================] - 0s 2ms/step - loss: 0.0022\n",
      "Epoch 3/5\n",
      "100/100 [==============================] - 0s 2ms/step - loss: 0.0021\n",
      "Epoch 4/5\n",
      "100/100 [==============================] - 0s 2ms/step - loss: 0.0021\n",
      "Epoch 5/5\n",
      "100/100 [==============================] - 0s 2ms/step - loss: 0.0021\n",
      "Epoch 1/5\n",
      "100/100 [==============================] - 0s 2ms/step - loss: 0.0021\n",
      "Epoch 2/5\n",
      "100/100 [==============================] - 0s 2ms/step - loss: 0.0021\n",
      "Epoch 3/5\n",
      "100/100 [==============================] - 0s 2ms/step - loss: 0.0021\n",
      "Epoch 4/5\n",
      "100/100 [==============================] - 0s 2ms/step - loss: 0.0021\n",
      "Epoch 5/5\n",
      "100/100 [==============================] - 0s 2ms/step - loss: 0.0021\n",
      "Epoch 1/5\n",
      "100/100 [==============================] - 0s 2ms/step - loss: 0.0021\n",
      "Epoch 2/5\n",
      "100/100 [==============================] - 0s 2ms/step - loss: 0.0021\n",
      "Epoch 3/5\n",
      "100/100 [==============================] - 0s 2ms/step - loss: 0.0021\n",
      "Epoch 4/5\n",
      "100/100 [==============================] - 0s 2ms/step - loss: 0.0021\n",
      "Epoch 5/5\n",
      "100/100 [==============================] - 0s 2ms/step - loss: 0.0021\n",
      "Epoch 1/5\n",
      "100/100 [==============================] - 0s 2ms/step - loss: 0.0021\n",
      "Epoch 2/5\n",
      "100/100 [==============================] - 0s 2ms/step - loss: 0.0021\n",
      "Epoch 3/5\n",
      "100/100 [==============================] - 0s 2ms/step - loss: 0.0021\n",
      "Epoch 4/5\n",
      "100/100 [==============================] - 0s 2ms/step - loss: 0.0021\n"
     ]
    }
   ],
   "source": [
    "train_indices = np.random.randint(0, len(X_train), 1000000)\n",
    "x_train_batch = X_train.iloc[train_indices]\n",
    "y_train_batch = y_train.iloc[train_indices]\n",
    "history = model.fit(x=x_train_batch, y=y_train_batch, epochs=5, batch_size=10000, callbacks=callbacks)\n",
    "while len(history.history[\"loss\"])%5 == 0:\n",
    "    history = model.fit(x=x_train_batch, y=y_train_batch, epochs=5, batch_size=10000, callbacks=callbacks)"
   ]
  },
  {
   "cell_type": "markdown",
   "id": "a1bc9891-77aa-4151-80ac-27168135cc82",
   "metadata": {},
   "source": [
    "## **Checking**"
   ]
  },
  {
   "cell_type": "code",
   "execution_count": 18,
   "id": "0c1f2617-a79a-4d15-b093-aa914d53e401",
   "metadata": {},
   "outputs": [
    {
     "data": {
      "text/html": [
       "<div>\n",
       "<style scoped>\n",
       "    .dataframe tbody tr th:only-of-type {\n",
       "        vertical-align: middle;\n",
       "    }\n",
       "\n",
       "    .dataframe tbody tr th {\n",
       "        vertical-align: top;\n",
       "    }\n",
       "\n",
       "    .dataframe thead th {\n",
       "        text-align: right;\n",
       "    }\n",
       "</style>\n",
       "<table border=\"1\" class=\"dataframe\">\n",
       "  <thead>\n",
       "    <tr style=\"text-align: right;\">\n",
       "      <th></th>\n",
       "      <th>veh_id</th>\n",
       "      <th>time</th>\n",
       "      <th>occupancy</th>\n",
       "      <th>seed</th>\n",
       "      <th>parking_id_pa-109</th>\n",
       "      <th>parking_id_pa-11</th>\n",
       "      <th>parking_id_pa-120</th>\n",
       "      <th>parking_id_pa-123</th>\n",
       "      <th>parking_id_pa-131</th>\n",
       "      <th>parking_id_pa-144</th>\n",
       "      <th>...</th>\n",
       "      <th>parking_id_pa55</th>\n",
       "      <th>parking_id_pa58</th>\n",
       "      <th>parking_id_pa60</th>\n",
       "      <th>parking_id_pa64</th>\n",
       "      <th>parking_id_pa68</th>\n",
       "      <th>parking_id_pa71</th>\n",
       "      <th>parking_id_pa75</th>\n",
       "      <th>parking_id_pa79</th>\n",
       "      <th>parking_id_pa92</th>\n",
       "      <th>time_of_day</th>\n",
       "    </tr>\n",
       "  </thead>\n",
       "  <tbody>\n",
       "    <tr>\n",
       "      <th>0</th>\n",
       "      <td>h3098c1:0</td>\n",
       "      <td>10</td>\n",
       "      <td>0.923077</td>\n",
       "      <td>42</td>\n",
       "      <td>0</td>\n",
       "      <td>0</td>\n",
       "      <td>0</td>\n",
       "      <td>0</td>\n",
       "      <td>0</td>\n",
       "      <td>0</td>\n",
       "      <td>...</td>\n",
       "      <td>0</td>\n",
       "      <td>0</td>\n",
       "      <td>0</td>\n",
       "      <td>0</td>\n",
       "      <td>0</td>\n",
       "      <td>0</td>\n",
       "      <td>0</td>\n",
       "      <td>0</td>\n",
       "      <td>0</td>\n",
       "      <td>0.000116</td>\n",
       "    </tr>\n",
       "    <tr>\n",
       "      <th>1</th>\n",
       "      <td>h3098c1:0</td>\n",
       "      <td>10</td>\n",
       "      <td>0.842105</td>\n",
       "      <td>42</td>\n",
       "      <td>0</td>\n",
       "      <td>0</td>\n",
       "      <td>0</td>\n",
       "      <td>0</td>\n",
       "      <td>0</td>\n",
       "      <td>0</td>\n",
       "      <td>...</td>\n",
       "      <td>0</td>\n",
       "      <td>0</td>\n",
       "      <td>0</td>\n",
       "      <td>0</td>\n",
       "      <td>0</td>\n",
       "      <td>0</td>\n",
       "      <td>0</td>\n",
       "      <td>0</td>\n",
       "      <td>0</td>\n",
       "      <td>0.000116</td>\n",
       "    </tr>\n",
       "    <tr>\n",
       "      <th>2</th>\n",
       "      <td>h3098c1:0</td>\n",
       "      <td>10</td>\n",
       "      <td>0.769231</td>\n",
       "      <td>42</td>\n",
       "      <td>0</td>\n",
       "      <td>0</td>\n",
       "      <td>0</td>\n",
       "      <td>0</td>\n",
       "      <td>0</td>\n",
       "      <td>0</td>\n",
       "      <td>...</td>\n",
       "      <td>0</td>\n",
       "      <td>0</td>\n",
       "      <td>0</td>\n",
       "      <td>0</td>\n",
       "      <td>0</td>\n",
       "      <td>0</td>\n",
       "      <td>0</td>\n",
       "      <td>0</td>\n",
       "      <td>0</td>\n",
       "      <td>0.000116</td>\n",
       "    </tr>\n",
       "    <tr>\n",
       "      <th>3</th>\n",
       "      <td>h3098c1:0</td>\n",
       "      <td>11</td>\n",
       "      <td>0.923077</td>\n",
       "      <td>42</td>\n",
       "      <td>0</td>\n",
       "      <td>0</td>\n",
       "      <td>0</td>\n",
       "      <td>0</td>\n",
       "      <td>0</td>\n",
       "      <td>0</td>\n",
       "      <td>...</td>\n",
       "      <td>0</td>\n",
       "      <td>0</td>\n",
       "      <td>0</td>\n",
       "      <td>0</td>\n",
       "      <td>0</td>\n",
       "      <td>0</td>\n",
       "      <td>0</td>\n",
       "      <td>0</td>\n",
       "      <td>0</td>\n",
       "      <td>0.000127</td>\n",
       "    </tr>\n",
       "    <tr>\n",
       "      <th>4</th>\n",
       "      <td>h3098c1:0</td>\n",
       "      <td>11</td>\n",
       "      <td>0.842105</td>\n",
       "      <td>42</td>\n",
       "      <td>0</td>\n",
       "      <td>0</td>\n",
       "      <td>0</td>\n",
       "      <td>0</td>\n",
       "      <td>0</td>\n",
       "      <td>0</td>\n",
       "      <td>...</td>\n",
       "      <td>0</td>\n",
       "      <td>0</td>\n",
       "      <td>0</td>\n",
       "      <td>0</td>\n",
       "      <td>0</td>\n",
       "      <td>0</td>\n",
       "      <td>0</td>\n",
       "      <td>0</td>\n",
       "      <td>0</td>\n",
       "      <td>0.000127</td>\n",
       "    </tr>\n",
       "    <tr>\n",
       "      <th>...</th>\n",
       "      <td>...</td>\n",
       "      <td>...</td>\n",
       "      <td>...</td>\n",
       "      <td>...</td>\n",
       "      <td>...</td>\n",
       "      <td>...</td>\n",
       "      <td>...</td>\n",
       "      <td>...</td>\n",
       "      <td>...</td>\n",
       "      <td>...</td>\n",
       "      <td>...</td>\n",
       "      <td>...</td>\n",
       "      <td>...</td>\n",
       "      <td>...</td>\n",
       "      <td>...</td>\n",
       "      <td>...</td>\n",
       "      <td>...</td>\n",
       "      <td>...</td>\n",
       "      <td>...</td>\n",
       "      <td>...</td>\n",
       "      <td>...</td>\n",
       "    </tr>\n",
       "    <tr>\n",
       "      <th>3128768</th>\n",
       "      <td>h798c1:0</td>\n",
       "      <td>432000</td>\n",
       "      <td>0.000000</td>\n",
       "      <td>1001</td>\n",
       "      <td>0</td>\n",
       "      <td>0</td>\n",
       "      <td>0</td>\n",
       "      <td>0</td>\n",
       "      <td>0</td>\n",
       "      <td>0</td>\n",
       "      <td>...</td>\n",
       "      <td>0</td>\n",
       "      <td>0</td>\n",
       "      <td>0</td>\n",
       "      <td>0</td>\n",
       "      <td>0</td>\n",
       "      <td>0</td>\n",
       "      <td>0</td>\n",
       "      <td>0</td>\n",
       "      <td>0</td>\n",
       "      <td>0.000000</td>\n",
       "    </tr>\n",
       "    <tr>\n",
       "      <th>3128769</th>\n",
       "      <td>h798c1:0</td>\n",
       "      <td>432000</td>\n",
       "      <td>0.750000</td>\n",
       "      <td>1001</td>\n",
       "      <td>0</td>\n",
       "      <td>0</td>\n",
       "      <td>0</td>\n",
       "      <td>0</td>\n",
       "      <td>0</td>\n",
       "      <td>0</td>\n",
       "      <td>...</td>\n",
       "      <td>0</td>\n",
       "      <td>0</td>\n",
       "      <td>0</td>\n",
       "      <td>0</td>\n",
       "      <td>0</td>\n",
       "      <td>0</td>\n",
       "      <td>0</td>\n",
       "      <td>0</td>\n",
       "      <td>0</td>\n",
       "      <td>0.000000</td>\n",
       "    </tr>\n",
       "    <tr>\n",
       "      <th>3128770</th>\n",
       "      <td>h3101c1:0</td>\n",
       "      <td>432000</td>\n",
       "      <td>0.428571</td>\n",
       "      <td>1001</td>\n",
       "      <td>0</td>\n",
       "      <td>1</td>\n",
       "      <td>0</td>\n",
       "      <td>0</td>\n",
       "      <td>0</td>\n",
       "      <td>0</td>\n",
       "      <td>...</td>\n",
       "      <td>0</td>\n",
       "      <td>0</td>\n",
       "      <td>0</td>\n",
       "      <td>0</td>\n",
       "      <td>0</td>\n",
       "      <td>0</td>\n",
       "      <td>0</td>\n",
       "      <td>0</td>\n",
       "      <td>0</td>\n",
       "      <td>0.000000</td>\n",
       "    </tr>\n",
       "    <tr>\n",
       "      <th>3128771</th>\n",
       "      <td>h3101c1:0</td>\n",
       "      <td>432000</td>\n",
       "      <td>0.000000</td>\n",
       "      <td>1001</td>\n",
       "      <td>0</td>\n",
       "      <td>0</td>\n",
       "      <td>0</td>\n",
       "      <td>0</td>\n",
       "      <td>0</td>\n",
       "      <td>0</td>\n",
       "      <td>...</td>\n",
       "      <td>0</td>\n",
       "      <td>0</td>\n",
       "      <td>0</td>\n",
       "      <td>0</td>\n",
       "      <td>0</td>\n",
       "      <td>0</td>\n",
       "      <td>0</td>\n",
       "      <td>0</td>\n",
       "      <td>0</td>\n",
       "      <td>0.000000</td>\n",
       "    </tr>\n",
       "    <tr>\n",
       "      <th>3128772</th>\n",
       "      <td>h3101c1:0</td>\n",
       "      <td>432000</td>\n",
       "      <td>0.750000</td>\n",
       "      <td>1001</td>\n",
       "      <td>0</td>\n",
       "      <td>0</td>\n",
       "      <td>0</td>\n",
       "      <td>0</td>\n",
       "      <td>0</td>\n",
       "      <td>0</td>\n",
       "      <td>...</td>\n",
       "      <td>0</td>\n",
       "      <td>0</td>\n",
       "      <td>0</td>\n",
       "      <td>0</td>\n",
       "      <td>0</td>\n",
       "      <td>0</td>\n",
       "      <td>0</td>\n",
       "      <td>0</td>\n",
       "      <td>0</td>\n",
       "      <td>0.000000</td>\n",
       "    </tr>\n",
       "  </tbody>\n",
       "</table>\n",
       "<p>15678789 rows × 83 columns</p>\n",
       "</div>"
      ],
      "text/plain": [
       "            veh_id    time  occupancy  seed  parking_id_pa-109  \\\n",
       "0        h3098c1:0      10   0.923077    42                  0   \n",
       "1        h3098c1:0      10   0.842105    42                  0   \n",
       "2        h3098c1:0      10   0.769231    42                  0   \n",
       "3        h3098c1:0      11   0.923077    42                  0   \n",
       "4        h3098c1:0      11   0.842105    42                  0   \n",
       "...            ...     ...        ...   ...                ...   \n",
       "3128768   h798c1:0  432000   0.000000  1001                  0   \n",
       "3128769   h798c1:0  432000   0.750000  1001                  0   \n",
       "3128770  h3101c1:0  432000   0.428571  1001                  0   \n",
       "3128771  h3101c1:0  432000   0.000000  1001                  0   \n",
       "3128772  h3101c1:0  432000   0.750000  1001                  0   \n",
       "\n",
       "         parking_id_pa-11  parking_id_pa-120  parking_id_pa-123  \\\n",
       "0                       0                  0                  0   \n",
       "1                       0                  0                  0   \n",
       "2                       0                  0                  0   \n",
       "3                       0                  0                  0   \n",
       "4                       0                  0                  0   \n",
       "...                   ...                ...                ...   \n",
       "3128768                 0                  0                  0   \n",
       "3128769                 0                  0                  0   \n",
       "3128770                 1                  0                  0   \n",
       "3128771                 0                  0                  0   \n",
       "3128772                 0                  0                  0   \n",
       "\n",
       "         parking_id_pa-131  parking_id_pa-144  ...  parking_id_pa55  \\\n",
       "0                        0                  0  ...                0   \n",
       "1                        0                  0  ...                0   \n",
       "2                        0                  0  ...                0   \n",
       "3                        0                  0  ...                0   \n",
       "4                        0                  0  ...                0   \n",
       "...                    ...                ...  ...              ...   \n",
       "3128768                  0                  0  ...                0   \n",
       "3128769                  0                  0  ...                0   \n",
       "3128770                  0                  0  ...                0   \n",
       "3128771                  0                  0  ...                0   \n",
       "3128772                  0                  0  ...                0   \n",
       "\n",
       "         parking_id_pa58  parking_id_pa60  parking_id_pa64  parking_id_pa68  \\\n",
       "0                      0                0                0                0   \n",
       "1                      0                0                0                0   \n",
       "2                      0                0                0                0   \n",
       "3                      0                0                0                0   \n",
       "4                      0                0                0                0   \n",
       "...                  ...              ...              ...              ...   \n",
       "3128768                0                0                0                0   \n",
       "3128769                0                0                0                0   \n",
       "3128770                0                0                0                0   \n",
       "3128771                0                0                0                0   \n",
       "3128772                0                0                0                0   \n",
       "\n",
       "         parking_id_pa71  parking_id_pa75  parking_id_pa79  parking_id_pa92  \\\n",
       "0                      0                0                0                0   \n",
       "1                      0                0                0                0   \n",
       "2                      0                0                0                0   \n",
       "3                      0                0                0                0   \n",
       "4                      0                0                0                0   \n",
       "...                  ...              ...              ...              ...   \n",
       "3128768                0                0                0                0   \n",
       "3128769                0                0                0                0   \n",
       "3128770                0                0                0                0   \n",
       "3128771                0                0                0                0   \n",
       "3128772                0                0                0                0   \n",
       "\n",
       "         time_of_day  \n",
       "0           0.000116  \n",
       "1           0.000116  \n",
       "2           0.000116  \n",
       "3           0.000127  \n",
       "4           0.000127  \n",
       "...              ...  \n",
       "3128768     0.000000  \n",
       "3128769     0.000000  \n",
       "3128770     0.000000  \n",
       "3128771     0.000000  \n",
       "3128772     0.000000  \n",
       "\n",
       "[15678789 rows x 83 columns]"
      ]
     },
     "execution_count": 18,
     "metadata": {},
     "output_type": "execute_result"
    }
   ],
   "source": [
    "p_data"
   ]
  },
  {
   "cell_type": "code",
   "execution_count": 19,
   "id": "eb10587c-d8aa-449e-9729-91080daf7050",
   "metadata": {},
   "outputs": [],
   "source": [
    "#PARKING = \"pa184\"\n",
    "PARKING = \"pa-71\""
   ]
  },
  {
   "cell_type": "code",
   "execution_count": 40,
   "id": "428bbc94-fcb9-46bf-909c-8e0367afa504",
   "metadata": {},
   "outputs": [],
   "source": [
    "parking_data = p_data[p_data[f\"parking_id_{PARKING}\"] == 1]\n",
    "vis_data_mean = parking_data.groupby(\"time_of_day\")[\"occupancy\"].mean()\n",
    "vis_data_std = parking_data.groupby(\"time_of_day\")[\"occupancy\"].std().fillna(0)"
   ]
  },
  {
   "cell_type": "code",
   "execution_count": 21,
   "id": "63978936-78de-4499-9cee-7b8035547604",
   "metadata": {},
   "outputs": [],
   "source": [
    "t = np.arange(0, 1, 1/(24*60*60))"
   ]
  },
  {
   "cell_type": "code",
   "execution_count": 22,
   "id": "cd0b5163-e8bb-419b-b742-cfb5fea68db6",
   "metadata": {},
   "outputs": [],
   "source": [
    "one_hot = parking_data.drop(columns=[\"veh_id\", \"time\", \"occupancy\", \"seed\", \"time_of_day\"]).iloc[0]\n",
    "one_hot = [one_hot.values]*len(t)"
   ]
  },
  {
   "cell_type": "code",
   "execution_count": 23,
   "id": "4b391a62-8dbe-464e-b077-b34ccf7aa50a",
   "metadata": {
    "tags": []
   },
   "outputs": [],
   "source": [
    "pred_x = np.array(one_hot)"
   ]
  },
  {
   "cell_type": "code",
   "execution_count": 24,
   "id": "5b510bb5-cb2e-4de0-8145-b6b15416202a",
   "metadata": {},
   "outputs": [],
   "source": [
    "pred_x = pd.DataFrame(pred_x)\n",
    "pred_x[\"t\"] = t"
   ]
  },
  {
   "cell_type": "code",
   "execution_count": 49,
   "id": "87e00d45-5a34-4348-8d92-bf9ed58fb850",
   "metadata": {},
   "outputs": [
    {
     "name": "stdout",
     "output_type": "stream",
     "text": [
      "432/432 [==============================] - 0s 687us/step\n"
     ]
    }
   ],
   "source": [
    "preds = model.predict(pred_x, batch_size=200)"
   ]
  },
  {
   "cell_type": "code",
   "execution_count": 42,
   "id": "80644b99-461c-4e29-a282-471a14733184",
   "metadata": {},
   "outputs": [
    {
     "data": {
      "text/plain": [
       "63110"
      ]
     },
     "execution_count": 42,
     "metadata": {},
     "output_type": "execute_result"
    }
   ],
   "source": [
    "len(vis_data_mean)"
   ]
  },
  {
   "cell_type": "code",
   "execution_count": 45,
   "id": "9a55d5a7-a9cd-44a7-b211-36ae49bfe730",
   "metadata": {},
   "outputs": [
    {
     "data": {
      "text/plain": [
       "[<matplotlib.lines.Line2D at 0x7f6e9926eb30>]"
      ]
     },
     "execution_count": 45,
     "metadata": {},
     "output_type": "execute_result"
    },
    {
     "data": {
      "image/png": "[encoded data removed]",
      "text/plain": [
       "<Figure size 640x480 with 1 Axes>"
      ]
     },
     "metadata": {},
     "output_type": "display_data"
    }
   ],
   "source": [
    "plt.plot(vis_data_mean)\n",
    "plt.fill_between(vis_data_mean.index, vis_data_std+vis_data_mean, vis_data_mean-vis_data_std, alpha=0.3)\n",
    "plt.plot(t, preds)"
   ]
  },
  {
   "cell_type": "code",
   "execution_count": 56,
   "id": "57a1ed07-3727-4b9a-a287-79e6ad30309b",
   "metadata": {},
   "outputs": [],
   "source": [
    "times, meas_mean, meas_std, pred_sampled = [], [], [], []\n",
    "for tx in range(0, 24*60*60, 600):\n",
    "    t = tx/(24*60*60)\n",
    "    times.append(t)\n",
    "    \n",
    "    meas = parking_data[parking_data[\"time_of_day\"] >= t]\n",
    "    meas = meas[meas[\"time_of_day\"] < t+600/(24*60*60)]\n",
    "    meas_mean.append(meas[\"occupancy\"].mean())\n",
    "    meas_std.append(meas[\"occupancy\"].std())\n",
    "    \n",
    "    pred_sampled.append(preds[tx])"
   ]
  },
  {
   "cell_type": "code",
   "execution_count": 76,
   "id": "f5647ff5-af3e-40cb-a62f-193467e2fe79",
   "metadata": {},
   "outputs": [
    {
     "data": {
      "text/plain": [
       "<matplotlib.legend.Legend at 0x7f6e98117430>"
      ]
     },
     "execution_count": 76,
     "metadata": {},
     "output_type": "execute_result"
    },
    {
     "data": {
      "image/png": "[encoded data removed]",
      "text/plain": [
       "<Figure size 800x450 with 1 Axes>"
      ]
     },
     "metadata": {},
     "output_type": "display_data"
    }
   ],
   "source": [
    "times = np.array(times)\n",
    "meas_mean = np.array(meas_mean)\n",
    "meas_std = np.array(meas_std)\n",
    "pred_sampled = np.array(pred_sampled)\n",
    "\n",
    "plt.figure(figsize=(8, 4.5))\n",
    "plt.plot(times*24, meas_mean, \"--\", label=\"avg. measured\")\n",
    "plt.fill_between(times*24, meas_mean-meas_std, meas_mean+meas_std, alpha=0.33, label=\"$\\pm 1 \\sigma$\")\n",
    "plt.plot(times*24, pred_sampled, label=\"predicted\", linewidth=2.5)\n",
    "plt.xlim(0, 24)\n",
    "plt.ylim(0, 1)\n",
    "plt.xticks([4, 8, 12, 16, 20])\n",
    "plt.grid(visible=True, which='major', axis='x', alpha=0.25)\n",
    "plt.title(f\"Parking lot occupancy of\\n parking lot '{PARKING}'\")\n",
    "plt.ylabel(\"Occupancy rate\")\n",
    "plt.xlabel(\"Time of day [h]\")\n",
    "plt.legend()"
   ]
  },
  {
   "cell_type": "code",
   "execution_count": 30,
   "id": "6875eb82-5923-4725-8266-895e20d8757f",
   "metadata": {},
   "outputs": [
    {
     "name": "stdout",
     "output_type": "stream",
     "text": [
      "INFO:tensorflow:Assets written to: saved_models/pretrained/assets\n"
     ]
    }
   ],
   "source": [
    "model.save(\"saved_models/pretrained\")"
   ]
  }
 ],
 "metadata": {
  "kernelspec": {
   "display_name": "tf_env",
   "language": "python",
   "name": "tf_env"
  },
  "language_info": {
   "codemirror_mode": {
    "name": "ipython",
    "version": 3
   },
   "file_extension": ".py",
   "mimetype": "text/x-python",
   "name": "python",
   "nbconvert_exporter": "python",
   "pygments_lexer": "ipython3",
   "version": "3.10.4"
  }
 },
 "nbformat": 4,
 "nbformat_minor": 5
}
