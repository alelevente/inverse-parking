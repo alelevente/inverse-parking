{
 "cells": [
  {
   "cell_type": "markdown",
   "id": "494d0bcb-fdba-4307-9cae-93f7ce6d7648",
   "metadata": {},
   "source": [
    "# **Illustrating the gradient leakage problem**"
   ]
  },
  {
   "cell_type": "code",
   "execution_count": 1,
   "id": "6eafbf30-115d-440e-bcae-102e7ba27381",
   "metadata": {},
   "outputs": [],
   "source": [
    "import numpy as np\n",
    "import pandas as pd\n",
    "\n",
    "import matplotlib.pyplot as plt\n",
    "\n",
    "from multiprocessing import Lock"
   ]
  },
  {
   "cell_type": "code",
   "execution_count": 2,
   "id": "0792d334-554b-4d87-b153-d82f7b8439ed",
   "metadata": {},
   "outputs": [
    {
     "name": "stderr",
     "output_type": "stream",
     "text": [
      "2024-01-30 18:21:26.979926: E external/local_xla/xla/stream_executor/cuda/cuda_dnn.cc:9261] Unable to register cuDNN factory: Attempting to register factory for plugin cuDNN when one has already been registered\n",
      "2024-01-30 18:21:26.979952: E external/local_xla/xla/stream_executor/cuda/cuda_fft.cc:607] Unable to register cuFFT factory: Attempting to register factory for plugin cuFFT when one has already been registered\n",
      "2024-01-30 18:21:27.008041: E external/local_xla/xla/stream_executor/cuda/cuda_blas.cc:1515] Unable to register cuBLAS factory: Attempting to register factory for plugin cuBLAS when one has already been registered\n",
      "2024-01-30 18:21:27.066740: I tensorflow/core/platform/cpu_feature_guard.cc:182] This TensorFlow binary is optimized to use available CPU instructions in performance-critical operations.\n",
      "To enable the following instructions: AVX2 FMA, in other operations, rebuild TensorFlow with the appropriate compiler flags.\n",
      "2024-01-30 18:21:27.927976: W tensorflow/compiler/tf2tensorrt/utils/py_utils.cc:38] TF-TRT Warning: Could not find TensorRT\n"
     ]
    }
   ],
   "source": [
    "import tensorflow as tf\n",
    "from tensorflow import keras\n",
    "from tensorflow.keras import layers"
   ]
  },
  {
   "cell_type": "code",
   "execution_count": 3,
   "id": "da2e8034-1ffe-4ab1-a537-2c1418023126",
   "metadata": {},
   "outputs": [],
   "source": [
    "NUM_GPUS = 4\n",
    "GPU_MEM_SIZE = 1536 #MiB"
   ]
  },
  {
   "cell_type": "code",
   "execution_count": 4,
   "id": "9fffcb10-81ad-415e-afac-a678e41595df",
   "metadata": {},
   "outputs": [
    {
     "name": "stdout",
     "output_type": "stream",
     "text": [
      "1 Physical GPU, 4 Logical GPUs\n"
     ]
    },
    {
     "name": "stderr",
     "output_type": "stream",
     "text": [
      "2024-01-30 18:21:30.042435: I external/local_xla/xla/stream_executor/cuda/cuda_executor.cc:901] successful NUMA node read from SysFS had negative value (-1), but there must be at least one NUMA node, so returning NUMA node zero. See more at https://github.com/torvalds/linux/blob/v6.0/Documentation/ABI/testing/sysfs-bus-pci#L344-L355\n",
      "2024-01-30 18:21:30.151679: I external/local_xla/xla/stream_executor/cuda/cuda_executor.cc:901] successful NUMA node read from SysFS had negative value (-1), but there must be at least one NUMA node, so returning NUMA node zero. See more at https://github.com/torvalds/linux/blob/v6.0/Documentation/ABI/testing/sysfs-bus-pci#L344-L355\n",
      "2024-01-30 18:21:30.151839: I external/local_xla/xla/stream_executor/cuda/cuda_executor.cc:901] successful NUMA node read from SysFS had negative value (-1), but there must be at least one NUMA node, so returning NUMA node zero. See more at https://github.com/torvalds/linux/blob/v6.0/Documentation/ABI/testing/sysfs-bus-pci#L344-L355\n",
      "2024-01-30 18:21:30.153390: I external/local_xla/xla/stream_executor/cuda/cuda_executor.cc:901] successful NUMA node read from SysFS had negative value (-1), but there must be at least one NUMA node, so returning NUMA node zero. See more at https://github.com/torvalds/linux/blob/v6.0/Documentation/ABI/testing/sysfs-bus-pci#L344-L355\n",
      "2024-01-30 18:21:30.153519: I external/local_xla/xla/stream_executor/cuda/cuda_executor.cc:901] successful NUMA node read from SysFS had negative value (-1), but there must be at least one NUMA node, so returning NUMA node zero. See more at https://github.com/torvalds/linux/blob/v6.0/Documentation/ABI/testing/sysfs-bus-pci#L344-L355\n",
      "2024-01-30 18:21:30.153630: I external/local_xla/xla/stream_executor/cuda/cuda_executor.cc:901] successful NUMA node read from SysFS had negative value (-1), but there must be at least one NUMA node, so returning NUMA node zero. See more at https://github.com/torvalds/linux/blob/v6.0/Documentation/ABI/testing/sysfs-bus-pci#L344-L355\n",
      "2024-01-30 18:21:30.209080: I external/local_xla/xla/stream_executor/cuda/cuda_executor.cc:901] successful NUMA node read from SysFS had negative value (-1), but there must be at least one NUMA node, so returning NUMA node zero. See more at https://github.com/torvalds/linux/blob/v6.0/Documentation/ABI/testing/sysfs-bus-pci#L344-L355\n",
      "2024-01-30 18:21:30.209237: I external/local_xla/xla/stream_executor/cuda/cuda_executor.cc:901] successful NUMA node read from SysFS had negative value (-1), but there must be at least one NUMA node, so returning NUMA node zero. See more at https://github.com/torvalds/linux/blob/v6.0/Documentation/ABI/testing/sysfs-bus-pci#L344-L355\n",
      "2024-01-30 18:21:30.209347: I external/local_xla/xla/stream_executor/cuda/cuda_executor.cc:901] successful NUMA node read from SysFS had negative value (-1), but there must be at least one NUMA node, so returning NUMA node zero. See more at https://github.com/torvalds/linux/blob/v6.0/Documentation/ABI/testing/sysfs-bus-pci#L344-L355\n",
      "2024-01-30 18:21:30.209458: I external/local_xla/xla/stream_executor/cuda/cuda_executor.cc:901] successful NUMA node read from SysFS had negative value (-1), but there must be at least one NUMA node, so returning NUMA node zero. See more at https://github.com/torvalds/linux/blob/v6.0/Documentation/ABI/testing/sysfs-bus-pci#L344-L355\n",
      "2024-01-30 18:21:30.209579: I external/local_xla/xla/stream_executor/cuda/cuda_executor.cc:901] successful NUMA node read from SysFS had negative value (-1), but there must be at least one NUMA node, so returning NUMA node zero. See more at https://github.com/torvalds/linux/blob/v6.0/Documentation/ABI/testing/sysfs-bus-pci#L344-L355\n",
      "2024-01-30 18:21:30.209693: I external/local_xla/xla/stream_executor/cuda/cuda_executor.cc:901] successful NUMA node read from SysFS had negative value (-1), but there must be at least one NUMA node, so returning NUMA node zero. See more at https://github.com/torvalds/linux/blob/v6.0/Documentation/ABI/testing/sysfs-bus-pci#L344-L355\n",
      "2024-01-30 18:21:30.209780: I tensorflow/core/common_runtime/gpu/gpu_device.cc:1929] Created device /job:localhost/replica:0/task:0/device:GPU:0 with 1536 MB memory:  -> device: 0, name: NVIDIA GeForce RTX 3060 Laptop GPU, pci bus id: 0000:01:00.0, compute capability: 8.6\n",
      "2024-01-30 18:21:30.210019: I external/local_xla/xla/stream_executor/cuda/cuda_executor.cc:901] successful NUMA node read from SysFS had negative value (-1), but there must be at least one NUMA node, so returning NUMA node zero. See more at https://github.com/torvalds/linux/blob/v6.0/Documentation/ABI/testing/sysfs-bus-pci#L344-L355\n",
      "2024-01-30 18:21:30.210106: I tensorflow/core/common_runtime/gpu/gpu_device.cc:1929] Created device /job:localhost/replica:0/task:0/device:GPU:1 with 1536 MB memory:  -> device: 0, name: NVIDIA GeForce RTX 3060 Laptop GPU, pci bus id: 0000:01:00.0, compute capability: 8.6\n",
      "2024-01-30 18:21:30.210164: I external/local_xla/xla/stream_executor/cuda/cuda_executor.cc:901] successful NUMA node read from SysFS had negative value (-1), but there must be at least one NUMA node, so returning NUMA node zero. See more at https://github.com/torvalds/linux/blob/v6.0/Documentation/ABI/testing/sysfs-bus-pci#L344-L355\n",
      "2024-01-30 18:21:30.210244: I tensorflow/core/common_runtime/gpu/gpu_device.cc:1929] Created device /job:localhost/replica:0/task:0/device:GPU:2 with 1536 MB memory:  -> device: 0, name: NVIDIA GeForce RTX 3060 Laptop GPU, pci bus id: 0000:01:00.0, compute capability: 8.6\n",
      "2024-01-30 18:21:30.210401: I external/local_xla/xla/stream_executor/cuda/cuda_executor.cc:901] successful NUMA node read from SysFS had negative value (-1), but there must be at least one NUMA node, so returning NUMA node zero. See more at https://github.com/torvalds/linux/blob/v6.0/Documentation/ABI/testing/sysfs-bus-pci#L344-L355\n",
      "2024-01-30 18:21:30.210484: I tensorflow/core/common_runtime/gpu/gpu_device.cc:1929] Created device /job:localhost/replica:0/task:0/device:GPU:3 with 1536 MB memory:  -> device: 0, name: NVIDIA GeForce RTX 3060 Laptop GPU, pci bus id: 0000:01:00.0, compute capability: 8.6\n"
     ]
    }
   ],
   "source": [
    "#prepare the GPU (for supporting possible multiprocessing)\n",
    "gpus = tf.config.list_physical_devices('GPU')\n",
    "if gpus:\n",
    "    try:\n",
    "        tf.config.set_logical_device_configuration(\n",
    "            gpus[0],\n",
    "            [tf.config.LogicalDeviceConfiguration(memory_limit=GPU_MEM_SIZE)]*NUM_GPUS)\n",
    "        logical_gpus = tf.config.list_logical_devices('GPU')\n",
    "        print(len(gpus), \"Physical GPU,\", len(logical_gpus), \"Logical GPUs\")\n",
    "    except RuntimeError as e:\n",
    "        # Virtual devices must be set before GPUs have been initialized\n",
    "        print(e)"
   ]
  },
  {
   "cell_type": "code",
   "execution_count": 5,
   "id": "c3f1aa06-e29a-4c96-96c9-922517ef47e2",
   "metadata": {},
   "outputs": [],
   "source": [
    "RESULTS_ROOT = \"../01_simulation/04_results/\"\n",
    "SEEDS = ['42', '1234', '1867', '613', '1001']\n",
    "VEHICLE = \"h3408c1:0\"\n",
    "#VEHICLE = \"h482c1:0\"\n",
    "#VEHICLE = \"h3120c1:0\"\n",
    "#VEHICLE = \"h73c1:0\"\n",
    "#VEHICLE = \"carIn106:4\"\n",
    "TIME_WINDOW = 15*60 #seconds"
   ]
  },
  {
   "cell_type": "code",
   "execution_count": 6,
   "id": "4299bd81-422c-44e6-a32e-e46bd0acef43",
   "metadata": {},
   "outputs": [
    {
     "data": {
      "text/plain": [
       "'/device:GPU:0'"
      ]
     },
     "execution_count": 6,
     "metadata": {},
     "output_type": "execute_result"
    }
   ],
   "source": [
    "tf.config.list_logical_devices('GPU')[0].name"
   ]
  },
  {
   "cell_type": "code",
   "execution_count": 7,
   "id": "9153d84a-4d6e-4caf-a32d-5f343eb9cff0",
   "metadata": {},
   "outputs": [],
   "source": [
    "global_model_lock = Lock() # handles access to the global model\n",
    "with tf.device(tf.config.list_logical_devices('GPU')[0].name):\n",
    "    global_model = tf.keras.models.load_model(\"saved_models/pretrained\")"
   ]
  },
  {
   "cell_type": "code",
   "execution_count": 22,
   "id": "73214ff9-c620-4e86-9dd5-23a14c04f95e",
   "metadata": {},
   "outputs": [],
   "source": [
    "p_data = pd.DataFrame()\n",
    "#READING DATA:\n",
    "for s in SEEDS:\n",
    "    filename = RESULTS_ROOT+f'poccup_by_vehs_{s}.csv'\n",
    "    pf = pd.read_csv(filename)\n",
    "    pf[\"seed\"] = [s]*len(pf)\n",
    "    p_data = pd.concat([p_data, pf])\n",
    "    \n",
    "parkings = p_data[\"parking_id\"].unique()\n",
    "true_parkings = p_data[p_data[\"veh_id\"] == VEHICLE][\"parking_id\"].unique()\n",
    "    \n",
    "#transforming data for learning:\n",
    "p_data = pd.get_dummies(p_data, columns=[\"parking_id\"])\n",
    "p_data[\"time\"] = p_data[\"time\"] - 4*24*60*60\n",
    "p_data[\"time\"] = p_data[\"time\"].astype(int)\n",
    "p_data[\"time_of_day\"] = (p_data[\"time\"] - (p_data[\"time\"] // (24*60*60))*24*60*60) / (24*60*60) #converting to 0.0-1.0 and removing periodicity\n",
    "\n",
    "#data for plotting:\n",
    "bins = np.arange(0, 1, 1/(24*6))\n",
    "hist, bin_edges = np.histogram(p_data[p_data[\"veh_id\"] == VEHICLE][\"time_of_day\"], bins=bins)"
   ]
  },
  {
   "cell_type": "code",
   "execution_count": 9,
   "id": "6398e24c-23d7-455c-b235-c6af10476b68",
   "metadata": {},
   "outputs": [],
   "source": [
    "with tf.device(tf.config.list_logical_devices('GPU')[1].name):\n",
    "    vehicle_model = keras.Sequential([\n",
    "        layers.Dense(64, activation=\"relu\"),\n",
    "        layers.Dense(128, activation=\"relu\"),\n",
    "        layers.Dense(64, activation=\"relu\"),\n",
    "        layers.Dense(1)\n",
    "    ])\n",
    "\n",
    "    vehicle_model.compile(loss=\"mse\", optimizer=tf.keras.optimizers.Adam(0.001))\n",
    "    vehicle_model.build(input_shape=(None,79))"
   ]
  },
  {
   "cell_type": "code",
   "execution_count": 10,
   "id": "8fe6fe08-5b3e-46aa-9db5-fe4308281484",
   "metadata": {},
   "outputs": [],
   "source": [
    "with tf.device(tf.config.list_logical_devices('GPU')[1].name):\n",
    "    vehicle_model.set_weights(global_model.get_weights())"
   ]
  },
  {
   "cell_type": "code",
   "execution_count": 11,
   "id": "4ed4f57c-7502-41b8-b380-51dab783baf8",
   "metadata": {},
   "outputs": [],
   "source": [
    "p_train = p_data[p_data[\"veh_id\"] == VEHICLE]\n",
    "X_train = p_train.drop(columns=[\"veh_id\", \"time\", \"occupancy\", \"seed\"])\n",
    "y_train = p_train[\"occupancy\"]"
   ]
  },
  {
   "cell_type": "code",
   "execution_count": 12,
   "id": "dbe6526a-83b0-41e0-a153-d8e92f85cd0b",
   "metadata": {},
   "outputs": [
    {
     "name": "stderr",
     "output_type": "stream",
     "text": [
      "2024-01-30 18:21:52.532010: I external/local_tsl/tsl/platform/default/subprocess.cc:304] Start cannot spawn child process: No such file or directory\n",
      "2024-01-30 18:21:52.856726: I external/local_xla/xla/service/service.cc:168] XLA service 0x7fa61d5e4190 initialized for platform CUDA (this does not guarantee that XLA will be used). Devices:\n",
      "2024-01-30 18:21:52.856772: I external/local_xla/xla/service/service.cc:176]   StreamExecutor device (0): NVIDIA GeForce RTX 3060 Laptop GPU, Compute Capability 8.6\n",
      "2024-01-30 18:21:52.863187: I tensorflow/compiler/mlir/tensorflow/utils/dump_mlir_util.cc:269] disabling MLIR crash reproducer, set env var `MLIR_CRASH_REPRODUCER_DIRECTORY` to enable.\n",
      "2024-01-30 18:21:52.880678: I external/local_xla/xla/stream_executor/cuda/cuda_dnn.cc:454] Loaded cuDNN version 8904\n",
      "WARNING: All log messages before absl::InitializeLog() is called are written to STDERR\n",
      "I0000 00:00:1706635312.951798   48752 device_compiler.h:186] Compiled cluster using XLA!  This line is logged at most once for the lifetime of the process.\n"
     ]
    },
    {
     "name": "stdout",
     "output_type": "stream",
     "text": [
      "1/1 [==============================] - 1s 1s/step - loss: 0.0020\n"
     ]
    }
   ],
   "source": [
    "with tf.device(tf.config.list_logical_devices('GPU')[1].name):\n",
    "    history = vehicle_model.fit(x=X_train, y=y_train, epochs=1, batch_size=10000)"
   ]
  },
  {
   "cell_type": "code",
   "execution_count": 13,
   "id": "b2554dbe-b67a-4e07-bd49-911bae5f5714",
   "metadata": {},
   "outputs": [],
   "source": [
    "def create_test_data(p_id, p_data):\n",
    "    '''\n",
    "        Creates test data for parking data for a complete day.\n",
    "    '''\n",
    "    parking_data = p_data[p_data[f\"parking_id_{p_id}\"] == 1]\n",
    "    t = np.arange(0, 1, 1/(24*60*60))\n",
    "    one_hot = parking_data.drop(columns=[\"veh_id\", \"time\", \"occupancy\", \"seed\", \"time_of_day\"]).iloc[0]\n",
    "    one_hot = [one_hot.values]*len(t)\n",
    "    pred_x = np.array(one_hot)\n",
    "    pred_x = pd.DataFrame(pred_x)\n",
    "    pred_x[\"t\"] = t\n",
    "    return pred_x"
   ]
  },
  {
   "cell_type": "code",
   "execution_count": 14,
   "id": "f4403b94-fa77-4aa2-8bd1-150183b43db9",
   "metadata": {},
   "outputs": [
    {
     "name": "stdout",
     "output_type": "stream",
     "text": [
      "9/9 [==============================] - 0s 3ms/step\n",
      "9/9 [==============================] - 0s 3ms/step\n",
      "9/9 [==============================] - 0s 3ms/step\n",
      "9/9 [==============================] - 0s 3ms/step\n",
      "9/9 [==============================] - 0s 3ms/step\n",
      "9/9 [==============================] - 0s 3ms/step\n",
      "9/9 [==============================] - 0s 3ms/step\n",
      "9/9 [==============================] - 0s 3ms/step\n",
      "9/9 [==============================] - 0s 2ms/step\n",
      "9/9 [==============================] - 0s 3ms/step\n",
      "9/9 [==============================] - 0s 3ms/step\n",
      "9/9 [==============================] - 0s 3ms/step\n",
      "9/9 [==============================] - 0s 3ms/step\n",
      "9/9 [==============================] - 0s 3ms/step\n",
      "9/9 [==============================] - 0s 3ms/step\n",
      "9/9 [==============================] - 0s 3ms/step\n",
      "9/9 [==============================] - 0s 3ms/step\n",
      "9/9 [==============================] - 0s 3ms/step\n",
      "9/9 [==============================] - 0s 3ms/step\n",
      "9/9 [==============================] - 0s 3ms/step\n",
      "9/9 [==============================] - 0s 3ms/step\n",
      "9/9 [==============================] - 0s 3ms/step\n",
      "9/9 [==============================] - 0s 2ms/step\n",
      "9/9 [==============================] - 0s 3ms/step\n",
      "9/9 [==============================] - 0s 2ms/step\n",
      "9/9 [==============================] - 0s 3ms/step\n",
      "9/9 [==============================] - 0s 3ms/step\n",
      "9/9 [==============================] - 0s 3ms/step\n",
      "9/9 [==============================] - 0s 3ms/step\n",
      "9/9 [==============================] - 0s 3ms/step\n",
      "9/9 [==============================] - 0s 3ms/step\n",
      "9/9 [==============================] - 0s 3ms/step\n",
      "9/9 [==============================] - 0s 3ms/step\n",
      "9/9 [==============================] - 0s 3ms/step\n",
      "9/9 [==============================] - 0s 3ms/step\n",
      "9/9 [==============================] - 0s 3ms/step\n",
      "9/9 [==============================] - 0s 2ms/step\n",
      "9/9 [==============================] - 0s 3ms/step\n",
      "9/9 [==============================] - 0s 3ms/step\n",
      "9/9 [==============================] - 0s 3ms/step\n",
      "9/9 [==============================] - 0s 3ms/step\n",
      "9/9 [==============================] - 0s 3ms/step\n",
      "9/9 [==============================] - 0s 3ms/step\n",
      "9/9 [==============================] - 0s 4ms/step\n",
      "9/9 [==============================] - 0s 3ms/step\n",
      "9/9 [==============================] - 0s 3ms/step\n",
      "9/9 [==============================] - 0s 3ms/step\n",
      "9/9 [==============================] - 0s 3ms/step\n",
      "9/9 [==============================] - 0s 2ms/step\n",
      "9/9 [==============================] - 0s 3ms/step\n",
      "9/9 [==============================] - 0s 3ms/step\n",
      "9/9 [==============================] - 0s 3ms/step\n",
      "9/9 [==============================] - 0s 3ms/step\n",
      "9/9 [==============================] - 0s 3ms/step\n",
      "9/9 [==============================] - 0s 3ms/step\n",
      "9/9 [==============================] - 0s 3ms/step\n",
      "9/9 [==============================] - 0s 3ms/step\n",
      "9/9 [==============================] - 0s 3ms/step\n",
      "9/9 [==============================] - 0s 3ms/step\n",
      "9/9 [==============================] - 0s 3ms/step\n",
      "9/9 [==============================] - 0s 3ms/step\n",
      "9/9 [==============================] - 0s 3ms/step\n",
      "9/9 [==============================] - 0s 3ms/step\n",
      "9/9 [==============================] - 0s 3ms/step\n",
      "9/9 [==============================] - 0s 3ms/step\n",
      "9/9 [==============================] - 0s 3ms/step\n",
      "9/9 [==============================] - 0s 3ms/step\n",
      "9/9 [==============================] - 0s 3ms/step\n",
      "9/9 [==============================] - 0s 2ms/step\n",
      "9/9 [==============================] - 0s 3ms/step\n",
      "9/9 [==============================] - 0s 3ms/step\n",
      "9/9 [==============================] - 0s 3ms/step\n",
      "9/9 [==============================] - 0s 3ms/step\n",
      "9/9 [==============================] - 0s 2ms/step\n",
      "9/9 [==============================] - 0s 3ms/step\n",
      "9/9 [==============================] - 0s 3ms/step\n",
      "9/9 [==============================] - 0s 3ms/step\n",
      "9/9 [==============================] - 0s 3ms/step\n",
      "9/9 [==============================] - 0s 3ms/step\n",
      "9/9 [==============================] - 0s 3ms/step\n",
      "9/9 [==============================] - 0s 2ms/step\n",
      "9/9 [==============================] - 0s 3ms/step\n",
      "9/9 [==============================] - 0s 3ms/step\n",
      "9/9 [==============================] - 0s 3ms/step\n",
      "9/9 [==============================] - 0s 3ms/step\n",
      "9/9 [==============================] - 0s 3ms/step\n",
      "9/9 [==============================] - 0s 3ms/step\n",
      "9/9 [==============================] - 0s 3ms/step\n",
      "9/9 [==============================] - 0s 3ms/step\n",
      "9/9 [==============================] - 0s 3ms/step\n",
      "9/9 [==============================] - 0s 2ms/step\n",
      "9/9 [==============================] - 0s 3ms/step\n",
      "9/9 [==============================] - 0s 3ms/step\n",
      "9/9 [==============================] - 0s 3ms/step\n",
      "9/9 [==============================] - 0s 3ms/step\n",
      "9/9 [==============================] - 0s 3ms/step\n",
      "9/9 [==============================] - 0s 3ms/step\n",
      "9/9 [==============================] - 0s 3ms/step\n",
      "9/9 [==============================] - 0s 3ms/step\n",
      "9/9 [==============================] - 0s 3ms/step\n",
      "9/9 [==============================] - 0s 2ms/step\n",
      "9/9 [==============================] - 0s 3ms/step\n",
      "9/9 [==============================] - 0s 3ms/step\n",
      "9/9 [==============================] - 0s 3ms/step\n",
      "9/9 [==============================] - 0s 3ms/step\n",
      "9/9 [==============================] - 0s 3ms/step\n",
      "9/9 [==============================] - 0s 3ms/step\n",
      "9/9 [==============================] - 0s 3ms/step\n",
      "9/9 [==============================] - 0s 3ms/step\n",
      "9/9 [==============================] - 0s 3ms/step\n",
      "9/9 [==============================] - 0s 3ms/step\n",
      "9/9 [==============================] - 0s 3ms/step\n",
      "9/9 [==============================] - 0s 3ms/step\n",
      "9/9 [==============================] - 0s 3ms/step\n",
      "9/9 [==============================] - 0s 2ms/step\n",
      "9/9 [==============================] - 0s 3ms/step\n",
      "9/9 [==============================] - 0s 3ms/step\n",
      "9/9 [==============================] - 0s 3ms/step\n",
      "9/9 [==============================] - 0s 3ms/step\n",
      "9/9 [==============================] - 0s 3ms/step\n",
      "9/9 [==============================] - 0s 3ms/step\n",
      "9/9 [==============================] - 0s 3ms/step\n",
      "9/9 [==============================] - 0s 2ms/step\n",
      "9/9 [==============================] - 0s 3ms/step\n",
      "9/9 [==============================] - 0s 3ms/step\n",
      "9/9 [==============================] - 0s 3ms/step\n",
      "9/9 [==============================] - 0s 3ms/step\n",
      "9/9 [==============================] - 0s 3ms/step\n",
      "9/9 [==============================] - 0s 3ms/step\n",
      "9/9 [==============================] - 0s 3ms/step\n",
      "9/9 [==============================] - 0s 3ms/step\n",
      "9/9 [==============================] - 0s 3ms/step\n",
      "9/9 [==============================] - 0s 4ms/step\n",
      "9/9 [==============================] - 0s 3ms/step\n",
      "9/9 [==============================] - 0s 3ms/step\n",
      "9/9 [==============================] - 0s 3ms/step\n",
      "9/9 [==============================] - 0s 3ms/step\n",
      "9/9 [==============================] - 0s 3ms/step\n",
      "9/9 [==============================] - 0s 3ms/step\n",
      "9/9 [==============================] - 0s 3ms/step\n",
      "9/9 [==============================] - 0s 3ms/step\n",
      "9/9 [==============================] - 0s 3ms/step\n",
      "9/9 [==============================] - 0s 3ms/step\n",
      "9/9 [==============================] - 0s 3ms/step\n",
      "9/9 [==============================] - 0s 3ms/step\n",
      "9/9 [==============================] - 0s 3ms/step\n",
      "9/9 [==============================] - 0s 3ms/step\n",
      "9/9 [==============================] - 0s 3ms/step\n",
      "9/9 [==============================] - 0s 2ms/step\n",
      "9/9 [==============================] - 0s 3ms/step\n",
      "9/9 [==============================] - 0s 3ms/step\n",
      "9/9 [==============================] - 0s 3ms/step\n",
      "9/9 [==============================] - 0s 3ms/step\n",
      "9/9 [==============================] - 0s 3ms/step\n",
      "9/9 [==============================] - 0s 3ms/step\n",
      "9/9 [==============================] - 0s 3ms/step\n"
     ]
    }
   ],
   "source": [
    "def create_difference_dataset(p_data, parkings, vehicle_model, vehicle_gpu, global_model, global_gpu, global_model_lock):\n",
    "    '''\n",
    "        Creates a per parking list of the differences in prediction between the global and\n",
    "        a vehicle's model.\n",
    "        \n",
    "        Parameters:\n",
    "            - p_data: parking lot dataset\n",
    "            - parkings: list of parking lots\n",
    "            - vehicle_model: tensorflow model of the vehicle\n",
    "            - vehicle_gpu: logical device on which the vehicle model resides\n",
    "            - global_model: tensorflow model of the global model\n",
    "            - global_gpu: logical device on which the global model resides\n",
    "            - global_model_lock: lock object to access the global model\n",
    "            \n",
    "        Returns:\n",
    "            - prediction differences\n",
    "    '''\n",
    "    p_diffs = {}\n",
    "\n",
    "    for p in parkings:\n",
    "        test_data = create_test_data(p, p_data)\n",
    "        #local, vehicle:\n",
    "        with tf.device(vehicle_gpu):\n",
    "            pred_vehicle = vehicle_model.predict(test_data, batch_size=10000)\n",
    "            \n",
    "        #global:\n",
    "        global_model_lock.acquire()\n",
    "        with tf.device(global_gpu):\n",
    "            pred_global  = global_model.predict(test_data, batch_size=10000)\n",
    "        global_model_lock.release()\n",
    "        \n",
    "        p_diffs[p] = (pred_vehicle-pred_global)**2\n",
    "        \n",
    "    return p_diffs\n",
    "\n",
    "p_diffs = create_difference_dataset(p_data, parkings,\n",
    "                                    vehicle_model, tf.config.list_logical_devices('GPU')[1].name,\n",
    "                                    global_model, tf.config.list_logical_devices('GPU')[0].name,\n",
    "                                    global_model_lock)"
   ]
  },
  {
   "cell_type": "code",
   "execution_count": 15,
   "id": "275aeeb7-cf19-49d3-a0f0-bbf7853bbb31",
   "metadata": {},
   "outputs": [
    {
     "name": "stdout",
     "output_type": "stream",
     "text": [
      "{'pa55', 'pa-43', 'pa-27', 'pa-55', 'pa-71', 'pa43', 'pa-144', 'pa11'} 8\n"
     ]
    }
   ],
   "source": [
    "def predict_eval_positions(p_diffs, true_parkings, num_parking_lots = 10):\n",
    "    '''\n",
    "        Maliciously infers possibly visited parking lots from\n",
    "        prediction differences. Then evaluates the success rate of the attacker.\n",
    "        \n",
    "        Parameters:\n",
    "            - p_diffs: prediction differences\n",
    "            - true_parkings: list of the parking lots which were visited by a vehicle\n",
    "            - num_parking_lots: how many lots try to guess\n",
    "            \n",
    "        Returns:\n",
    "            - the successfully identified parking lots (out of the prescribed num_parking_lots)\n",
    "    '''\n",
    "    \n",
    "    p_diff_means = {}\n",
    "    for p in parkings:\n",
    "        p_diff_means[p] = np.mean(p_diffs[p])\n",
    "\n",
    "    p_diff_series = pd.Series(p_diff_means)\n",
    "\n",
    "    #converting to sets to be able to get the prediction as an intersection\n",
    "    predicted_ps = set(p_diff_series.nlargest(num_parking_lots).index)\n",
    "    true_parkings = set(true_parkings)\n",
    "    intersection = predicted_ps.intersection(true_parkings)\n",
    "    return intersection\n",
    "\n",
    "pred_lots = predict_eval_positions(p_diffs, true_parkings)\n",
    "\n",
    "print(pred_lots, len(pred_lots))"
   ]
  },
  {
   "cell_type": "code",
   "execution_count": 16,
   "id": "2d7c881a-0e1e-4b2c-83ad-c3f5b0c49dc2",
   "metadata": {},
   "outputs": [],
   "source": [
    "def search_nearest_move_bin_(pred_time, move_bins_bins, move_bins_counts):\n",
    "    '''\n",
    "        From a moving time histogram and a prediction time, it calculates the\n",
    "        offset between a true moving time and the prediction time.\n",
    "        \n",
    "        Parameters:\n",
    "            - pred_time: predicted moving time in [0,1) range\n",
    "            - move_bins_bins: x values of the histogram (bin ranges)\n",
    "            - move_bins_counts: y values of the histogram\n",
    "            \n",
    "        Returns:\n",
    "            - an offset, if negative: the predicted value is later than the closest true moving\n",
    "    '''\n",
    "    \n",
    "    ref_idx, = np.where(move_bins_bins == pred_time)[0]\n",
    "    rel_idx = 0\n",
    "    #searching backward:\n",
    "    while (ref_idx+rel_idx >= 0) and (move_bins_counts[ref_idx+rel_idx]==0):\n",
    "        rel_idx -= 1\n",
    "    down_step = 1\n",
    "    if rel_idx<=0: #found some data\n",
    "        down_step = rel_idx\n",
    "    rel_idx = 0\n",
    "    #searching forward:\n",
    "    while (ref_idx+rel_idx < len(move_bins_counts)) and (move_bins_counts[ref_idx+rel_idx]==0):\n",
    "        rel_idx += 1\n",
    "    if rel_idx < (24*60*60)//TIME_WINDOW: #found some data\n",
    "        if down_step == 1:\n",
    "            return rel_idx\n",
    "        else:\n",
    "            return down_step if abs(down_step)<rel_idx else rel_idx\n",
    "    else:\n",
    "        return None if down_step == 1 else down_step\n",
    "\n",
    "def predict_eval_time(p_diffs, true_moving_times, time_window=900):\n",
    "    '''\n",
    "        Maliciously infers possible moving time from\n",
    "        prediction differences. Then evalutes how many time windows\n",
    "        the prediction is away from a true moving of the vehicle.\n",
    "        \n",
    "        Parameters:\n",
    "            - p_diffs: prediction_differences\n",
    "            - true_moving_times: data series describing the true moving times\n",
    "            - time_window: how long is a time window in seconds\n",
    "            \n",
    "        Returns:\n",
    "            - an offset, how many time window is away the best prediction from\n",
    "              a true moving of the vehicle\n",
    "    '''\n",
    "    \n",
    "    time_diffs = {}\n",
    "    for p in parkings:\n",
    "        for t in range(0, 24*60*60, time_window):\n",
    "            if t in time_diffs:\n",
    "                time_diffs[t] += np.mean(p_diffs[p][t:t+time_window])\n",
    "            else:\n",
    "                time_diffs[t] = np.mean(p_diffs[p][t:t+time_window])\n",
    "    \n",
    "    time_diffs_series = pd.Series(time_diffs) #to be able to run handy functions\n",
    "    \n",
    "    prediction_diff_rates_x = np.arange(time_window, 24*60*60, time_window) #1 step shorter because of the differentiation\n",
    "    prediction_diff_rates_y = np.abs(np.diff(time_diffs_series.values)) #|d/dt(time_diff(x, t))|\n",
    "    prediction_diff_rates = pd.Series(data = prediction_diff_rates_y, index = prediction_diff_rates_x)\n",
    "    pred_time = prediction_diff_rates.index[prediction_diff_rates.argmax()]/(24*60*60)\n",
    "    #creating the histogram:\n",
    "    move_bins_counts, move_bins_bins = np.histogram(true_moving_times, bins=np.arange(0, 24*60*60, time_window)/(24*60*60))\n",
    "    #calculating the offset:\n",
    "    offset = search_nearest_move_bin_(pred_time, move_bins_bins, move_bins_counts)\n",
    "    return offset"
   ]
  },
  {
   "cell_type": "code",
   "execution_count": 17,
   "id": "25bea464-6e05-4fb9-9a51-49cda3bb5487",
   "metadata": {},
   "outputs": [
    {
     "data": {
      "text/plain": [
       "0"
      ]
     },
     "execution_count": 17,
     "metadata": {},
     "output_type": "execute_result"
    }
   ],
   "source": [
    "predict_eval_time(p_diffs, p_train[\"time_of_day\"])"
   ]
  },
  {
   "cell_type": "code",
   "execution_count": 18,
   "id": "cab1e4cf-f6b9-405f-82b4-80d7e126df89",
   "metadata": {},
   "outputs": [],
   "source": [
    "time_diffs = {}\n",
    "for p in parkings:\n",
    "    for t in range(0, 24*60*60, TIME_WINDOW):\n",
    "        if t in time_diffs:\n",
    "            time_diffs[t] += np.mean(p_diffs[p][t:t+TIME_WINDOW])\n",
    "        else:\n",
    "            time_diffs[t] = np.mean(p_diffs[p][t:t+TIME_WINDOW])"
   ]
  },
  {
   "cell_type": "code",
   "execution_count": 19,
   "id": "fe8b015c-fb75-405e-85f3-3be88531fbf7",
   "metadata": {},
   "outputs": [],
   "source": [
    "time_diffs_series = pd.Series(time_diffs)"
   ]
  },
  {
   "cell_type": "code",
   "execution_count": 44,
   "id": "938c87a9-29e3-435e-89b4-83457faf58eb",
   "metadata": {},
   "outputs": [
    {
     "data": {
      "text/plain": [
       "<matplotlib.legend.Legend at 0x7fa5a0d5d760>"
      ]
     },
     "execution_count": 44,
     "metadata": {},
     "output_type": "execute_result"
    },
    {
     "data": {
      "image/png": "[encoded data removed]",
      "text/plain": [
       "<Figure size 720x360 with 1 Axes>"
      ]
     },
     "metadata": {
      "needs_background": "light"
     },
     "output_type": "display_data"
    }
   ],
   "source": [
    "MIN_ALPHA = 0.1\n",
    "MAX_ALPHA = 0.5\n",
    "\n",
    "color_min = min(hist)\n",
    "color_max = max(hist)\n",
    "has_legend = False\n",
    "plt.figure(figsize=(10,5))\n",
    "for i in range(len(bins)-1):\n",
    "    if hist[i]>0:\n",
    "        label = \"moving time\" if not(has_legend) else \"\"\n",
    "        has_legend = True\n",
    "\n",
    "        plt.fill_between(x=[i*1/6, (i+1)*1/6], y1=0, y2=1.0,\n",
    "                         alpha=(hist[i]-color_min)/(color_max-color_min)*(MAX_ALPHA-MIN_ALPHA)+MIN_ALPHA,\n",
    "                         color=\"tab:orange\",\n",
    "                         label=label)\n",
    "\n",
    "plot_res_x = np.arange(TIME_WINDOW, 24*60*60, TIME_WINDOW)\n",
    "plot_res_y = np.abs(np.diff(time_diffs_series.values))\n",
    "plot_res = pd.Series(data=plot_res_y, index=plot_res_x)\n",
    "\n",
    "\n",
    "plt.plot(plot_res_x/(60*60), plot_res_y,\n",
    "         linewidth=3.0,\n",
    "         label=\"$|\\\\frac{d}{dt}(\\\\widehat{\\\\mathcal{O}}_{t,g}-\\\\widehat{\\\\mathcal{O}}_{t,l})|$\")\n",
    "plt.xticks(ticks=np.arange(0, 26, 2));\n",
    "plt.xlabel(\"time [h]\")\n",
    "plt.ylabel(\"difference\")\n",
    "plt.legend(fontsize=13)"
   ]
  },
  {
   "cell_type": "code",
   "execution_count": 21,
   "id": "7a8bc4d1-f3dc-4a72-85e3-dfb2bd32f41d",
   "metadata": {},
   "outputs": [
    {
     "name": "stdout",
     "output_type": "stream",
     "text": [
      " 8:15\n"
     ]
    }
   ],
   "source": [
    "#print(f'{time_diffs_series.index[time_diffs_series.argmax()]//(60*60):2d}:{time_diffs_series.index[time_diffs_series.argmax()]%(60*60)//60:02d}')\n",
    "print(f'{plot_res.index[plot_res.argmax()]//(60*60):2d}:{plot_res.index[plot_res.argmax()]%(60*60)//60:02d}')"
   ]
  },
  {
   "cell_type": "code",
   "execution_count": 22,
   "id": "565c0872-01ce-4610-a941-628c71882e44",
   "metadata": {},
   "outputs": [
    {
     "data": {
      "text/plain": [
       "0.34375"
      ]
     },
     "execution_count": 22,
     "metadata": {},
     "output_type": "execute_result"
    }
   ],
   "source": [
    "pred_time = plot_res.index[plot_res.argmax()]/(24*60*60)\n",
    "pred_time"
   ]
  },
  {
   "cell_type": "code",
   "execution_count": 23,
   "id": "98e72566-056a-430c-99f9-5b45e1d91bde",
   "metadata": {},
   "outputs": [],
   "source": [
    "move_bins_counts, move_bins_bins = np.histogram(p_train[\"time_of_day\"], bins=np.arange(0, 24*60*60, TIME_WINDOW)/(24*60*60))"
   ]
  },
  {
   "cell_type": "code",
   "execution_count": 25,
   "id": "9b192c93-cbad-4872-b732-6b52cc2f88ba",
   "metadata": {},
   "outputs": [
    {
     "data": {
      "text/plain": [
       "0"
      ]
     },
     "execution_count": 25,
     "metadata": {},
     "output_type": "execute_result"
    }
   ],
   "source": [
    "search_nearest_move_bin(pred_time, move_bins_counts, move_bins_bins)"
   ]
  }
 ],
 "metadata": {
  "kernelspec": {
   "display_name": "tf_env",
   "language": "python",
   "name": "tf_env"
  },
  "language_info": {
   "codemirror_mode": {
    "name": "ipython",
    "version": 3
   },
   "file_extension": ".py",
   "mimetype": "text/x-python",
   "name": "python",
   "nbconvert_exporter": "python",
   "pygments_lexer": "ipython3",
   "version": "3.10.4"
  }
 },
 "nbformat": 4,
 "nbformat_minor": 5
}
