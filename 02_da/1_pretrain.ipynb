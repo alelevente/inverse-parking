{
 "cells": [
  {
   "cell_type": "markdown",
   "id": "f12529f0-29b2-4fb3-a7b7-28c4b8afbe27",
   "metadata": {},
   "source": [
    "# **Pretrain a TF model to imitate federated learning**"
   ]
  },
  {
   "cell_type": "code",
   "execution_count": 1,
   "id": "f64db9f7-5f59-4a23-a501-4c2360430cef",
   "metadata": {},
   "outputs": [],
   "source": [
    "import numpy as np\n",
    "import pandas as pd\n",
    "\n",
    "import matplotlib.pyplot as plt"
   ]
  },
  {
   "cell_type": "code",
   "execution_count": 2,
   "id": "819e2fa0-009d-4ceb-91d9-2707590e5740",
   "metadata": {},
   "outputs": [
    {
     "name": "stderr",
     "output_type": "stream",
     "text": [
      "2024-01-11 19:16:43.267595: I tensorflow/core/platform/cpu_feature_guard.cc:182] This TensorFlow binary is optimized to use available CPU instructions in performance-critical operations.\n",
      "To enable the following instructions: AVX2 FMA, in other operations, rebuild TensorFlow with the appropriate compiler flags.\n",
      "2024-01-11 19:16:43.813715: W tensorflow/compiler/tf2tensorrt/utils/py_utils.cc:38] TF-TRT Warning: Could not find TensorRT\n"
     ]
    }
   ],
   "source": [
    "import tensorflow as tf\n",
    "from tensorflow import keras\n",
    "from tensorflow.keras import layers"
   ]
  },
  {
   "cell_type": "code",
   "execution_count": 3,
   "id": "e83de654-055a-421e-8880-3a1f480ddca4",
   "metadata": {},
   "outputs": [],
   "source": [
    "RESULTS_ROOT = \"../01_simulation/04_results/\"\n",
    "SEEDS = ['42', '1234', '1867', '613', '1001']"
   ]
  },
  {
   "cell_type": "code",
   "execution_count": 4,
   "id": "26ab7aed-8414-4ec5-b1bf-87835e8ac31d",
   "metadata": {},
   "outputs": [],
   "source": [
    "p_data = pd.DataFrame()\n",
    "#READING DATA:\n",
    "for s in SEEDS:\n",
    "    filename = RESULTS_ROOT+f'poccup_by_vehs_{s}.csv'\n",
    "    pf = pd.read_csv(filename)\n",
    "    pf[\"seed\"] = [s]*len(pf)\n",
    "    p_data = pd.concat([p_data, pf])\n",
    "    \n",
    "p_data = pd.get_dummies(p_data, columns=[\"parking_id\"])\n",
    "p_data[\"time\"] = p_data[\"time\"] - 4*24*60*60\n",
    "p_data[\"time\"] = p_data[\"time\"].astype(int)\n",
    "p_data[\"time_of_day\"] = (p_data[\"time\"] - (p_data[\"time\"] // (24*60*60))*24*60*60) / (24*60*60) #converting to 0.0-1.0 and removing periodicity"
   ]
  },
  {
   "cell_type": "code",
   "execution_count": 5,
   "id": "3faece9c-6b86-48e8-88eb-2b52dcf32e3d",
   "metadata": {},
   "outputs": [],
   "source": [
    "vehicles = np.random.choice(p_data[\"veh_id\"].unique(), 250)"
   ]
  },
  {
   "cell_type": "code",
   "execution_count": 6,
   "id": "03e8a43f-d4ec-4176-aba8-8dbd7918b303",
   "metadata": {},
   "outputs": [],
   "source": [
    "p_train = p_data[p_data[\"veh_id\"].isin(vehicles)]"
   ]
  },
  {
   "cell_type": "code",
   "execution_count": 7,
   "id": "87271d25-7f2d-44bf-8080-c8bcebeac9d2",
   "metadata": {},
   "outputs": [],
   "source": [
    "#p_train = p_train[p_train[\"time\"] < 3*24*60*60]"
   ]
  },
  {
   "cell_type": "code",
   "execution_count": 8,
   "id": "5eb9a1a2-b9c8-48db-b2d1-527a5147847b",
   "metadata": {},
   "outputs": [
    {
     "name": "stderr",
     "output_type": "stream",
     "text": [
      "2024-01-11 19:16:55.708380: I tensorflow/compiler/xla/stream_executor/cuda/cuda_gpu_executor.cc:995] successful NUMA node read from SysFS had negative value (-1), but there must be at least one NUMA node, so returning NUMA node zero. See more at https://github.com/torvalds/linux/blob/v6.0/Documentation/ABI/testing/sysfs-bus-pci#L344-L355\n",
      "2024-01-11 19:16:55.746373: I tensorflow/compiler/xla/stream_executor/cuda/cuda_gpu_executor.cc:995] successful NUMA node read from SysFS had negative value (-1), but there must be at least one NUMA node, so returning NUMA node zero. See more at https://github.com/torvalds/linux/blob/v6.0/Documentation/ABI/testing/sysfs-bus-pci#L344-L355\n",
      "2024-01-11 19:16:55.746549: I tensorflow/compiler/xla/stream_executor/cuda/cuda_gpu_executor.cc:995] successful NUMA node read from SysFS had negative value (-1), but there must be at least one NUMA node, so returning NUMA node zero. See more at https://github.com/torvalds/linux/blob/v6.0/Documentation/ABI/testing/sysfs-bus-pci#L344-L355\n",
      "2024-01-11 19:16:55.747373: I tensorflow/compiler/xla/stream_executor/cuda/cuda_gpu_executor.cc:995] successful NUMA node read from SysFS had negative value (-1), but there must be at least one NUMA node, so returning NUMA node zero. See more at https://github.com/torvalds/linux/blob/v6.0/Documentation/ABI/testing/sysfs-bus-pci#L344-L355\n",
      "2024-01-11 19:16:55.747500: I tensorflow/compiler/xla/stream_executor/cuda/cuda_gpu_executor.cc:995] successful NUMA node read from SysFS had negative value (-1), but there must be at least one NUMA node, so returning NUMA node zero. See more at https://github.com/torvalds/linux/blob/v6.0/Documentation/ABI/testing/sysfs-bus-pci#L344-L355\n",
      "2024-01-11 19:16:55.747612: I tensorflow/compiler/xla/stream_executor/cuda/cuda_gpu_executor.cc:995] successful NUMA node read from SysFS had negative value (-1), but there must be at least one NUMA node, so returning NUMA node zero. See more at https://github.com/torvalds/linux/blob/v6.0/Documentation/ABI/testing/sysfs-bus-pci#L344-L355\n",
      "2024-01-11 19:16:55.797689: I tensorflow/compiler/xla/stream_executor/cuda/cuda_gpu_executor.cc:995] successful NUMA node read from SysFS had negative value (-1), but there must be at least one NUMA node, so returning NUMA node zero. See more at https://github.com/torvalds/linux/blob/v6.0/Documentation/ABI/testing/sysfs-bus-pci#L344-L355\n",
      "2024-01-11 19:16:55.797913: I tensorflow/compiler/xla/stream_executor/cuda/cuda_gpu_executor.cc:995] successful NUMA node read from SysFS had negative value (-1), but there must be at least one NUMA node, so returning NUMA node zero. See more at https://github.com/torvalds/linux/blob/v6.0/Documentation/ABI/testing/sysfs-bus-pci#L344-L355\n",
      "2024-01-11 19:16:55.798066: I tensorflow/compiler/xla/stream_executor/cuda/cuda_gpu_executor.cc:995] successful NUMA node read from SysFS had negative value (-1), but there must be at least one NUMA node, so returning NUMA node zero. See more at https://github.com/torvalds/linux/blob/v6.0/Documentation/ABI/testing/sysfs-bus-pci#L344-L355\n",
      "2024-01-11 19:16:55.798202: I tensorflow/core/common_runtime/gpu/gpu_device.cc:1639] Created device /job:localhost/replica:0/task:0/device:GPU:0 with 4266 MB memory:  -> device: 0, name: NVIDIA GeForce RTX 3060 Laptop GPU, pci bus id: 0000:01:00.0, compute capability: 8.6\n"
     ]
    }
   ],
   "source": [
    "model = keras.Sequential([\n",
    "    layers.Dense(64, activation=\"relu\"),\n",
    "    layers.Dense(64, activation=\"relu\"),\n",
    "    layers.Dense(1)\n",
    "])\n",
    "\n",
    "model.compile(loss=\"mse\", optimizer=tf.keras.optimizers.Adam(0.001))"
   ]
  },
  {
   "cell_type": "code",
   "execution_count": 9,
   "id": "04c5dfab-1412-425a-b1f3-a043f7fd4eee",
   "metadata": {},
   "outputs": [],
   "source": [
    "X_train = p_train.drop(columns=[\"veh_id\", \"time\", \"occupancy\", \"seed\"])\n",
    "y_train = p_train[\"occupancy\"]"
   ]
  },
  {
   "cell_type": "code",
   "execution_count": 10,
   "id": "b14b0e7d-75da-4a25-904a-3964fa4fdd51",
   "metadata": {},
   "outputs": [
    {
     "name": "stdout",
     "output_type": "stream",
     "text": [
      "Epoch 1/25\n"
     ]
    },
    {
     "name": "stderr",
     "output_type": "stream",
     "text": [
      "2024-01-11 19:16:56.661874: I tensorflow/compiler/xla/stream_executor/cuda/cuda_blas.cc:606] TensorFloat-32 will be used for the matrix multiplication. This will only be logged once.\n",
      "2024-01-11 19:16:56.697653: I tensorflow/compiler/xla/service/service.cc:168] XLA service 0x7f9c87618ea0 initialized for platform CUDA (this does not guarantee that XLA will be used). Devices:\n",
      "2024-01-11 19:16:56.697683: I tensorflow/compiler/xla/service/service.cc:176]   StreamExecutor device (0): NVIDIA GeForce RTX 3060 Laptop GPU, Compute Capability 8.6\n",
      "2024-01-11 19:16:56.700774: I tensorflow/compiler/mlir/tensorflow/utils/dump_mlir_util.cc:255] disabling MLIR crash reproducer, set env var `MLIR_CRASH_REPRODUCER_DIRECTORY` to enable.\n",
      "2024-01-11 19:16:56.720245: I tensorflow/compiler/xla/stream_executor/cuda/cuda_dnn.cc:432] Loaded cuDNN version 8907\n",
      "2024-01-11 19:16:56.761341: I tensorflow/tsl/platform/default/subprocess.cc:304] Start cannot spawn child process: No such file or directory\n",
      "2024-01-11 19:16:56.824478: I ./tensorflow/compiler/jit/device_compiler.h:186] Compiled cluster using XLA!  This line is logged at most once for the lifetime of the process.\n"
     ]
    },
    {
     "name": "stdout",
     "output_type": "stream",
     "text": [
      "45/45 [==============================] - 1s 4ms/step - loss: 0.1323\n",
      "Epoch 2/25\n",
      "45/45 [==============================] - 0s 4ms/step - loss: 0.0550\n",
      "Epoch 3/25\n",
      "45/45 [==============================] - 0s 4ms/step - loss: 0.0446\n",
      "Epoch 4/25\n",
      "45/45 [==============================] - 0s 4ms/step - loss: 0.0423\n",
      "Epoch 5/25\n",
      "45/45 [==============================] - 0s 4ms/step - loss: 0.0398\n",
      "Epoch 6/25\n",
      "45/45 [==============================] - 0s 4ms/step - loss: 0.0361\n",
      "Epoch 7/25\n",
      "45/45 [==============================] - 0s 4ms/step - loss: 0.0318\n",
      "Epoch 8/25\n",
      "45/45 [==============================] - 0s 4ms/step - loss: 0.0277\n",
      "Epoch 9/25\n",
      "45/45 [==============================] - 0s 4ms/step - loss: 0.0237\n",
      "Epoch 10/25\n",
      "45/45 [==============================] - 0s 4ms/step - loss: 0.0202\n",
      "Epoch 11/25\n",
      "45/45 [==============================] - 0s 4ms/step - loss: 0.0171\n",
      "Epoch 12/25\n",
      "45/45 [==============================] - 0s 4ms/step - loss: 0.0145\n",
      "Epoch 13/25\n",
      "45/45 [==============================] - 0s 4ms/step - loss: 0.0122\n",
      "Epoch 14/25\n",
      "45/45 [==============================] - 0s 4ms/step - loss: 0.0104\n",
      "Epoch 15/25\n",
      "45/45 [==============================] - 0s 4ms/step - loss: 0.0089\n",
      "Epoch 16/25\n",
      "45/45 [==============================] - 0s 4ms/step - loss: 0.0078\n",
      "Epoch 17/25\n",
      "45/45 [==============================] - 0s 4ms/step - loss: 0.0070\n",
      "Epoch 18/25\n",
      "45/45 [==============================] - 0s 4ms/step - loss: 0.0063\n",
      "Epoch 19/25\n",
      "45/45 [==============================] - 0s 4ms/step - loss: 0.0057\n",
      "Epoch 20/25\n",
      "45/45 [==============================] - 0s 4ms/step - loss: 0.0052\n",
      "Epoch 21/25\n",
      "45/45 [==============================] - 0s 4ms/step - loss: 0.0049\n",
      "Epoch 22/25\n",
      "45/45 [==============================] - 0s 4ms/step - loss: 0.0045\n",
      "Epoch 23/25\n",
      "45/45 [==============================] - 0s 4ms/step - loss: 0.0043\n",
      "Epoch 24/25\n",
      "45/45 [==============================] - 0s 4ms/step - loss: 0.0041\n",
      "Epoch 25/25\n",
      "45/45 [==============================] - 0s 4ms/step - loss: 0.0039\n"
     ]
    }
   ],
   "source": [
    "history = model.fit(x=X_train, y=y_train, epochs=25, batch_size=10000)"
   ]
  },
  {
   "cell_type": "markdown",
   "id": "a1bc9891-77aa-4151-80ac-27168135cc82",
   "metadata": {},
   "source": [
    "## **Checking**"
   ]
  },
  {
   "cell_type": "code",
   "execution_count": 11,
   "id": "0c1f2617-a79a-4d15-b093-aa914d53e401",
   "metadata": {},
   "outputs": [
    {
     "data": {
      "text/html": [
       "<div>\n",
       "<style scoped>\n",
       "    .dataframe tbody tr th:only-of-type {\n",
       "        vertical-align: middle;\n",
       "    }\n",
       "\n",
       "    .dataframe tbody tr th {\n",
       "        vertical-align: top;\n",
       "    }\n",
       "\n",
       "    .dataframe thead th {\n",
       "        text-align: right;\n",
       "    }\n",
       "</style>\n",
       "<table border=\"1\" class=\"dataframe\">\n",
       "  <thead>\n",
       "    <tr style=\"text-align: right;\">\n",
       "      <th></th>\n",
       "      <th>veh_id</th>\n",
       "      <th>time</th>\n",
       "      <th>occupancy</th>\n",
       "      <th>seed</th>\n",
       "      <th>parking_id_pa-109</th>\n",
       "      <th>parking_id_pa-11</th>\n",
       "      <th>parking_id_pa-120</th>\n",
       "      <th>parking_id_pa-123</th>\n",
       "      <th>parking_id_pa-131</th>\n",
       "      <th>parking_id_pa-144</th>\n",
       "      <th>...</th>\n",
       "      <th>parking_id_pa55</th>\n",
       "      <th>parking_id_pa58</th>\n",
       "      <th>parking_id_pa60</th>\n",
       "      <th>parking_id_pa64</th>\n",
       "      <th>parking_id_pa68</th>\n",
       "      <th>parking_id_pa71</th>\n",
       "      <th>parking_id_pa75</th>\n",
       "      <th>parking_id_pa79</th>\n",
       "      <th>parking_id_pa92</th>\n",
       "      <th>time_of_day</th>\n",
       "    </tr>\n",
       "  </thead>\n",
       "  <tbody>\n",
       "    <tr>\n",
       "      <th>0</th>\n",
       "      <td>h3098c1:0</td>\n",
       "      <td>10</td>\n",
       "      <td>0.923077</td>\n",
       "      <td>42</td>\n",
       "      <td>0</td>\n",
       "      <td>0</td>\n",
       "      <td>0</td>\n",
       "      <td>0</td>\n",
       "      <td>0</td>\n",
       "      <td>0</td>\n",
       "      <td>...</td>\n",
       "      <td>0</td>\n",
       "      <td>0</td>\n",
       "      <td>0</td>\n",
       "      <td>0</td>\n",
       "      <td>0</td>\n",
       "      <td>0</td>\n",
       "      <td>0</td>\n",
       "      <td>0</td>\n",
       "      <td>0</td>\n",
       "      <td>0.000116</td>\n",
       "    </tr>\n",
       "    <tr>\n",
       "      <th>1</th>\n",
       "      <td>h3098c1:0</td>\n",
       "      <td>10</td>\n",
       "      <td>0.842105</td>\n",
       "      <td>42</td>\n",
       "      <td>0</td>\n",
       "      <td>0</td>\n",
       "      <td>0</td>\n",
       "      <td>0</td>\n",
       "      <td>0</td>\n",
       "      <td>0</td>\n",
       "      <td>...</td>\n",
       "      <td>0</td>\n",
       "      <td>0</td>\n",
       "      <td>0</td>\n",
       "      <td>0</td>\n",
       "      <td>0</td>\n",
       "      <td>0</td>\n",
       "      <td>0</td>\n",
       "      <td>0</td>\n",
       "      <td>0</td>\n",
       "      <td>0.000116</td>\n",
       "    </tr>\n",
       "    <tr>\n",
       "      <th>2</th>\n",
       "      <td>h3098c1:0</td>\n",
       "      <td>10</td>\n",
       "      <td>0.769231</td>\n",
       "      <td>42</td>\n",
       "      <td>0</td>\n",
       "      <td>0</td>\n",
       "      <td>0</td>\n",
       "      <td>0</td>\n",
       "      <td>0</td>\n",
       "      <td>0</td>\n",
       "      <td>...</td>\n",
       "      <td>0</td>\n",
       "      <td>0</td>\n",
       "      <td>0</td>\n",
       "      <td>0</td>\n",
       "      <td>0</td>\n",
       "      <td>0</td>\n",
       "      <td>0</td>\n",
       "      <td>0</td>\n",
       "      <td>0</td>\n",
       "      <td>0.000116</td>\n",
       "    </tr>\n",
       "    <tr>\n",
       "      <th>3</th>\n",
       "      <td>h3098c1:0</td>\n",
       "      <td>11</td>\n",
       "      <td>0.923077</td>\n",
       "      <td>42</td>\n",
       "      <td>0</td>\n",
       "      <td>0</td>\n",
       "      <td>0</td>\n",
       "      <td>0</td>\n",
       "      <td>0</td>\n",
       "      <td>0</td>\n",
       "      <td>...</td>\n",
       "      <td>0</td>\n",
       "      <td>0</td>\n",
       "      <td>0</td>\n",
       "      <td>0</td>\n",
       "      <td>0</td>\n",
       "      <td>0</td>\n",
       "      <td>0</td>\n",
       "      <td>0</td>\n",
       "      <td>0</td>\n",
       "      <td>0.000127</td>\n",
       "    </tr>\n",
       "    <tr>\n",
       "      <th>4</th>\n",
       "      <td>h3098c1:0</td>\n",
       "      <td>11</td>\n",
       "      <td>0.842105</td>\n",
       "      <td>42</td>\n",
       "      <td>0</td>\n",
       "      <td>0</td>\n",
       "      <td>0</td>\n",
       "      <td>0</td>\n",
       "      <td>0</td>\n",
       "      <td>0</td>\n",
       "      <td>...</td>\n",
       "      <td>0</td>\n",
       "      <td>0</td>\n",
       "      <td>0</td>\n",
       "      <td>0</td>\n",
       "      <td>0</td>\n",
       "      <td>0</td>\n",
       "      <td>0</td>\n",
       "      <td>0</td>\n",
       "      <td>0</td>\n",
       "      <td>0.000127</td>\n",
       "    </tr>\n",
       "    <tr>\n",
       "      <th>...</th>\n",
       "      <td>...</td>\n",
       "      <td>...</td>\n",
       "      <td>...</td>\n",
       "      <td>...</td>\n",
       "      <td>...</td>\n",
       "      <td>...</td>\n",
       "      <td>...</td>\n",
       "      <td>...</td>\n",
       "      <td>...</td>\n",
       "      <td>...</td>\n",
       "      <td>...</td>\n",
       "      <td>...</td>\n",
       "      <td>...</td>\n",
       "      <td>...</td>\n",
       "      <td>...</td>\n",
       "      <td>...</td>\n",
       "      <td>...</td>\n",
       "      <td>...</td>\n",
       "      <td>...</td>\n",
       "      <td>...</td>\n",
       "      <td>...</td>\n",
       "    </tr>\n",
       "    <tr>\n",
       "      <th>3128768</th>\n",
       "      <td>h798c1:0</td>\n",
       "      <td>432000</td>\n",
       "      <td>0.000000</td>\n",
       "      <td>1001</td>\n",
       "      <td>0</td>\n",
       "      <td>0</td>\n",
       "      <td>0</td>\n",
       "      <td>0</td>\n",
       "      <td>0</td>\n",
       "      <td>0</td>\n",
       "      <td>...</td>\n",
       "      <td>0</td>\n",
       "      <td>0</td>\n",
       "      <td>0</td>\n",
       "      <td>0</td>\n",
       "      <td>0</td>\n",
       "      <td>0</td>\n",
       "      <td>0</td>\n",
       "      <td>0</td>\n",
       "      <td>0</td>\n",
       "      <td>0.000000</td>\n",
       "    </tr>\n",
       "    <tr>\n",
       "      <th>3128769</th>\n",
       "      <td>h798c1:0</td>\n",
       "      <td>432000</td>\n",
       "      <td>0.750000</td>\n",
       "      <td>1001</td>\n",
       "      <td>0</td>\n",
       "      <td>0</td>\n",
       "      <td>0</td>\n",
       "      <td>0</td>\n",
       "      <td>0</td>\n",
       "      <td>0</td>\n",
       "      <td>...</td>\n",
       "      <td>0</td>\n",
       "      <td>0</td>\n",
       "      <td>0</td>\n",
       "      <td>0</td>\n",
       "      <td>0</td>\n",
       "      <td>0</td>\n",
       "      <td>0</td>\n",
       "      <td>0</td>\n",
       "      <td>0</td>\n",
       "      <td>0.000000</td>\n",
       "    </tr>\n",
       "    <tr>\n",
       "      <th>3128770</th>\n",
       "      <td>h3101c1:0</td>\n",
       "      <td>432000</td>\n",
       "      <td>0.428571</td>\n",
       "      <td>1001</td>\n",
       "      <td>0</td>\n",
       "      <td>1</td>\n",
       "      <td>0</td>\n",
       "      <td>0</td>\n",
       "      <td>0</td>\n",
       "      <td>0</td>\n",
       "      <td>...</td>\n",
       "      <td>0</td>\n",
       "      <td>0</td>\n",
       "      <td>0</td>\n",
       "      <td>0</td>\n",
       "      <td>0</td>\n",
       "      <td>0</td>\n",
       "      <td>0</td>\n",
       "      <td>0</td>\n",
       "      <td>0</td>\n",
       "      <td>0.000000</td>\n",
       "    </tr>\n",
       "    <tr>\n",
       "      <th>3128771</th>\n",
       "      <td>h3101c1:0</td>\n",
       "      <td>432000</td>\n",
       "      <td>0.000000</td>\n",
       "      <td>1001</td>\n",
       "      <td>0</td>\n",
       "      <td>0</td>\n",
       "      <td>0</td>\n",
       "      <td>0</td>\n",
       "      <td>0</td>\n",
       "      <td>0</td>\n",
       "      <td>...</td>\n",
       "      <td>0</td>\n",
       "      <td>0</td>\n",
       "      <td>0</td>\n",
       "      <td>0</td>\n",
       "      <td>0</td>\n",
       "      <td>0</td>\n",
       "      <td>0</td>\n",
       "      <td>0</td>\n",
       "      <td>0</td>\n",
       "      <td>0.000000</td>\n",
       "    </tr>\n",
       "    <tr>\n",
       "      <th>3128772</th>\n",
       "      <td>h3101c1:0</td>\n",
       "      <td>432000</td>\n",
       "      <td>0.750000</td>\n",
       "      <td>1001</td>\n",
       "      <td>0</td>\n",
       "      <td>0</td>\n",
       "      <td>0</td>\n",
       "      <td>0</td>\n",
       "      <td>0</td>\n",
       "      <td>0</td>\n",
       "      <td>...</td>\n",
       "      <td>0</td>\n",
       "      <td>0</td>\n",
       "      <td>0</td>\n",
       "      <td>0</td>\n",
       "      <td>0</td>\n",
       "      <td>0</td>\n",
       "      <td>0</td>\n",
       "      <td>0</td>\n",
       "      <td>0</td>\n",
       "      <td>0.000000</td>\n",
       "    </tr>\n",
       "  </tbody>\n",
       "</table>\n",
       "<p>15678789 rows × 83 columns</p>\n",
       "</div>"
      ],
      "text/plain": [
       "            veh_id    time  occupancy  seed  parking_id_pa-109  \\\n",
       "0        h3098c1:0      10   0.923077    42                  0   \n",
       "1        h3098c1:0      10   0.842105    42                  0   \n",
       "2        h3098c1:0      10   0.769231    42                  0   \n",
       "3        h3098c1:0      11   0.923077    42                  0   \n",
       "4        h3098c1:0      11   0.842105    42                  0   \n",
       "...            ...     ...        ...   ...                ...   \n",
       "3128768   h798c1:0  432000   0.000000  1001                  0   \n",
       "3128769   h798c1:0  432000   0.750000  1001                  0   \n",
       "3128770  h3101c1:0  432000   0.428571  1001                  0   \n",
       "3128771  h3101c1:0  432000   0.000000  1001                  0   \n",
       "3128772  h3101c1:0  432000   0.750000  1001                  0   \n",
       "\n",
       "         parking_id_pa-11  parking_id_pa-120  parking_id_pa-123  \\\n",
       "0                       0                  0                  0   \n",
       "1                       0                  0                  0   \n",
       "2                       0                  0                  0   \n",
       "3                       0                  0                  0   \n",
       "4                       0                  0                  0   \n",
       "...                   ...                ...                ...   \n",
       "3128768                 0                  0                  0   \n",
       "3128769                 0                  0                  0   \n",
       "3128770                 1                  0                  0   \n",
       "3128771                 0                  0                  0   \n",
       "3128772                 0                  0                  0   \n",
       "\n",
       "         parking_id_pa-131  parking_id_pa-144  ...  parking_id_pa55  \\\n",
       "0                        0                  0  ...                0   \n",
       "1                        0                  0  ...                0   \n",
       "2                        0                  0  ...                0   \n",
       "3                        0                  0  ...                0   \n",
       "4                        0                  0  ...                0   \n",
       "...                    ...                ...  ...              ...   \n",
       "3128768                  0                  0  ...                0   \n",
       "3128769                  0                  0  ...                0   \n",
       "3128770                  0                  0  ...                0   \n",
       "3128771                  0                  0  ...                0   \n",
       "3128772                  0                  0  ...                0   \n",
       "\n",
       "         parking_id_pa58  parking_id_pa60  parking_id_pa64  parking_id_pa68  \\\n",
       "0                      0                0                0                0   \n",
       "1                      0                0                0                0   \n",
       "2                      0                0                0                0   \n",
       "3                      0                0                0                0   \n",
       "4                      0                0                0                0   \n",
       "...                  ...              ...              ...              ...   \n",
       "3128768                0                0                0                0   \n",
       "3128769                0                0                0                0   \n",
       "3128770                0                0                0                0   \n",
       "3128771                0                0                0                0   \n",
       "3128772                0                0                0                0   \n",
       "\n",
       "         parking_id_pa71  parking_id_pa75  parking_id_pa79  parking_id_pa92  \\\n",
       "0                      0                0                0                0   \n",
       "1                      0                0                0                0   \n",
       "2                      0                0                0                0   \n",
       "3                      0                0                0                0   \n",
       "4                      0                0                0                0   \n",
       "...                  ...              ...              ...              ...   \n",
       "3128768                0                0                0                0   \n",
       "3128769                0                0                0                0   \n",
       "3128770                0                0                0                0   \n",
       "3128771                0                0                0                0   \n",
       "3128772                0                0                0                0   \n",
       "\n",
       "         time_of_day  \n",
       "0           0.000116  \n",
       "1           0.000116  \n",
       "2           0.000116  \n",
       "3           0.000127  \n",
       "4           0.000127  \n",
       "...              ...  \n",
       "3128768     0.000000  \n",
       "3128769     0.000000  \n",
       "3128770     0.000000  \n",
       "3128771     0.000000  \n",
       "3128772     0.000000  \n",
       "\n",
       "[15678789 rows x 83 columns]"
      ]
     },
     "execution_count": 11,
     "metadata": {},
     "output_type": "execute_result"
    }
   ],
   "source": [
    "p_data"
   ]
  },
  {
   "cell_type": "code",
   "execution_count": 12,
   "id": "eb10587c-d8aa-449e-9729-91080daf7050",
   "metadata": {},
   "outputs": [],
   "source": [
    "#PARKING = \"pa184\"\n",
    "PARKING = \"pa-71\""
   ]
  },
  {
   "cell_type": "code",
   "execution_count": 13,
   "id": "428bbc94-fcb9-46bf-909c-8e0367afa504",
   "metadata": {},
   "outputs": [],
   "source": [
    "parking_data = p_data[p_data[f\"parking_id_{PARKING}\"] == 1]\n",
    "vis_data = parking_data.groupby(\"time_of_day\")[\"occupancy\"].mean()"
   ]
  },
  {
   "cell_type": "code",
   "execution_count": 14,
   "id": "63978936-78de-4499-9cee-7b8035547604",
   "metadata": {},
   "outputs": [],
   "source": [
    "t = np.arange(0, 1, 1/(24*60*60))"
   ]
  },
  {
   "cell_type": "code",
   "execution_count": 15,
   "id": "cd0b5163-e8bb-419b-b742-cfb5fea68db6",
   "metadata": {},
   "outputs": [],
   "source": [
    "one_hot = parking_data.drop(columns=[\"veh_id\", \"time\", \"occupancy\", \"seed\", \"time_of_day\"]).iloc[0]\n",
    "one_hot = [one_hot.values]*len(t)"
   ]
  },
  {
   "cell_type": "code",
   "execution_count": 16,
   "id": "4b391a62-8dbe-464e-b077-b34ccf7aa50a",
   "metadata": {
    "tags": []
   },
   "outputs": [],
   "source": [
    "pred_x = np.array(one_hot)"
   ]
  },
  {
   "cell_type": "code",
   "execution_count": 17,
   "id": "5b510bb5-cb2e-4de0-8145-b6b15416202a",
   "metadata": {},
   "outputs": [],
   "source": [
    "pred_x = pd.DataFrame(pred_x)\n",
    "pred_x[\"t\"] = t"
   ]
  },
  {
   "cell_type": "code",
   "execution_count": 18,
   "id": "87e00d45-5a34-4348-8d92-bf9ed58fb850",
   "metadata": {},
   "outputs": [
    {
     "name": "stdout",
     "output_type": "stream",
     "text": [
      "432/432 [==============================] - 0s 698us/step\n"
     ]
    }
   ],
   "source": [
    "preds = model.predict(pred_x, batch_size=200)"
   ]
  },
  {
   "cell_type": "code",
   "execution_count": 19,
   "id": "9a55d5a7-a9cd-44a7-b211-36ae49bfe730",
   "metadata": {},
   "outputs": [
    {
     "data": {
      "text/plain": [
       "[<matplotlib.lines.Line2D at 0x7f9e941857c0>]"
      ]
     },
     "execution_count": 19,
     "metadata": {},
     "output_type": "execute_result"
    },
    {
     "data": {
      "image/png": "[encoded data removed]",
      "text/plain": [
       "<Figure size 432x288 with 1 Axes>"
      ]
     },
     "metadata": {
      "needs_background": "light"
     },
     "output_type": "display_data"
    }
   ],
   "source": [
    "plt.plot(vis_data)\n",
    "plt.plot(t, preds)"
   ]
  },
  {
   "cell_type": "code",
   "execution_count": 20,
   "id": "6875eb82-5923-4725-8266-895e20d8757f",
   "metadata": {},
   "outputs": [
    {
     "name": "stdout",
     "output_type": "stream",
     "text": [
      "INFO:tensorflow:Unsupported signature for serialization: ((TensorSpec(shape=(79, 64), dtype=tf.float32, name='gradient'), <tensorflow.python.framework.func_graph.UnknownArgument object at 0x7f9e99af7490>, 140319160368624), {}).\n"
     ]
    },
    {
     "name": "stderr",
     "output_type": "stream",
     "text": [
      "INFO:tensorflow:Unsupported signature for serialization: ((TensorSpec(shape=(79, 64), dtype=tf.float32, name='gradient'), <tensorflow.python.framework.func_graph.UnknownArgument object at 0x7f9e99af7490>, 140319160368624), {}).\n"
     ]
    },
    {
     "name": "stdout",
     "output_type": "stream",
     "text": [
      "INFO:tensorflow:Unsupported signature for serialization: ((TensorSpec(shape=(64,), dtype=tf.float32, name='gradient'), <tensorflow.python.framework.func_graph.UnknownArgument object at 0x7f9e99aa4460>, 140319169001136), {}).\n"
     ]
    },
    {
     "name": "stderr",
     "output_type": "stream",
     "text": [
      "INFO:tensorflow:Unsupported signature for serialization: ((TensorSpec(shape=(64,), dtype=tf.float32, name='gradient'), <tensorflow.python.framework.func_graph.UnknownArgument object at 0x7f9e99aa4460>, 140319169001136), {}).\n"
     ]
    },
    {
     "name": "stdout",
     "output_type": "stream",
     "text": [
      "INFO:tensorflow:Unsupported signature for serialization: ((TensorSpec(shape=(64, 64), dtype=tf.float32, name='gradient'), <tensorflow.python.framework.func_graph.UnknownArgument object at 0x7f9e99ab5280>, 140319160070192), {}).\n"
     ]
    },
    {
     "name": "stderr",
     "output_type": "stream",
     "text": [
      "INFO:tensorflow:Unsupported signature for serialization: ((TensorSpec(shape=(64, 64), dtype=tf.float32, name='gradient'), <tensorflow.python.framework.func_graph.UnknownArgument object at 0x7f9e99ab5280>, 140319160070192), {}).\n"
     ]
    },
    {
     "name": "stdout",
     "output_type": "stream",
     "text": [
      "INFO:tensorflow:Unsupported signature for serialization: ((TensorSpec(shape=(64,), dtype=tf.float32, name='gradient'), <tensorflow.python.framework.func_graph.UnknownArgument object at 0x7f9e9415a940>, 140319160070752), {}).\n"
     ]
    },
    {
     "name": "stderr",
     "output_type": "stream",
     "text": [
      "INFO:tensorflow:Unsupported signature for serialization: ((TensorSpec(shape=(64,), dtype=tf.float32, name='gradient'), <tensorflow.python.framework.func_graph.UnknownArgument object at 0x7f9e9415a940>, 140319160070752), {}).\n"
     ]
    },
    {
     "name": "stdout",
     "output_type": "stream",
     "text": [
      "INFO:tensorflow:Unsupported signature for serialization: ((TensorSpec(shape=(64, 1), dtype=tf.float32, name='gradient'), <tensorflow.python.framework.func_graph.UnknownArgument object at 0x7f9e9416eb50>, 140319160073392), {}).\n"
     ]
    },
    {
     "name": "stderr",
     "output_type": "stream",
     "text": [
      "INFO:tensorflow:Unsupported signature for serialization: ((TensorSpec(shape=(64, 1), dtype=tf.float32, name='gradient'), <tensorflow.python.framework.func_graph.UnknownArgument object at 0x7f9e9416eb50>, 140319160073392), {}).\n"
     ]
    },
    {
     "name": "stdout",
     "output_type": "stream",
     "text": [
      "INFO:tensorflow:Unsupported signature for serialization: ((TensorSpec(shape=(1,), dtype=tf.float32, name='gradient'), <tensorflow.python.framework.func_graph.UnknownArgument object at 0x7f9e94179b50>, 140319160074032), {}).\n"
     ]
    },
    {
     "name": "stderr",
     "output_type": "stream",
     "text": [
      "INFO:tensorflow:Unsupported signature for serialization: ((TensorSpec(shape=(1,), dtype=tf.float32, name='gradient'), <tensorflow.python.framework.func_graph.UnknownArgument object at 0x7f9e94179b50>, 140319160074032), {}).\n"
     ]
    },
    {
     "name": "stdout",
     "output_type": "stream",
     "text": [
      "INFO:tensorflow:Unsupported signature for serialization: ((TensorSpec(shape=(79, 64), dtype=tf.float32, name='gradient'), <tensorflow.python.framework.func_graph.UnknownArgument object at 0x7f9e99af7490>, 140319160368624), {}).\n"
     ]
    },
    {
     "name": "stderr",
     "output_type": "stream",
     "text": [
      "INFO:tensorflow:Unsupported signature for serialization: ((TensorSpec(shape=(79, 64), dtype=tf.float32, name='gradient'), <tensorflow.python.framework.func_graph.UnknownArgument object at 0x7f9e99af7490>, 140319160368624), {}).\n"
     ]
    },
    {
     "name": "stdout",
     "output_type": "stream",
     "text": [
      "INFO:tensorflow:Unsupported signature for serialization: ((TensorSpec(shape=(64,), dtype=tf.float32, name='gradient'), <tensorflow.python.framework.func_graph.UnknownArgument object at 0x7f9e99aa4460>, 140319169001136), {}).\n"
     ]
    },
    {
     "name": "stderr",
     "output_type": "stream",
     "text": [
      "INFO:tensorflow:Unsupported signature for serialization: ((TensorSpec(shape=(64,), dtype=tf.float32, name='gradient'), <tensorflow.python.framework.func_graph.UnknownArgument object at 0x7f9e99aa4460>, 140319169001136), {}).\n"
     ]
    },
    {
     "name": "stdout",
     "output_type": "stream",
     "text": [
      "INFO:tensorflow:Unsupported signature for serialization: ((TensorSpec(shape=(64, 64), dtype=tf.float32, name='gradient'), <tensorflow.python.framework.func_graph.UnknownArgument object at 0x7f9e99ab5280>, 140319160070192), {}).\n"
     ]
    },
    {
     "name": "stderr",
     "output_type": "stream",
     "text": [
      "INFO:tensorflow:Unsupported signature for serialization: ((TensorSpec(shape=(64, 64), dtype=tf.float32, name='gradient'), <tensorflow.python.framework.func_graph.UnknownArgument object at 0x7f9e99ab5280>, 140319160070192), {}).\n"
     ]
    },
    {
     "name": "stdout",
     "output_type": "stream",
     "text": [
      "INFO:tensorflow:Unsupported signature for serialization: ((TensorSpec(shape=(64,), dtype=tf.float32, name='gradient'), <tensorflow.python.framework.func_graph.UnknownArgument object at 0x7f9e9415a940>, 140319160070752), {}).\n"
     ]
    },
    {
     "name": "stderr",
     "output_type": "stream",
     "text": [
      "INFO:tensorflow:Unsupported signature for serialization: ((TensorSpec(shape=(64,), dtype=tf.float32, name='gradient'), <tensorflow.python.framework.func_graph.UnknownArgument object at 0x7f9e9415a940>, 140319160070752), {}).\n"
     ]
    },
    {
     "name": "stdout",
     "output_type": "stream",
     "text": [
      "INFO:tensorflow:Unsupported signature for serialization: ((TensorSpec(shape=(64, 1), dtype=tf.float32, name='gradient'), <tensorflow.python.framework.func_graph.UnknownArgument object at 0x7f9e9416eb50>, 140319160073392), {}).\n"
     ]
    },
    {
     "name": "stderr",
     "output_type": "stream",
     "text": [
      "INFO:tensorflow:Unsupported signature for serialization: ((TensorSpec(shape=(64, 1), dtype=tf.float32, name='gradient'), <tensorflow.python.framework.func_graph.UnknownArgument object at 0x7f9e9416eb50>, 140319160073392), {}).\n"
     ]
    },
    {
     "name": "stdout",
     "output_type": "stream",
     "text": [
      "INFO:tensorflow:Unsupported signature for serialization: ((TensorSpec(shape=(1,), dtype=tf.float32, name='gradient'), <tensorflow.python.framework.func_graph.UnknownArgument object at 0x7f9e94179b50>, 140319160074032), {}).\n"
     ]
    },
    {
     "name": "stderr",
     "output_type": "stream",
     "text": [
      "INFO:tensorflow:Unsupported signature for serialization: ((TensorSpec(shape=(1,), dtype=tf.float32, name='gradient'), <tensorflow.python.framework.func_graph.UnknownArgument object at 0x7f9e94179b50>, 140319160074032), {}).\n"
     ]
    },
    {
     "name": "stdout",
     "output_type": "stream",
     "text": [
      "INFO:tensorflow:Assets written to: saved_models/pretrained/assets\n"
     ]
    },
    {
     "name": "stderr",
     "output_type": "stream",
     "text": [
      "INFO:tensorflow:Assets written to: saved_models/pretrained/assets\n"
     ]
    }
   ],
   "source": [
    "model.save(\"saved_models/pretrained\")"
   ]
  }
 ],
 "metadata": {
  "kernelspec": {
   "display_name": "tf_env",
   "language": "python",
   "name": "tf_env"
  },
  "language_info": {
   "codemirror_mode": {
    "name": "ipython",
    "version": 3
   },
   "file_extension": ".py",
   "mimetype": "text/x-python",
   "name": "python",
   "nbconvert_exporter": "python",
   "pygments_lexer": "ipython3",
   "version": "3.9.16"
  }
 },
 "nbformat": 4,
 "nbformat_minor": 5
}
