{
 "cells": [
  {
   "cell_type": "markdown",
   "id": "f12529f0-29b2-4fb3-a7b7-28c4b8afbe27",
   "metadata": {},
   "source": [
    "# **Pretrain a TF model to imitate federated learning**"
   ]
  },
  {
   "cell_type": "code",
   "execution_count": 1,
   "id": "f64db9f7-5f59-4a23-a501-4c2360430cef",
   "metadata": {},
   "outputs": [],
   "source": [
    "import numpy as np\n",
    "import pandas as pd\n",
    "\n",
    "import matplotlib.pyplot as plt"
   ]
  },
  {
   "cell_type": "code",
   "execution_count": 2,
   "id": "819e2fa0-009d-4ceb-91d9-2707590e5740",
   "metadata": {},
   "outputs": [
    {
     "name": "stderr",
     "output_type": "stream",
     "text": [
      "2024-01-14 11:55:24.788893: I tensorflow/core/platform/cpu_feature_guard.cc:182] This TensorFlow binary is optimized to use available CPU instructions in performance-critical operations.\n",
      "To enable the following instructions: AVX2 FMA, in other operations, rebuild TensorFlow with the appropriate compiler flags.\n",
      "2024-01-14 11:55:25.331885: W tensorflow/compiler/tf2tensorrt/utils/py_utils.cc:38] TF-TRT Warning: Could not find TensorRT\n"
     ]
    }
   ],
   "source": [
    "import tensorflow as tf\n",
    "from tensorflow import keras\n",
    "from tensorflow.keras import layers"
   ]
  },
  {
   "cell_type": "code",
   "execution_count": 3,
   "id": "e83de654-055a-421e-8880-3a1f480ddca4",
   "metadata": {},
   "outputs": [],
   "source": [
    "RESULTS_ROOT = \"../01_simulation/04_results/\"\n",
    "SEEDS = ['42', '1234', '1867', '613', '1001']"
   ]
  },
  {
   "cell_type": "code",
   "execution_count": 4,
   "id": "26ab7aed-8414-4ec5-b1bf-87835e8ac31d",
   "metadata": {},
   "outputs": [],
   "source": [
    "p_data = pd.DataFrame()\n",
    "#READING DATA:\n",
    "for s in SEEDS:\n",
    "    filename = RESULTS_ROOT+f'poccup_by_vehs_{s}.csv'\n",
    "    pf = pd.read_csv(filename)\n",
    "    pf[\"seed\"] = [s]*len(pf)\n",
    "    p_data = pd.concat([p_data, pf])\n",
    "    \n",
    "p_data = pd.get_dummies(p_data, columns=[\"parking_id\"])\n",
    "p_data[\"time\"] = p_data[\"time\"] - 4*24*60*60\n",
    "p_data[\"time\"] = p_data[\"time\"].astype(int)\n",
    "p_data[\"time_of_day\"] = (p_data[\"time\"] - (p_data[\"time\"] // (24*60*60))*24*60*60) / (24*60*60) #converting to 0.0-1.0 and removing periodicity"
   ]
  },
  {
   "cell_type": "markdown",
   "id": "9112903b-bdc5-4c5d-a6a0-6e2c9037edfb",
   "metadata": {
    "jp-MarkdownHeadingCollapsed": true,
    "tags": []
   },
   "source": [
    "## Create vehicle list"
   ]
  },
  {
   "cell_type": "code",
   "execution_count": 6,
   "id": "3faece9c-6b86-48e8-88eb-2b52dcf32e3d",
   "metadata": {},
   "outputs": [],
   "source": [
    "vehicles = np.random.choice(p_data[\"veh_id\"].unique(), 800)"
   ]
  },
  {
   "cell_type": "code",
   "execution_count": 7,
   "id": "72a736bb-09bc-4bc5-82a5-af8a4c7492b1",
   "metadata": {},
   "outputs": [],
   "source": [
    "# save the list of selected vehicles:\n",
    "import json\n",
    "\n",
    "save_vehs = {\n",
    "    \"sel_vehs\": list(vehicles)\n",
    "}\n",
    "with open(\"veh_list.json\", \"w\") as f:\n",
    "    json.dump(save_vehs, f)"
   ]
  },
  {
   "cell_type": "markdown",
   "id": "34658f11-0614-4897-902b-c6eb69b63a93",
   "metadata": {
    "tags": []
   },
   "source": [
    "## Load vehicle list"
   ]
  },
  {
   "cell_type": "code",
   "execution_count": 5,
   "id": "c51a784c-1676-4766-ba52-f647271732a6",
   "metadata": {},
   "outputs": [],
   "source": [
    "#loading the list selected vehicles:\n",
    "import json\n",
    "\n",
    "with open(\"veh_list.json\", \"r\") as f:\n",
    "    saved_vehs = json.load(f)\n",
    "vehicles = saved_vehs[\"sel_vehs\"]"
   ]
  },
  {
   "cell_type": "markdown",
   "id": "141a214f-d472-450b-ad73-97f935a39c76",
   "metadata": {},
   "source": [
    "## Training"
   ]
  },
  {
   "cell_type": "code",
   "execution_count": 6,
   "id": "03e8a43f-d4ec-4176-aba8-8dbd7918b303",
   "metadata": {},
   "outputs": [],
   "source": [
    "p_train = p_data[p_data[\"veh_id\"].isin(vehicles)]"
   ]
  },
  {
   "cell_type": "code",
   "execution_count": 7,
   "id": "87271d25-7f2d-44bf-8080-c8bcebeac9d2",
   "metadata": {},
   "outputs": [],
   "source": [
    "#p_train = p_train[p_train[\"time\"] < 3*24*60*60]"
   ]
  },
  {
   "cell_type": "code",
   "execution_count": 8,
   "id": "5eb9a1a2-b9c8-48db-b2d1-527a5147847b",
   "metadata": {},
   "outputs": [
    {
     "name": "stderr",
     "output_type": "stream",
     "text": [
      "2024-01-14 11:55:39.298100: I tensorflow/compiler/xla/stream_executor/cuda/cuda_gpu_executor.cc:995] successful NUMA node read from SysFS had negative value (-1), but there must be at least one NUMA node, so returning NUMA node zero. See more at https://github.com/torvalds/linux/blob/v6.0/Documentation/ABI/testing/sysfs-bus-pci#L344-L355\n",
      "2024-01-14 11:55:39.335820: I tensorflow/compiler/xla/stream_executor/cuda/cuda_gpu_executor.cc:995] successful NUMA node read from SysFS had negative value (-1), but there must be at least one NUMA node, so returning NUMA node zero. See more at https://github.com/torvalds/linux/blob/v6.0/Documentation/ABI/testing/sysfs-bus-pci#L344-L355\n",
      "2024-01-14 11:55:39.335991: I tensorflow/compiler/xla/stream_executor/cuda/cuda_gpu_executor.cc:995] successful NUMA node read from SysFS had negative value (-1), but there must be at least one NUMA node, so returning NUMA node zero. See more at https://github.com/torvalds/linux/blob/v6.0/Documentation/ABI/testing/sysfs-bus-pci#L344-L355\n",
      "2024-01-14 11:55:39.336745: I tensorflow/compiler/xla/stream_executor/cuda/cuda_gpu_executor.cc:995] successful NUMA node read from SysFS had negative value (-1), but there must be at least one NUMA node, so returning NUMA node zero. See more at https://github.com/torvalds/linux/blob/v6.0/Documentation/ABI/testing/sysfs-bus-pci#L344-L355\n",
      "2024-01-14 11:55:39.336899: I tensorflow/compiler/xla/stream_executor/cuda/cuda_gpu_executor.cc:995] successful NUMA node read from SysFS had negative value (-1), but there must be at least one NUMA node, so returning NUMA node zero. See more at https://github.com/torvalds/linux/blob/v6.0/Documentation/ABI/testing/sysfs-bus-pci#L344-L355\n",
      "2024-01-14 11:55:39.337008: I tensorflow/compiler/xla/stream_executor/cuda/cuda_gpu_executor.cc:995] successful NUMA node read from SysFS had negative value (-1), but there must be at least one NUMA node, so returning NUMA node zero. See more at https://github.com/torvalds/linux/blob/v6.0/Documentation/ABI/testing/sysfs-bus-pci#L344-L355\n",
      "2024-01-14 11:55:39.384320: I tensorflow/compiler/xla/stream_executor/cuda/cuda_gpu_executor.cc:995] successful NUMA node read from SysFS had negative value (-1), but there must be at least one NUMA node, so returning NUMA node zero. See more at https://github.com/torvalds/linux/blob/v6.0/Documentation/ABI/testing/sysfs-bus-pci#L344-L355\n",
      "2024-01-14 11:55:39.384473: I tensorflow/compiler/xla/stream_executor/cuda/cuda_gpu_executor.cc:995] successful NUMA node read from SysFS had negative value (-1), but there must be at least one NUMA node, so returning NUMA node zero. See more at https://github.com/torvalds/linux/blob/v6.0/Documentation/ABI/testing/sysfs-bus-pci#L344-L355\n",
      "2024-01-14 11:55:39.384592: I tensorflow/compiler/xla/stream_executor/cuda/cuda_gpu_executor.cc:995] successful NUMA node read from SysFS had negative value (-1), but there must be at least one NUMA node, so returning NUMA node zero. See more at https://github.com/torvalds/linux/blob/v6.0/Documentation/ABI/testing/sysfs-bus-pci#L344-L355\n",
      "2024-01-14 11:55:39.384687: I tensorflow/core/common_runtime/gpu/gpu_device.cc:1639] Created device /job:localhost/replica:0/task:0/device:GPU:0 with 4266 MB memory:  -> device: 0, name: NVIDIA GeForce RTX 3060 Laptop GPU, pci bus id: 0000:01:00.0, compute capability: 8.6\n"
     ]
    }
   ],
   "source": [
    "model = keras.Sequential([\n",
    "    layers.Dense(64, activation=\"relu\"),\n",
    "    layers.Dense(128, activation=\"relu\"),\n",
    "    layers.Dense(64, activation=\"relu\"),\n",
    "    layers.Dense(1)\n",
    "])\n",
    "\n",
    "model.compile(loss=\"mse\", optimizer=tf.keras.optimizers.Adam(0.001))\n",
    "callbacks = [tf.keras.callbacks.EarlyStopping(monitor=\"loss\", patience=3)]"
   ]
  },
  {
   "cell_type": "code",
   "execution_count": 9,
   "id": "04c5dfab-1412-425a-b1f3-a043f7fd4eee",
   "metadata": {},
   "outputs": [],
   "source": [
    "X_train = p_train.drop(columns=[\"veh_id\", \"time\", \"occupancy\", \"seed\"])\n",
    "y_train = p_train[\"occupancy\"]"
   ]
  },
  {
   "cell_type": "code",
   "execution_count": 10,
   "id": "b14b0e7d-75da-4a25-904a-3964fa4fdd51",
   "metadata": {},
   "outputs": [
    {
     "name": "stdout",
     "output_type": "stream",
     "text": [
      "Epoch 1/10000\n"
     ]
    },
    {
     "name": "stderr",
     "output_type": "stream",
     "text": [
      "2024-01-14 11:55:52.467542: I tensorflow/compiler/xla/stream_executor/cuda/cuda_blas.cc:606] TensorFloat-32 will be used for the matrix multiplication. This will only be logged once.\n",
      "2024-01-14 11:55:52.484163: I tensorflow/compiler/xla/service/service.cc:168] XLA service 0x7fcf70d153d0 initialized for platform CUDA (this does not guarantee that XLA will be used). Devices:\n",
      "2024-01-14 11:55:52.484182: I tensorflow/compiler/xla/service/service.cc:176]   StreamExecutor device (0): NVIDIA GeForce RTX 3060 Laptop GPU, Compute Capability 8.6\n",
      "2024-01-14 11:55:52.487198: I tensorflow/compiler/mlir/tensorflow/utils/dump_mlir_util.cc:255] disabling MLIR crash reproducer, set env var `MLIR_CRASH_REPRODUCER_DIRECTORY` to enable.\n",
      "2024-01-14 11:55:52.504864: I tensorflow/compiler/xla/stream_executor/cuda/cuda_dnn.cc:432] Loaded cuDNN version 8907\n",
      "2024-01-14 11:55:52.543464: I tensorflow/tsl/platform/default/subprocess.cc:304] Start cannot spawn child process: No such file or directory\n",
      "2024-01-14 11:55:52.584297: I ./tensorflow/compiler/jit/device_compiler.h:186] Compiled cluster using XLA!  This line is logged at most once for the lifetime of the process.\n"
     ]
    },
    {
     "name": "stdout",
     "output_type": "stream",
     "text": [
      "138/138 [==============================] - 2s 4ms/step - loss: 0.0734\n",
      "Epoch 2/10000\n",
      "138/138 [==============================] - 1s 4ms/step - loss: 0.0262\n",
      "Epoch 3/10000\n",
      "138/138 [==============================] - 1s 4ms/step - loss: 0.0092\n",
      "Epoch 4/10000\n",
      "138/138 [==============================] - 1s 4ms/step - loss: 0.0049\n",
      "Epoch 5/10000\n",
      "138/138 [==============================] - 1s 4ms/step - loss: 0.0037\n",
      "Epoch 6/10000\n",
      "138/138 [==============================] - 1s 4ms/step - loss: 0.0032\n",
      "Epoch 7/10000\n",
      "138/138 [==============================] - 1s 5ms/step - loss: 0.0029\n",
      "Epoch 8/10000\n",
      "138/138 [==============================] - 1s 4ms/step - loss: 0.0027\n",
      "Epoch 9/10000\n",
      "138/138 [==============================] - 1s 4ms/step - loss: 0.0026\n",
      "Epoch 10/10000\n",
      "138/138 [==============================] - 1s 4ms/step - loss: 0.0025\n",
      "Epoch 11/10000\n",
      "138/138 [==============================] - 1s 4ms/step - loss: 0.0025\n",
      "Epoch 12/10000\n",
      "138/138 [==============================] - 1s 4ms/step - loss: 0.0024\n",
      "Epoch 13/10000\n",
      "138/138 [==============================] - 1s 4ms/step - loss: 0.0024\n",
      "Epoch 14/10000\n",
      "138/138 [==============================] - 1s 4ms/step - loss: 0.0024\n",
      "Epoch 15/10000\n",
      "138/138 [==============================] - 1s 4ms/step - loss: 0.0024\n",
      "Epoch 16/10000\n",
      "138/138 [==============================] - 1s 4ms/step - loss: 0.0023\n",
      "Epoch 17/10000\n",
      "138/138 [==============================] - 1s 4ms/step - loss: 0.0023\n",
      "Epoch 18/10000\n",
      "138/138 [==============================] - 1s 4ms/step - loss: 0.0023\n",
      "Epoch 19/10000\n",
      "138/138 [==============================] - 1s 4ms/step - loss: 0.0023\n",
      "Epoch 20/10000\n",
      "138/138 [==============================] - 1s 4ms/step - loss: 0.0023\n",
      "Epoch 21/10000\n",
      "138/138 [==============================] - 1s 4ms/step - loss: 0.0023\n",
      "Epoch 22/10000\n",
      "138/138 [==============================] - 1s 5ms/step - loss: 0.0023\n",
      "Epoch 23/10000\n",
      "138/138 [==============================] - 1s 4ms/step - loss: 0.0022\n",
      "Epoch 24/10000\n",
      "138/138 [==============================] - 1s 5ms/step - loss: 0.0023\n",
      "Epoch 25/10000\n",
      "138/138 [==============================] - 1s 4ms/step - loss: 0.0023\n",
      "Epoch 26/10000\n",
      "138/138 [==============================] - 1s 4ms/step - loss: 0.0022\n",
      "Epoch 27/10000\n",
      "138/138 [==============================] - 1s 4ms/step - loss: 0.0022\n",
      "Epoch 28/10000\n",
      "138/138 [==============================] - 1s 5ms/step - loss: 0.0022\n",
      "Epoch 29/10000\n",
      "138/138 [==============================] - 1s 5ms/step - loss: 0.0022\n",
      "Epoch 30/10000\n",
      "138/138 [==============================] - 1s 5ms/step - loss: 0.0023\n",
      "Epoch 31/10000\n",
      "138/138 [==============================] - 1s 4ms/step - loss: 0.0022\n",
      "Epoch 32/10000\n",
      "138/138 [==============================] - 1s 4ms/step - loss: 0.0022\n",
      "Epoch 33/10000\n",
      "138/138 [==============================] - 1s 4ms/step - loss: 0.0022\n",
      "Epoch 34/10000\n",
      "138/138 [==============================] - 1s 4ms/step - loss: 0.0022\n",
      "Epoch 35/10000\n",
      "138/138 [==============================] - 1s 4ms/step - loss: 0.0022\n",
      "Epoch 36/10000\n",
      "138/138 [==============================] - 1s 4ms/step - loss: 0.0022\n"
     ]
    }
   ],
   "source": [
    "history = model.fit(x=X_train, y=y_train, epochs=10000, batch_size=10000, callbacks=callbacks)"
   ]
  },
  {
   "cell_type": "markdown",
   "id": "a1bc9891-77aa-4151-80ac-27168135cc82",
   "metadata": {},
   "source": [
    "## **Checking**"
   ]
  },
  {
   "cell_type": "code",
   "execution_count": 11,
   "id": "0c1f2617-a79a-4d15-b093-aa914d53e401",
   "metadata": {},
   "outputs": [
    {
     "data": {
      "text/html": [
       "<div>\n",
       "<style scoped>\n",
       "    .dataframe tbody tr th:only-of-type {\n",
       "        vertical-align: middle;\n",
       "    }\n",
       "\n",
       "    .dataframe tbody tr th {\n",
       "        vertical-align: top;\n",
       "    }\n",
       "\n",
       "    .dataframe thead th {\n",
       "        text-align: right;\n",
       "    }\n",
       "</style>\n",
       "<table border=\"1\" class=\"dataframe\">\n",
       "  <thead>\n",
       "    <tr style=\"text-align: right;\">\n",
       "      <th></th>\n",
       "      <th>veh_id</th>\n",
       "      <th>time</th>\n",
       "      <th>occupancy</th>\n",
       "      <th>seed</th>\n",
       "      <th>parking_id_pa-109</th>\n",
       "      <th>parking_id_pa-11</th>\n",
       "      <th>parking_id_pa-120</th>\n",
       "      <th>parking_id_pa-123</th>\n",
       "      <th>parking_id_pa-131</th>\n",
       "      <th>parking_id_pa-144</th>\n",
       "      <th>...</th>\n",
       "      <th>parking_id_pa55</th>\n",
       "      <th>parking_id_pa58</th>\n",
       "      <th>parking_id_pa60</th>\n",
       "      <th>parking_id_pa64</th>\n",
       "      <th>parking_id_pa68</th>\n",
       "      <th>parking_id_pa71</th>\n",
       "      <th>parking_id_pa75</th>\n",
       "      <th>parking_id_pa79</th>\n",
       "      <th>parking_id_pa92</th>\n",
       "      <th>time_of_day</th>\n",
       "    </tr>\n",
       "  </thead>\n",
       "  <tbody>\n",
       "    <tr>\n",
       "      <th>0</th>\n",
       "      <td>h3098c1:0</td>\n",
       "      <td>10</td>\n",
       "      <td>0.923077</td>\n",
       "      <td>42</td>\n",
       "      <td>0</td>\n",
       "      <td>0</td>\n",
       "      <td>0</td>\n",
       "      <td>0</td>\n",
       "      <td>0</td>\n",
       "      <td>0</td>\n",
       "      <td>...</td>\n",
       "      <td>0</td>\n",
       "      <td>0</td>\n",
       "      <td>0</td>\n",
       "      <td>0</td>\n",
       "      <td>0</td>\n",
       "      <td>0</td>\n",
       "      <td>0</td>\n",
       "      <td>0</td>\n",
       "      <td>0</td>\n",
       "      <td>0.000116</td>\n",
       "    </tr>\n",
       "    <tr>\n",
       "      <th>1</th>\n",
       "      <td>h3098c1:0</td>\n",
       "      <td>10</td>\n",
       "      <td>0.842105</td>\n",
       "      <td>42</td>\n",
       "      <td>0</td>\n",
       "      <td>0</td>\n",
       "      <td>0</td>\n",
       "      <td>0</td>\n",
       "      <td>0</td>\n",
       "      <td>0</td>\n",
       "      <td>...</td>\n",
       "      <td>0</td>\n",
       "      <td>0</td>\n",
       "      <td>0</td>\n",
       "      <td>0</td>\n",
       "      <td>0</td>\n",
       "      <td>0</td>\n",
       "      <td>0</td>\n",
       "      <td>0</td>\n",
       "      <td>0</td>\n",
       "      <td>0.000116</td>\n",
       "    </tr>\n",
       "    <tr>\n",
       "      <th>2</th>\n",
       "      <td>h3098c1:0</td>\n",
       "      <td>10</td>\n",
       "      <td>0.769231</td>\n",
       "      <td>42</td>\n",
       "      <td>0</td>\n",
       "      <td>0</td>\n",
       "      <td>0</td>\n",
       "      <td>0</td>\n",
       "      <td>0</td>\n",
       "      <td>0</td>\n",
       "      <td>...</td>\n",
       "      <td>0</td>\n",
       "      <td>0</td>\n",
       "      <td>0</td>\n",
       "      <td>0</td>\n",
       "      <td>0</td>\n",
       "      <td>0</td>\n",
       "      <td>0</td>\n",
       "      <td>0</td>\n",
       "      <td>0</td>\n",
       "      <td>0.000116</td>\n",
       "    </tr>\n",
       "    <tr>\n",
       "      <th>3</th>\n",
       "      <td>h3098c1:0</td>\n",
       "      <td>11</td>\n",
       "      <td>0.923077</td>\n",
       "      <td>42</td>\n",
       "      <td>0</td>\n",
       "      <td>0</td>\n",
       "      <td>0</td>\n",
       "      <td>0</td>\n",
       "      <td>0</td>\n",
       "      <td>0</td>\n",
       "      <td>...</td>\n",
       "      <td>0</td>\n",
       "      <td>0</td>\n",
       "      <td>0</td>\n",
       "      <td>0</td>\n",
       "      <td>0</td>\n",
       "      <td>0</td>\n",
       "      <td>0</td>\n",
       "      <td>0</td>\n",
       "      <td>0</td>\n",
       "      <td>0.000127</td>\n",
       "    </tr>\n",
       "    <tr>\n",
       "      <th>4</th>\n",
       "      <td>h3098c1:0</td>\n",
       "      <td>11</td>\n",
       "      <td>0.842105</td>\n",
       "      <td>42</td>\n",
       "      <td>0</td>\n",
       "      <td>0</td>\n",
       "      <td>0</td>\n",
       "      <td>0</td>\n",
       "      <td>0</td>\n",
       "      <td>0</td>\n",
       "      <td>...</td>\n",
       "      <td>0</td>\n",
       "      <td>0</td>\n",
       "      <td>0</td>\n",
       "      <td>0</td>\n",
       "      <td>0</td>\n",
       "      <td>0</td>\n",
       "      <td>0</td>\n",
       "      <td>0</td>\n",
       "      <td>0</td>\n",
       "      <td>0.000127</td>\n",
       "    </tr>\n",
       "    <tr>\n",
       "      <th>...</th>\n",
       "      <td>...</td>\n",
       "      <td>...</td>\n",
       "      <td>...</td>\n",
       "      <td>...</td>\n",
       "      <td>...</td>\n",
       "      <td>...</td>\n",
       "      <td>...</td>\n",
       "      <td>...</td>\n",
       "      <td>...</td>\n",
       "      <td>...</td>\n",
       "      <td>...</td>\n",
       "      <td>...</td>\n",
       "      <td>...</td>\n",
       "      <td>...</td>\n",
       "      <td>...</td>\n",
       "      <td>...</td>\n",
       "      <td>...</td>\n",
       "      <td>...</td>\n",
       "      <td>...</td>\n",
       "      <td>...</td>\n",
       "      <td>...</td>\n",
       "    </tr>\n",
       "    <tr>\n",
       "      <th>3128768</th>\n",
       "      <td>h798c1:0</td>\n",
       "      <td>432000</td>\n",
       "      <td>0.000000</td>\n",
       "      <td>1001</td>\n",
       "      <td>0</td>\n",
       "      <td>0</td>\n",
       "      <td>0</td>\n",
       "      <td>0</td>\n",
       "      <td>0</td>\n",
       "      <td>0</td>\n",
       "      <td>...</td>\n",
       "      <td>0</td>\n",
       "      <td>0</td>\n",
       "      <td>0</td>\n",
       "      <td>0</td>\n",
       "      <td>0</td>\n",
       "      <td>0</td>\n",
       "      <td>0</td>\n",
       "      <td>0</td>\n",
       "      <td>0</td>\n",
       "      <td>0.000000</td>\n",
       "    </tr>\n",
       "    <tr>\n",
       "      <th>3128769</th>\n",
       "      <td>h798c1:0</td>\n",
       "      <td>432000</td>\n",
       "      <td>0.750000</td>\n",
       "      <td>1001</td>\n",
       "      <td>0</td>\n",
       "      <td>0</td>\n",
       "      <td>0</td>\n",
       "      <td>0</td>\n",
       "      <td>0</td>\n",
       "      <td>0</td>\n",
       "      <td>...</td>\n",
       "      <td>0</td>\n",
       "      <td>0</td>\n",
       "      <td>0</td>\n",
       "      <td>0</td>\n",
       "      <td>0</td>\n",
       "      <td>0</td>\n",
       "      <td>0</td>\n",
       "      <td>0</td>\n",
       "      <td>0</td>\n",
       "      <td>0.000000</td>\n",
       "    </tr>\n",
       "    <tr>\n",
       "      <th>3128770</th>\n",
       "      <td>h3101c1:0</td>\n",
       "      <td>432000</td>\n",
       "      <td>0.428571</td>\n",
       "      <td>1001</td>\n",
       "      <td>0</td>\n",
       "      <td>1</td>\n",
       "      <td>0</td>\n",
       "      <td>0</td>\n",
       "      <td>0</td>\n",
       "      <td>0</td>\n",
       "      <td>...</td>\n",
       "      <td>0</td>\n",
       "      <td>0</td>\n",
       "      <td>0</td>\n",
       "      <td>0</td>\n",
       "      <td>0</td>\n",
       "      <td>0</td>\n",
       "      <td>0</td>\n",
       "      <td>0</td>\n",
       "      <td>0</td>\n",
       "      <td>0.000000</td>\n",
       "    </tr>\n",
       "    <tr>\n",
       "      <th>3128771</th>\n",
       "      <td>h3101c1:0</td>\n",
       "      <td>432000</td>\n",
       "      <td>0.000000</td>\n",
       "      <td>1001</td>\n",
       "      <td>0</td>\n",
       "      <td>0</td>\n",
       "      <td>0</td>\n",
       "      <td>0</td>\n",
       "      <td>0</td>\n",
       "      <td>0</td>\n",
       "      <td>...</td>\n",
       "      <td>0</td>\n",
       "      <td>0</td>\n",
       "      <td>0</td>\n",
       "      <td>0</td>\n",
       "      <td>0</td>\n",
       "      <td>0</td>\n",
       "      <td>0</td>\n",
       "      <td>0</td>\n",
       "      <td>0</td>\n",
       "      <td>0.000000</td>\n",
       "    </tr>\n",
       "    <tr>\n",
       "      <th>3128772</th>\n",
       "      <td>h3101c1:0</td>\n",
       "      <td>432000</td>\n",
       "      <td>0.750000</td>\n",
       "      <td>1001</td>\n",
       "      <td>0</td>\n",
       "      <td>0</td>\n",
       "      <td>0</td>\n",
       "      <td>0</td>\n",
       "      <td>0</td>\n",
       "      <td>0</td>\n",
       "      <td>...</td>\n",
       "      <td>0</td>\n",
       "      <td>0</td>\n",
       "      <td>0</td>\n",
       "      <td>0</td>\n",
       "      <td>0</td>\n",
       "      <td>0</td>\n",
       "      <td>0</td>\n",
       "      <td>0</td>\n",
       "      <td>0</td>\n",
       "      <td>0.000000</td>\n",
       "    </tr>\n",
       "  </tbody>\n",
       "</table>\n",
       "<p>15678789 rows × 83 columns</p>\n",
       "</div>"
      ],
      "text/plain": [
       "            veh_id    time  occupancy  seed  parking_id_pa-109  \\\n",
       "0        h3098c1:0      10   0.923077    42                  0   \n",
       "1        h3098c1:0      10   0.842105    42                  0   \n",
       "2        h3098c1:0      10   0.769231    42                  0   \n",
       "3        h3098c1:0      11   0.923077    42                  0   \n",
       "4        h3098c1:0      11   0.842105    42                  0   \n",
       "...            ...     ...        ...   ...                ...   \n",
       "3128768   h798c1:0  432000   0.000000  1001                  0   \n",
       "3128769   h798c1:0  432000   0.750000  1001                  0   \n",
       "3128770  h3101c1:0  432000   0.428571  1001                  0   \n",
       "3128771  h3101c1:0  432000   0.000000  1001                  0   \n",
       "3128772  h3101c1:0  432000   0.750000  1001                  0   \n",
       "\n",
       "         parking_id_pa-11  parking_id_pa-120  parking_id_pa-123  \\\n",
       "0                       0                  0                  0   \n",
       "1                       0                  0                  0   \n",
       "2                       0                  0                  0   \n",
       "3                       0                  0                  0   \n",
       "4                       0                  0                  0   \n",
       "...                   ...                ...                ...   \n",
       "3128768                 0                  0                  0   \n",
       "3128769                 0                  0                  0   \n",
       "3128770                 1                  0                  0   \n",
       "3128771                 0                  0                  0   \n",
       "3128772                 0                  0                  0   \n",
       "\n",
       "         parking_id_pa-131  parking_id_pa-144  ...  parking_id_pa55  \\\n",
       "0                        0                  0  ...                0   \n",
       "1                        0                  0  ...                0   \n",
       "2                        0                  0  ...                0   \n",
       "3                        0                  0  ...                0   \n",
       "4                        0                  0  ...                0   \n",
       "...                    ...                ...  ...              ...   \n",
       "3128768                  0                  0  ...                0   \n",
       "3128769                  0                  0  ...                0   \n",
       "3128770                  0                  0  ...                0   \n",
       "3128771                  0                  0  ...                0   \n",
       "3128772                  0                  0  ...                0   \n",
       "\n",
       "         parking_id_pa58  parking_id_pa60  parking_id_pa64  parking_id_pa68  \\\n",
       "0                      0                0                0                0   \n",
       "1                      0                0                0                0   \n",
       "2                      0                0                0                0   \n",
       "3                      0                0                0                0   \n",
       "4                      0                0                0                0   \n",
       "...                  ...              ...              ...              ...   \n",
       "3128768                0                0                0                0   \n",
       "3128769                0                0                0                0   \n",
       "3128770                0                0                0                0   \n",
       "3128771                0                0                0                0   \n",
       "3128772                0                0                0                0   \n",
       "\n",
       "         parking_id_pa71  parking_id_pa75  parking_id_pa79  parking_id_pa92  \\\n",
       "0                      0                0                0                0   \n",
       "1                      0                0                0                0   \n",
       "2                      0                0                0                0   \n",
       "3                      0                0                0                0   \n",
       "4                      0                0                0                0   \n",
       "...                  ...              ...              ...              ...   \n",
       "3128768                0                0                0                0   \n",
       "3128769                0                0                0                0   \n",
       "3128770                0                0                0                0   \n",
       "3128771                0                0                0                0   \n",
       "3128772                0                0                0                0   \n",
       "\n",
       "         time_of_day  \n",
       "0           0.000116  \n",
       "1           0.000116  \n",
       "2           0.000116  \n",
       "3           0.000127  \n",
       "4           0.000127  \n",
       "...              ...  \n",
       "3128768     0.000000  \n",
       "3128769     0.000000  \n",
       "3128770     0.000000  \n",
       "3128771     0.000000  \n",
       "3128772     0.000000  \n",
       "\n",
       "[15678789 rows x 83 columns]"
      ]
     },
     "execution_count": 11,
     "metadata": {},
     "output_type": "execute_result"
    }
   ],
   "source": [
    "p_data"
   ]
  },
  {
   "cell_type": "code",
   "execution_count": 12,
   "id": "eb10587c-d8aa-449e-9729-91080daf7050",
   "metadata": {},
   "outputs": [],
   "source": [
    "#PARKING = \"pa184\"\n",
    "PARKING = \"pa-71\""
   ]
  },
  {
   "cell_type": "code",
   "execution_count": 13,
   "id": "428bbc94-fcb9-46bf-909c-8e0367afa504",
   "metadata": {},
   "outputs": [],
   "source": [
    "parking_data = p_data[p_data[f\"parking_id_{PARKING}\"] == 1]\n",
    "vis_data = parking_data.groupby(\"time_of_day\")[\"occupancy\"].mean()"
   ]
  },
  {
   "cell_type": "code",
   "execution_count": 14,
   "id": "63978936-78de-4499-9cee-7b8035547604",
   "metadata": {},
   "outputs": [],
   "source": [
    "t = np.arange(0, 1, 1/(24*60*60))"
   ]
  },
  {
   "cell_type": "code",
   "execution_count": 15,
   "id": "cd0b5163-e8bb-419b-b742-cfb5fea68db6",
   "metadata": {},
   "outputs": [],
   "source": [
    "one_hot = parking_data.drop(columns=[\"veh_id\", \"time\", \"occupancy\", \"seed\", \"time_of_day\"]).iloc[0]\n",
    "one_hot = [one_hot.values]*len(t)"
   ]
  },
  {
   "cell_type": "code",
   "execution_count": 16,
   "id": "4b391a62-8dbe-464e-b077-b34ccf7aa50a",
   "metadata": {
    "tags": []
   },
   "outputs": [],
   "source": [
    "pred_x = np.array(one_hot)"
   ]
  },
  {
   "cell_type": "code",
   "execution_count": 17,
   "id": "5b510bb5-cb2e-4de0-8145-b6b15416202a",
   "metadata": {},
   "outputs": [],
   "source": [
    "pred_x = pd.DataFrame(pred_x)\n",
    "pred_x[\"t\"] = t"
   ]
  },
  {
   "cell_type": "code",
   "execution_count": 18,
   "id": "87e00d45-5a34-4348-8d92-bf9ed58fb850",
   "metadata": {},
   "outputs": [
    {
     "name": "stdout",
     "output_type": "stream",
     "text": [
      "432/432 [==============================] - 0s 807us/step\n"
     ]
    }
   ],
   "source": [
    "preds = model.predict(pred_x, batch_size=200)"
   ]
  },
  {
   "cell_type": "code",
   "execution_count": 19,
   "id": "9a55d5a7-a9cd-44a7-b211-36ae49bfe730",
   "metadata": {},
   "outputs": [
    {
     "data": {
      "text/plain": [
       "[<matplotlib.lines.Line2D at 0x7fd178497e80>]"
      ]
     },
     "execution_count": 19,
     "metadata": {},
     "output_type": "execute_result"
    },
    {
     "data": {
      "image/png": "[encoded data removed]",
      "text/plain": [
       "<Figure size 432x288 with 1 Axes>"
      ]
     },
     "metadata": {
      "needs_background": "light"
     },
     "output_type": "display_data"
    }
   ],
   "source": [
    "plt.plot(vis_data)\n",
    "plt.plot(t, preds)"
   ]
  },
  {
   "cell_type": "code",
   "execution_count": 20,
   "id": "6875eb82-5923-4725-8266-895e20d8757f",
   "metadata": {},
   "outputs": [
    {
     "name": "stdout",
     "output_type": "stream",
     "text": [
      "INFO:tensorflow:Unsupported signature for serialization: ((TensorSpec(shape=(79, 64), dtype=tf.float32, name='gradient'), <tensorflow.python.framework.func_graph.UnknownArgument object at 0x7fd17bf6b910>, 140537705025328), {}).\n"
     ]
    },
    {
     "name": "stderr",
     "output_type": "stream",
     "text": [
      "INFO:tensorflow:Unsupported signature for serialization: ((TensorSpec(shape=(79, 64), dtype=tf.float32, name='gradient'), <tensorflow.python.framework.func_graph.UnknownArgument object at 0x7fd17bf6b910>, 140537705025328), {}).\n"
     ]
    },
    {
     "name": "stdout",
     "output_type": "stream",
     "text": [
      "INFO:tensorflow:Unsupported signature for serialization: ((TensorSpec(shape=(64,), dtype=tf.float32, name='gradient'), <tensorflow.python.framework.func_graph.UnknownArgument object at 0x7fd17bf2a700>, 140537958275184), {}).\n"
     ]
    },
    {
     "name": "stderr",
     "output_type": "stream",
     "text": [
      "INFO:tensorflow:Unsupported signature for serialization: ((TensorSpec(shape=(64,), dtype=tf.float32, name='gradient'), <tensorflow.python.framework.func_graph.UnknownArgument object at 0x7fd17bf2a700>, 140537958275184), {}).\n"
     ]
    },
    {
     "name": "stdout",
     "output_type": "stream",
     "text": [
      "INFO:tensorflow:Unsupported signature for serialization: ((TensorSpec(shape=(64, 128), dtype=tf.float32, name='gradient'), <tensorflow.python.framework.func_graph.UnknownArgument object at 0x7fd17bf3d670>, 140537705255360), {}).\n"
     ]
    },
    {
     "name": "stderr",
     "output_type": "stream",
     "text": [
      "INFO:tensorflow:Unsupported signature for serialization: ((TensorSpec(shape=(64, 128), dtype=tf.float32, name='gradient'), <tensorflow.python.framework.func_graph.UnknownArgument object at 0x7fd17bf3d670>, 140537705255360), {}).\n"
     ]
    },
    {
     "name": "stdout",
     "output_type": "stream",
     "text": [
      "INFO:tensorflow:Unsupported signature for serialization: ((TensorSpec(shape=(128,), dtype=tf.float32, name='gradient'), <tensorflow.python.framework.func_graph.UnknownArgument object at 0x7fd17bf240a0>, 140537705256000), {}).\n"
     ]
    },
    {
     "name": "stderr",
     "output_type": "stream",
     "text": [
      "INFO:tensorflow:Unsupported signature for serialization: ((TensorSpec(shape=(128,), dtype=tf.float32, name='gradient'), <tensorflow.python.framework.func_graph.UnknownArgument object at 0x7fd17bf240a0>, 140537705256000), {}).\n"
     ]
    },
    {
     "name": "stdout",
     "output_type": "stream",
     "text": [
      "INFO:tensorflow:Unsupported signature for serialization: ((TensorSpec(shape=(128, 64), dtype=tf.float32, name='gradient'), <tensorflow.python.framework.func_graph.UnknownArgument object at 0x7fd1787cfac0>, 140537705258640), {}).\n"
     ]
    },
    {
     "name": "stderr",
     "output_type": "stream",
     "text": [
      "INFO:tensorflow:Unsupported signature for serialization: ((TensorSpec(shape=(128, 64), dtype=tf.float32, name='gradient'), <tensorflow.python.framework.func_graph.UnknownArgument object at 0x7fd1787cfac0>, 140537705258640), {}).\n"
     ]
    },
    {
     "name": "stdout",
     "output_type": "stream",
     "text": [
      "INFO:tensorflow:Unsupported signature for serialization: ((TensorSpec(shape=(64,), dtype=tf.float32, name='gradient'), <tensorflow.python.framework.func_graph.UnknownArgument object at 0x7fd17bf6bfa0>, 140537704751472), {}).\n"
     ]
    },
    {
     "name": "stderr",
     "output_type": "stream",
     "text": [
      "INFO:tensorflow:Unsupported signature for serialization: ((TensorSpec(shape=(64,), dtype=tf.float32, name='gradient'), <tensorflow.python.framework.func_graph.UnknownArgument object at 0x7fd17bf6bfa0>, 140537704751472), {}).\n"
     ]
    },
    {
     "name": "stdout",
     "output_type": "stream",
     "text": [
      "INFO:tensorflow:Unsupported signature for serialization: ((TensorSpec(shape=(64, 1), dtype=tf.float32, name='gradient'), <tensorflow.python.framework.func_graph.UnknownArgument object at 0x7fd17878ff40>, 140537705253984), {}).\n"
     ]
    },
    {
     "name": "stderr",
     "output_type": "stream",
     "text": [
      "INFO:tensorflow:Unsupported signature for serialization: ((TensorSpec(shape=(64, 1), dtype=tf.float32, name='gradient'), <tensorflow.python.framework.func_graph.UnknownArgument object at 0x7fd17878ff40>, 140537705253984), {}).\n"
     ]
    },
    {
     "name": "stdout",
     "output_type": "stream",
     "text": [
      "INFO:tensorflow:Unsupported signature for serialization: ((TensorSpec(shape=(1,), dtype=tf.float32, name='gradient'), <tensorflow.python.framework.func_graph.UnknownArgument object at 0x7fd1787a1f10>, 140537705254704), {}).\n"
     ]
    },
    {
     "name": "stderr",
     "output_type": "stream",
     "text": [
      "INFO:tensorflow:Unsupported signature for serialization: ((TensorSpec(shape=(1,), dtype=tf.float32, name='gradient'), <tensorflow.python.framework.func_graph.UnknownArgument object at 0x7fd1787a1f10>, 140537705254704), {}).\n"
     ]
    },
    {
     "name": "stdout",
     "output_type": "stream",
     "text": [
      "INFO:tensorflow:Unsupported signature for serialization: ((TensorSpec(shape=(79, 64), dtype=tf.float32, name='gradient'), <tensorflow.python.framework.func_graph.UnknownArgument object at 0x7fd17bf6b910>, 140537705025328), {}).\n"
     ]
    },
    {
     "name": "stderr",
     "output_type": "stream",
     "text": [
      "INFO:tensorflow:Unsupported signature for serialization: ((TensorSpec(shape=(79, 64), dtype=tf.float32, name='gradient'), <tensorflow.python.framework.func_graph.UnknownArgument object at 0x7fd17bf6b910>, 140537705025328), {}).\n"
     ]
    },
    {
     "name": "stdout",
     "output_type": "stream",
     "text": [
      "INFO:tensorflow:Unsupported signature for serialization: ((TensorSpec(shape=(64,), dtype=tf.float32, name='gradient'), <tensorflow.python.framework.func_graph.UnknownArgument object at 0x7fd17bf2a700>, 140537958275184), {}).\n"
     ]
    },
    {
     "name": "stderr",
     "output_type": "stream",
     "text": [
      "INFO:tensorflow:Unsupported signature for serialization: ((TensorSpec(shape=(64,), dtype=tf.float32, name='gradient'), <tensorflow.python.framework.func_graph.UnknownArgument object at 0x7fd17bf2a700>, 140537958275184), {}).\n"
     ]
    },
    {
     "name": "stdout",
     "output_type": "stream",
     "text": [
      "INFO:tensorflow:Unsupported signature for serialization: ((TensorSpec(shape=(64, 128), dtype=tf.float32, name='gradient'), <tensorflow.python.framework.func_graph.UnknownArgument object at 0x7fd17bf3d670>, 140537705255360), {}).\n"
     ]
    },
    {
     "name": "stderr",
     "output_type": "stream",
     "text": [
      "INFO:tensorflow:Unsupported signature for serialization: ((TensorSpec(shape=(64, 128), dtype=tf.float32, name='gradient'), <tensorflow.python.framework.func_graph.UnknownArgument object at 0x7fd17bf3d670>, 140537705255360), {}).\n"
     ]
    },
    {
     "name": "stdout",
     "output_type": "stream",
     "text": [
      "INFO:tensorflow:Unsupported signature for serialization: ((TensorSpec(shape=(128,), dtype=tf.float32, name='gradient'), <tensorflow.python.framework.func_graph.UnknownArgument object at 0x7fd17bf240a0>, 140537705256000), {}).\n"
     ]
    },
    {
     "name": "stderr",
     "output_type": "stream",
     "text": [
      "INFO:tensorflow:Unsupported signature for serialization: ((TensorSpec(shape=(128,), dtype=tf.float32, name='gradient'), <tensorflow.python.framework.func_graph.UnknownArgument object at 0x7fd17bf240a0>, 140537705256000), {}).\n"
     ]
    },
    {
     "name": "stdout",
     "output_type": "stream",
     "text": [
      "INFO:tensorflow:Unsupported signature for serialization: ((TensorSpec(shape=(128, 64), dtype=tf.float32, name='gradient'), <tensorflow.python.framework.func_graph.UnknownArgument object at 0x7fd1787cfac0>, 140537705258640), {}).\n"
     ]
    },
    {
     "name": "stderr",
     "output_type": "stream",
     "text": [
      "INFO:tensorflow:Unsupported signature for serialization: ((TensorSpec(shape=(128, 64), dtype=tf.float32, name='gradient'), <tensorflow.python.framework.func_graph.UnknownArgument object at 0x7fd1787cfac0>, 140537705258640), {}).\n"
     ]
    },
    {
     "name": "stdout",
     "output_type": "stream",
     "text": [
      "INFO:tensorflow:Unsupported signature for serialization: ((TensorSpec(shape=(64,), dtype=tf.float32, name='gradient'), <tensorflow.python.framework.func_graph.UnknownArgument object at 0x7fd17bf6bfa0>, 140537704751472), {}).\n"
     ]
    },
    {
     "name": "stderr",
     "output_type": "stream",
     "text": [
      "INFO:tensorflow:Unsupported signature for serialization: ((TensorSpec(shape=(64,), dtype=tf.float32, name='gradient'), <tensorflow.python.framework.func_graph.UnknownArgument object at 0x7fd17bf6bfa0>, 140537704751472), {}).\n"
     ]
    },
    {
     "name": "stdout",
     "output_type": "stream",
     "text": [
      "INFO:tensorflow:Unsupported signature for serialization: ((TensorSpec(shape=(64, 1), dtype=tf.float32, name='gradient'), <tensorflow.python.framework.func_graph.UnknownArgument object at 0x7fd17878ff40>, 140537705253984), {}).\n"
     ]
    },
    {
     "name": "stderr",
     "output_type": "stream",
     "text": [
      "INFO:tensorflow:Unsupported signature for serialization: ((TensorSpec(shape=(64, 1), dtype=tf.float32, name='gradient'), <tensorflow.python.framework.func_graph.UnknownArgument object at 0x7fd17878ff40>, 140537705253984), {}).\n"
     ]
    },
    {
     "name": "stdout",
     "output_type": "stream",
     "text": [
      "INFO:tensorflow:Unsupported signature for serialization: ((TensorSpec(shape=(1,), dtype=tf.float32, name='gradient'), <tensorflow.python.framework.func_graph.UnknownArgument object at 0x7fd1787a1f10>, 140537705254704), {}).\n"
     ]
    },
    {
     "name": "stderr",
     "output_type": "stream",
     "text": [
      "INFO:tensorflow:Unsupported signature for serialization: ((TensorSpec(shape=(1,), dtype=tf.float32, name='gradient'), <tensorflow.python.framework.func_graph.UnknownArgument object at 0x7fd1787a1f10>, 140537705254704), {}).\n"
     ]
    },
    {
     "name": "stdout",
     "output_type": "stream",
     "text": [
      "INFO:tensorflow:Assets written to: saved_models/pretrained/assets\n"
     ]
    },
    {
     "name": "stderr",
     "output_type": "stream",
     "text": [
      "INFO:tensorflow:Assets written to: saved_models/pretrained/assets\n"
     ]
    }
   ],
   "source": [
    "model.save(\"saved_models/pretrained\")"
   ]
  }
 ],
 "metadata": {
  "kernelspec": {
   "display_name": "tf_env",
   "language": "python",
   "name": "tf_env"
  },
  "language_info": {
   "codemirror_mode": {
    "name": "ipython",
    "version": 3
   },
   "file_extension": ".py",
   "mimetype": "text/x-python",
   "name": "python",
   "nbconvert_exporter": "python",
   "pygments_lexer": "ipython3",
   "version": "3.9.16"
  }
 },
 "nbformat": 4,
 "nbformat_minor": 5
}
