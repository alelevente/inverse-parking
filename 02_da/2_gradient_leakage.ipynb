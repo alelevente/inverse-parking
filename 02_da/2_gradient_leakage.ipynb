{
 "cells": [
  {
   "cell_type": "code",
   "execution_count": 1,
   "id": "6eafbf30-115d-440e-bcae-102e7ba27381",
   "metadata": {},
   "outputs": [],
   "source": [
    "import numpy as np\n",
    "import pandas as pd\n",
    "\n",
    "import matplotlib.pyplot as plt"
   ]
  },
  {
   "cell_type": "code",
   "execution_count": 2,
   "id": "0792d334-554b-4d87-b153-d82f7b8439ed",
   "metadata": {},
   "outputs": [
    {
     "name": "stderr",
     "output_type": "stream",
     "text": [
      "2024-01-12 17:35:33.143782: I tensorflow/core/platform/cpu_feature_guard.cc:182] This TensorFlow binary is optimized to use available CPU instructions in performance-critical operations.\n",
      "To enable the following instructions: AVX2 FMA, in other operations, rebuild TensorFlow with the appropriate compiler flags.\n",
      "2024-01-12 17:35:33.728824: W tensorflow/compiler/tf2tensorrt/utils/py_utils.cc:38] TF-TRT Warning: Could not find TensorRT\n"
     ]
    }
   ],
   "source": [
    "import tensorflow as tf\n",
    "from tensorflow import keras\n",
    "from tensorflow.keras import layers"
   ]
  },
  {
   "cell_type": "code",
   "execution_count": 3,
   "id": "c3f1aa06-e29a-4c96-96c9-922517ef47e2",
   "metadata": {},
   "outputs": [],
   "source": [
    "RESULTS_ROOT = \"../01_simulation/04_results/\"\n",
    "SEEDS = ['42', '1234', '1867', '613', '1001']\n",
    "#VEHICLE = \"h3408c1:0\"\n",
    "#VEHICLE = \"h482c1:0\"\n",
    "#VEHICLE = \"h3120c1:0\"\n",
    "#VEHICLE = \"h73c1:0\"\n",
    "VEHICLE = \"carIn106:4\"\n",
    "TIME_WINDOW = 15*60 #seconds"
   ]
  },
  {
   "cell_type": "code",
   "execution_count": 4,
   "id": "9153d84a-4d6e-4caf-a32d-5f343eb9cff0",
   "metadata": {},
   "outputs": [
    {
     "name": "stderr",
     "output_type": "stream",
     "text": [
      "2024-01-12 17:35:34.317152: I tensorflow/compiler/xla/stream_executor/cuda/cuda_gpu_executor.cc:995] successful NUMA node read from SysFS had negative value (-1), but there must be at least one NUMA node, so returning NUMA node zero. See more at https://github.com/torvalds/linux/blob/v6.0/Documentation/ABI/testing/sysfs-bus-pci#L344-L355\n",
      "2024-01-12 17:35:34.357550: I tensorflow/compiler/xla/stream_executor/cuda/cuda_gpu_executor.cc:995] successful NUMA node read from SysFS had negative value (-1), but there must be at least one NUMA node, so returning NUMA node zero. See more at https://github.com/torvalds/linux/blob/v6.0/Documentation/ABI/testing/sysfs-bus-pci#L344-L355\n",
      "2024-01-12 17:35:34.358187: I tensorflow/compiler/xla/stream_executor/cuda/cuda_gpu_executor.cc:995] successful NUMA node read from SysFS had negative value (-1), but there must be at least one NUMA node, so returning NUMA node zero. See more at https://github.com/torvalds/linux/blob/v6.0/Documentation/ABI/testing/sysfs-bus-pci#L344-L355\n",
      "2024-01-12 17:35:34.359047: I tensorflow/compiler/xla/stream_executor/cuda/cuda_gpu_executor.cc:995] successful NUMA node read from SysFS had negative value (-1), but there must be at least one NUMA node, so returning NUMA node zero. See more at https://github.com/torvalds/linux/blob/v6.0/Documentation/ABI/testing/sysfs-bus-pci#L344-L355\n",
      "2024-01-12 17:35:34.359184: I tensorflow/compiler/xla/stream_executor/cuda/cuda_gpu_executor.cc:995] successful NUMA node read from SysFS had negative value (-1), but there must be at least one NUMA node, so returning NUMA node zero. See more at https://github.com/torvalds/linux/blob/v6.0/Documentation/ABI/testing/sysfs-bus-pci#L344-L355\n",
      "2024-01-12 17:35:34.359304: I tensorflow/compiler/xla/stream_executor/cuda/cuda_gpu_executor.cc:995] successful NUMA node read from SysFS had negative value (-1), but there must be at least one NUMA node, so returning NUMA node zero. See more at https://github.com/torvalds/linux/blob/v6.0/Documentation/ABI/testing/sysfs-bus-pci#L344-L355\n",
      "2024-01-12 17:35:34.416021: I tensorflow/compiler/xla/stream_executor/cuda/cuda_gpu_executor.cc:995] successful NUMA node read from SysFS had negative value (-1), but there must be at least one NUMA node, so returning NUMA node zero. See more at https://github.com/torvalds/linux/blob/v6.0/Documentation/ABI/testing/sysfs-bus-pci#L344-L355\n",
      "2024-01-12 17:35:34.416175: I tensorflow/compiler/xla/stream_executor/cuda/cuda_gpu_executor.cc:995] successful NUMA node read from SysFS had negative value (-1), but there must be at least one NUMA node, so returning NUMA node zero. See more at https://github.com/torvalds/linux/blob/v6.0/Documentation/ABI/testing/sysfs-bus-pci#L344-L355\n",
      "2024-01-12 17:35:34.416301: I tensorflow/compiler/xla/stream_executor/cuda/cuda_gpu_executor.cc:995] successful NUMA node read from SysFS had negative value (-1), but there must be at least one NUMA node, so returning NUMA node zero. See more at https://github.com/torvalds/linux/blob/v6.0/Documentation/ABI/testing/sysfs-bus-pci#L344-L355\n",
      "2024-01-12 17:35:34.416410: I tensorflow/core/common_runtime/gpu/gpu_device.cc:1639] Created device /job:localhost/replica:0/task:0/device:GPU:0 with 4249 MB memory:  -> device: 0, name: NVIDIA GeForce RTX 3060 Laptop GPU, pci bus id: 0000:01:00.0, compute capability: 8.6\n"
     ]
    }
   ],
   "source": [
    "global_model = tf.keras.models.load_model(\"saved_models/pretrained\")"
   ]
  },
  {
   "cell_type": "code",
   "execution_count": 5,
   "id": "73214ff9-c620-4e86-9dd5-23a14c04f95e",
   "metadata": {},
   "outputs": [],
   "source": [
    "p_data = pd.DataFrame()\n",
    "#READING DATA:\n",
    "for s in SEEDS:\n",
    "    filename = RESULTS_ROOT+f'poccup_by_vehs_{s}.csv'\n",
    "    pf = pd.read_csv(filename)\n",
    "    pf[\"seed\"] = [s]*len(pf)\n",
    "    p_data = pd.concat([p_data, pf])\n",
    "    \n",
    "parkings = p_data[\"parking_id\"].unique()\n",
    "true_parkings = p_data[p_data[\"veh_id\"] == VEHICLE][\"parking_id\"].unique()\n",
    "    \n",
    "p_data = pd.get_dummies(p_data, columns=[\"parking_id\"])\n",
    "p_data[\"time\"] = p_data[\"time\"] - 4*24*60*60\n",
    "p_data[\"time\"] = p_data[\"time\"].astype(int)\n",
    "p_data[\"time_of_day\"] = (p_data[\"time\"] - (p_data[\"time\"] // (24*60*60))*24*60*60) / (24*60*60) #converting to 0.0-1.0 and removing periodicity"
   ]
  },
  {
   "cell_type": "code",
   "execution_count": 6,
   "id": "6398e24c-23d7-455c-b235-c6af10476b68",
   "metadata": {},
   "outputs": [],
   "source": [
    "vehicle_model = keras.Sequential([\n",
    "    layers.Dense(64, activation=\"relu\"),\n",
    "    layers.Dense(64, activation=\"relu\"),\n",
    "    layers.Dense(1)\n",
    "])\n",
    "\n",
    "vehicle_model.compile(loss=\"mse\", optimizer=tf.keras.optimizers.Adam(0.001))\n",
    "vehicle_model.build(input_shape=(None,79))"
   ]
  },
  {
   "cell_type": "code",
   "execution_count": 7,
   "id": "8fe6fe08-5b3e-46aa-9db5-fe4308281484",
   "metadata": {},
   "outputs": [],
   "source": [
    "vehicle_model.set_weights(global_model.get_weights())"
   ]
  },
  {
   "cell_type": "code",
   "execution_count": 8,
   "id": "4ed4f57c-7502-41b8-b380-51dab783baf8",
   "metadata": {},
   "outputs": [],
   "source": [
    "p_train = p_data[p_data[\"veh_id\"] == VEHICLE]\n",
    "X_train = p_train.drop(columns=[\"veh_id\", \"time\", \"occupancy\", \"seed\"])\n",
    "y_train = p_train[\"occupancy\"]"
   ]
  },
  {
   "cell_type": "code",
   "execution_count": 9,
   "id": "dbe6526a-83b0-41e0-a153-d8e92f85cd0b",
   "metadata": {},
   "outputs": [
    {
     "name": "stderr",
     "output_type": "stream",
     "text": [
      "2024-01-12 17:35:47.099415: I tensorflow/compiler/xla/stream_executor/cuda/cuda_blas.cc:606] TensorFloat-32 will be used for the matrix multiplication. This will only be logged once.\n",
      "2024-01-12 17:35:47.129603: I tensorflow/compiler/xla/service/service.cc:168] XLA service 0x7f9396cc8560 initialized for platform CUDA (this does not guarantee that XLA will be used). Devices:\n",
      "2024-01-12 17:35:47.129637: I tensorflow/compiler/xla/service/service.cc:176]   StreamExecutor device (0): NVIDIA GeForce RTX 3060 Laptop GPU, Compute Capability 8.6\n",
      "2024-01-12 17:35:47.133381: I tensorflow/compiler/mlir/tensorflow/utils/dump_mlir_util.cc:255] disabling MLIR crash reproducer, set env var `MLIR_CRASH_REPRODUCER_DIRECTORY` to enable.\n",
      "2024-01-12 17:35:47.164237: I tensorflow/compiler/xla/stream_executor/cuda/cuda_dnn.cc:432] Loaded cuDNN version 8907\n",
      "2024-01-12 17:35:47.204848: I tensorflow/tsl/platform/default/subprocess.cc:304] Start cannot spawn child process: No such file or directory\n",
      "2024-01-12 17:35:47.247193: I ./tensorflow/compiler/jit/device_compiler.h:186] Compiled cluster using XLA!  This line is logged at most once for the lifetime of the process.\n"
     ]
    },
    {
     "name": "stdout",
     "output_type": "stream",
     "text": [
      "1/1 [==============================] - 1s 977ms/step - loss: 0.0016\n"
     ]
    }
   ],
   "source": [
    "history = vehicle_model.fit(x=X_train, y=y_train, epochs=1, batch_size=10000)"
   ]
  },
  {
   "cell_type": "code",
   "execution_count": 10,
   "id": "b2554dbe-b67a-4e07-bd49-911bae5f5714",
   "metadata": {},
   "outputs": [],
   "source": [
    "def create_test_data(p_id, p_data):\n",
    "    '''\n",
    "        Creates test data for parking data for a complete day.\n",
    "    '''\n",
    "    parking_data = p_data[p_data[f\"parking_id_{p_id}\"] == 1]\n",
    "    t = np.arange(0, 1, 1/(24*60*60))\n",
    "    one_hot = parking_data.drop(columns=[\"veh_id\", \"time\", \"occupancy\", \"seed\", \"time_of_day\"]).iloc[0]\n",
    "    one_hot = [one_hot.values]*len(t)\n",
    "    pred_x = np.array(one_hot)\n",
    "    pred_x = pd.DataFrame(pred_x)\n",
    "    pred_x[\"t\"] = t\n",
    "    return pred_x"
   ]
  },
  {
   "cell_type": "code",
   "execution_count": 11,
   "id": "f4403b94-fa77-4aa2-8bd1-150183b43db9",
   "metadata": {},
   "outputs": [
    {
     "name": "stdout",
     "output_type": "stream",
     "text": [
      "9/9 [==============================] - 0s 2ms/step\n",
      "9/9 [==============================] - 0s 2ms/step\n",
      "9/9 [==============================] - 0s 2ms/step\n",
      "9/9 [==============================] - 0s 2ms/step\n",
      "9/9 [==============================] - 0s 2ms/step\n",
      "9/9 [==============================] - 0s 2ms/step\n",
      "9/9 [==============================] - 0s 2ms/step\n",
      "9/9 [==============================] - 0s 2ms/step\n",
      "9/9 [==============================] - 0s 2ms/step\n",
      "9/9 [==============================] - 0s 2ms/step\n",
      "9/9 [==============================] - 0s 2ms/step\n",
      "9/9 [==============================] - 0s 2ms/step\n",
      "9/9 [==============================] - 0s 2ms/step\n",
      "9/9 [==============================] - 0s 2ms/step\n",
      "9/9 [==============================] - 0s 2ms/step\n",
      "9/9 [==============================] - 0s 2ms/step\n",
      "9/9 [==============================] - 0s 2ms/step\n",
      "9/9 [==============================] - 0s 3ms/step\n",
      "9/9 [==============================] - 0s 2ms/step\n",
      "9/9 [==============================] - 0s 2ms/step\n",
      "9/9 [==============================] - 0s 2ms/step\n",
      "9/9 [==============================] - 0s 2ms/step\n",
      "9/9 [==============================] - 0s 2ms/step\n",
      "9/9 [==============================] - 0s 2ms/step\n",
      "9/9 [==============================] - 0s 2ms/step\n",
      "9/9 [==============================] - 0s 3ms/step\n",
      "9/9 [==============================] - 0s 2ms/step\n",
      "9/9 [==============================] - 0s 2ms/step\n",
      "9/9 [==============================] - 0s 2ms/step\n",
      "9/9 [==============================] - 0s 3ms/step\n",
      "9/9 [==============================] - 0s 2ms/step\n",
      "9/9 [==============================] - 0s 2ms/step\n",
      "9/9 [==============================] - 0s 2ms/step\n",
      "9/9 [==============================] - 0s 2ms/step\n",
      "9/9 [==============================] - 0s 2ms/step\n",
      "9/9 [==============================] - 0s 2ms/step\n",
      "9/9 [==============================] - 0s 3ms/step\n",
      "9/9 [==============================] - 0s 2ms/step\n",
      "9/9 [==============================] - 0s 2ms/step\n",
      "9/9 [==============================] - 0s 3ms/step\n",
      "9/9 [==============================] - 0s 2ms/step\n",
      "9/9 [==============================] - 0s 3ms/step\n",
      "9/9 [==============================] - 0s 3ms/step\n",
      "9/9 [==============================] - 0s 3ms/step\n",
      "9/9 [==============================] - 0s 3ms/step\n",
      "9/9 [==============================] - 0s 3ms/step\n",
      "9/9 [==============================] - 0s 3ms/step\n",
      "9/9 [==============================] - 0s 3ms/step\n",
      "9/9 [==============================] - 0s 2ms/step\n",
      "9/9 [==============================] - 0s 3ms/step\n",
      "9/9 [==============================] - 0s 3ms/step\n",
      "9/9 [==============================] - 0s 2ms/step\n",
      "9/9 [==============================] - 0s 2ms/step\n",
      "9/9 [==============================] - 0s 2ms/step\n",
      "9/9 [==============================] - 0s 2ms/step\n",
      "9/9 [==============================] - 0s 3ms/step\n",
      "9/9 [==============================] - 0s 3ms/step\n",
      "9/9 [==============================] - 0s 3ms/step\n",
      "9/9 [==============================] - 0s 2ms/step\n",
      "9/9 [==============================] - 0s 3ms/step\n",
      "9/9 [==============================] - 0s 2ms/step\n",
      "9/9 [==============================] - 0s 2ms/step\n",
      "9/9 [==============================] - 0s 3ms/step\n",
      "9/9 [==============================] - 0s 3ms/step\n",
      "9/9 [==============================] - 0s 2ms/step\n",
      "9/9 [==============================] - 0s 3ms/step\n",
      "9/9 [==============================] - 0s 2ms/step\n",
      "9/9 [==============================] - 0s 2ms/step\n",
      "9/9 [==============================] - 0s 3ms/step\n",
      "9/9 [==============================] - 0s 3ms/step\n",
      "9/9 [==============================] - 0s 3ms/step\n",
      "9/9 [==============================] - 0s 3ms/step\n",
      "9/9 [==============================] - 0s 3ms/step\n",
      "9/9 [==============================] - 0s 3ms/step\n",
      "9/9 [==============================] - 0s 2ms/step\n",
      "9/9 [==============================] - 0s 2ms/step\n",
      "9/9 [==============================] - 0s 3ms/step\n",
      "9/9 [==============================] - 0s 3ms/step\n",
      "9/9 [==============================] - 0s 3ms/step\n",
      "9/9 [==============================] - 0s 2ms/step\n",
      "9/9 [==============================] - 0s 2ms/step\n",
      "9/9 [==============================] - 0s 2ms/step\n",
      "9/9 [==============================] - 0s 3ms/step\n",
      "9/9 [==============================] - 0s 2ms/step\n",
      "9/9 [==============================] - 0s 3ms/step\n",
      "9/9 [==============================] - 0s 3ms/step\n",
      "9/9 [==============================] - 0s 2ms/step\n",
      "9/9 [==============================] - 0s 2ms/step\n",
      "9/9 [==============================] - 0s 3ms/step\n",
      "9/9 [==============================] - 0s 2ms/step\n",
      "9/9 [==============================] - 0s 2ms/step\n",
      "9/9 [==============================] - 0s 2ms/step\n",
      "9/9 [==============================] - 0s 2ms/step\n",
      "9/9 [==============================] - 0s 2ms/step\n",
      "9/9 [==============================] - 0s 3ms/step\n",
      "9/9 [==============================] - 0s 2ms/step\n",
      "9/9 [==============================] - 0s 2ms/step\n",
      "9/9 [==============================] - 0s 2ms/step\n",
      "9/9 [==============================] - 0s 2ms/step\n",
      "9/9 [==============================] - 0s 2ms/step\n",
      "9/9 [==============================] - 0s 2ms/step\n",
      "9/9 [==============================] - 0s 2ms/step\n",
      "9/9 [==============================] - 0s 2ms/step\n",
      "9/9 [==============================] - 0s 2ms/step\n",
      "9/9 [==============================] - 0s 3ms/step\n",
      "9/9 [==============================] - 0s 3ms/step\n",
      "9/9 [==============================] - 0s 2ms/step\n",
      "9/9 [==============================] - 0s 3ms/step\n",
      "9/9 [==============================] - 0s 2ms/step\n",
      "9/9 [==============================] - 0s 3ms/step\n",
      "9/9 [==============================] - 0s 2ms/step\n",
      "9/9 [==============================] - 0s 2ms/step\n",
      "9/9 [==============================] - 0s 3ms/step\n",
      "9/9 [==============================] - 0s 2ms/step\n",
      "9/9 [==============================] - 0s 2ms/step\n",
      "9/9 [==============================] - 0s 2ms/step\n",
      "9/9 [==============================] - 0s 2ms/step\n",
      "9/9 [==============================] - 0s 3ms/step\n",
      "9/9 [==============================] - 0s 2ms/step\n",
      "9/9 [==============================] - 0s 2ms/step\n",
      "9/9 [==============================] - 0s 2ms/step\n",
      "9/9 [==============================] - 0s 3ms/step\n",
      "9/9 [==============================] - 0s 2ms/step\n",
      "9/9 [==============================] - 0s 2ms/step\n",
      "9/9 [==============================] - 0s 2ms/step\n",
      "9/9 [==============================] - 0s 3ms/step\n",
      "9/9 [==============================] - 0s 2ms/step\n",
      "9/9 [==============================] - 0s 2ms/step\n",
      "9/9 [==============================] - 0s 2ms/step\n",
      "9/9 [==============================] - 0s 2ms/step\n",
      "9/9 [==============================] - 0s 2ms/step\n",
      "9/9 [==============================] - 0s 2ms/step\n",
      "9/9 [==============================] - 0s 2ms/step\n",
      "9/9 [==============================] - 0s 2ms/step\n",
      "9/9 [==============================] - 0s 2ms/step\n",
      "9/9 [==============================] - 0s 2ms/step\n",
      "9/9 [==============================] - 0s 2ms/step\n",
      "9/9 [==============================] - 0s 3ms/step\n",
      "9/9 [==============================] - 0s 2ms/step\n",
      "9/9 [==============================] - 0s 2ms/step\n",
      "9/9 [==============================] - 0s 2ms/step\n",
      "9/9 [==============================] - 0s 2ms/step\n",
      "9/9 [==============================] - 0s 2ms/step\n",
      "9/9 [==============================] - 0s 3ms/step\n",
      "9/9 [==============================] - 0s 3ms/step\n",
      "9/9 [==============================] - 0s 2ms/step\n",
      "9/9 [==============================] - 0s 3ms/step\n",
      "9/9 [==============================] - 0s 3ms/step\n",
      "9/9 [==============================] - 0s 3ms/step\n",
      "9/9 [==============================] - 0s 3ms/step\n",
      "9/9 [==============================] - 0s 3ms/step\n",
      "9/9 [==============================] - 0s 3ms/step\n",
      "9/9 [==============================] - 0s 3ms/step\n",
      "9/9 [==============================] - 0s 3ms/step\n",
      "9/9 [==============================] - 0s 3ms/step\n",
      "9/9 [==============================] - 0s 2ms/step\n"
     ]
    }
   ],
   "source": [
    "p_diffs = {}\n",
    "\n",
    "for p in parkings:\n",
    "    test_data = create_test_data(p, p_data)\n",
    "    pred_vehicle = vehicle_model.predict(test_data, batch_size=10000)\n",
    "    pred_global  = global_model.predict(test_data, batch_size=10000)\n",
    "    p_diffs[p] = (pred_vehicle-pred_global)**2"
   ]
  },
  {
   "cell_type": "code",
   "execution_count": 12,
   "id": "275aeeb7-cf19-49d3-a0f0-bbf7853bbb31",
   "metadata": {},
   "outputs": [
    {
     "name": "stdout",
     "output_type": "stream",
     "text": [
      "pa-27                         : 0.0019\n",
      "pa-71                         : 0.0018\n",
      "pa27                          : 0.0022\n",
      "pa-3                          : 0.0028\n",
      "pa3                           : 0.0020\n",
      "pa-184                        : 0.0018\n",
      "pa184                         : 0.0029\n",
      "pa-172                        : 0.0028\n",
      "pa172                         : 0.0044\n",
      "pa-11                         : 0.0029\n",
      "pa-outside2                   : 0.0024\n",
      "pa11                          : 0.0017\n",
      "pa-148                        : 0.0037\n",
      "pa148                         : 0.0039\n",
      "pa-164                        : 0.0026\n",
      "pa-109                        : 0.0030\n",
      "pa109                         : 0.0044\n",
      "pa-152                        : 0.0036\n",
      "pa152                         : 0.0043\n",
      "pa-131                        : 0.0034\n",
      "pa-central                    : 0.0019\n",
      "pa-residential_east           : 0.0030\n",
      "pa131                         : 0.0032\n",
      "pa-123                        : 0.0047\n",
      "pa-79                         : 0.0018\n",
      "pa79                          : 0.0026\n",
      "pa-industrial1                : 0.0028\n",
      "pa144                         : 0.0052\n",
      "pa-120                        : 0.0029\n",
      "pa-residential_south          : 0.0014\n",
      "pa120                         : 0.0027\n",
      "pa-60                         : 0.0031\n",
      "pa60                          : 0.0035\n",
      "pa-75                         : 0.0031\n",
      "pa75                          : 0.0022\n",
      "pa-64                         : 0.0027\n",
      "pa64                          : 0.0028\n",
      "pa123                         : 0.0041\n",
      "pa164                         : 0.0035\n",
      "pa-199                        : 0.0020\n",
      "pa199                         : 0.0017\n",
      "pa-162                        : 0.0028\n",
      "pa-residential_west           : 0.0014\n",
      "pa162                         : 0.0030\n",
      "pa219                         : 0.0032\n",
      "pa92                          : 0.0025\n",
      "pa-202                        : 0.0026\n",
      "pa202                         : 0.0028\n",
      "pa23                          : 0.0035\n",
      "pa-23                         : 0.0035\n",
      "pa-55                         : 0.0014\n",
      "pa55                          : 0.0015\n",
      "pa-31                         : 0.0034\n",
      "pa-outside1                   : 0.0019\n",
      "pa31                          : 0.0036\n",
      "pa-190                        : 0.0012\n",
      "pa190                         : 0.0031\n",
      "pa-15                         : 0.0028\n",
      "pa15                          : 0.0024\n",
      "pa-144                        : 0.0025\n",
      "pa-industrial2                : 0.0024\n",
      "pa-229                        : 0.0027\n",
      "pa229                         : 0.0017\n",
      "pa71                          : 0.0013\n",
      "pa-43                         : 0.0012\n",
      "pa43                          : 0.0022\n",
      "pa45                          : 0.0017\n",
      "pa68                          : 0.0022\n",
      "pa37                          : 0.0036\n",
      "pa58                          : 0.0036\n",
      "pa-334                        : 0.0026\n",
      "pa334                         : 0.0021\n",
      "pa-206                        : 0.0018\n",
      "pa5                           : 0.0032\n",
      "pa-196                        : 0.0028\n",
      "pa196                         : 0.0042\n",
      "pa-338                        : 0.0019\n",
      "pa338                         : 0.0017\n"
     ]
    }
   ],
   "source": [
    "p_diff_means = {}\n",
    "for p in parkings:\n",
    "    p_diff_means[p] = np.mean(p_diffs[p])\n",
    "    print(f\"{p:30}: {np.mean(p_diffs[p]):6.4f}\")"
   ]
  },
  {
   "cell_type": "code",
   "execution_count": 13,
   "id": "ec182085-a22b-4657-984f-6761337e8188",
   "metadata": {},
   "outputs": [],
   "source": [
    "p_diff_series = pd.Series(p_diff_means)"
   ]
  },
  {
   "cell_type": "code",
   "execution_count": 14,
   "id": "0a37b352-d0dc-41dd-86fc-06f7b681f014",
   "metadata": {},
   "outputs": [
    {
     "name": "stdout",
     "output_type": "stream",
     "text": [
      "{'pa-148', 'pa172', 'pa123', 'pa152', 'pa-123', 'pa148', 'pa196', 'pa144'} 8\n"
     ]
    }
   ],
   "source": [
    "predicted_ps = set(p_diff_series.nlargest(10).index)\n",
    "true_parkings = set(true_parkings)\n",
    "intersection = predicted_ps.intersection(true_parkings)\n",
    "print(intersection, len(intersection))"
   ]
  },
  {
   "cell_type": "code",
   "execution_count": 15,
   "id": "cab1e4cf-f6b9-405f-82b4-80d7e126df89",
   "metadata": {},
   "outputs": [],
   "source": [
    "time_diffs = {}\n",
    "for p in parkings:\n",
    "    for t in range(0, 24*60*60, TIME_WINDOW):\n",
    "        if t in time_diffs:\n",
    "            time_diffs[t] += np.mean(p_diffs[p][t:t+TIME_WINDOW])\n",
    "        else:\n",
    "            time_diffs[t] = np.mean(p_diffs[p][t:t+TIME_WINDOW])"
   ]
  },
  {
   "cell_type": "code",
   "execution_count": 16,
   "id": "fe8b015c-fb75-405e-85f3-3be88531fbf7",
   "metadata": {},
   "outputs": [],
   "source": [
    "time_diffs_series = pd.Series(time_diffs)"
   ]
  },
  {
   "cell_type": "code",
   "execution_count": 17,
   "id": "938c87a9-29e3-435e-89b4-83457faf58eb",
   "metadata": {},
   "outputs": [
    {
     "data": {
      "image/png": "[encoded data removed]",
      "text/plain": [
       "<Figure size 432x288 with 1 Axes>"
      ]
     },
     "metadata": {
      "needs_background": "light"
     },
     "output_type": "display_data"
    }
   ],
   "source": [
    "plot_res_x = np.arange(15*60, 24*60*60-15*60+1, TIME_WINDOW) #From 0:15 to 23:45, -1 seconds because of the differentiation\n",
    "plot_res_y = np.abs(np.diff(time_diffs_series.values))#[15*60:-15*60]\n",
    "plot_res = pd.Series(data=plot_res_y, index=plot_res_x)\n",
    "plt.plot(plot_res_x/(60*60), plot_res_y)\n",
    "plt.xticks(ticks=np.arange(0, 26, 2));"
   ]
  },
  {
   "cell_type": "code",
   "execution_count": 18,
   "id": "7a8bc4d1-f3dc-4a72-85e3-dfb2bd32f41d",
   "metadata": {},
   "outputs": [
    {
     "name": "stdout",
     "output_type": "stream",
     "text": [
      "16:15\n"
     ]
    }
   ],
   "source": [
    "#print(f'{time_diffs_series.index[time_diffs_series.argmax()]//(60*60):2d}:{time_diffs_series.index[time_diffs_series.argmax()]%(60*60)//60:02d}')\n",
    "print(f'{plot_res.index[plot_res.argmax()]//(60*60):2d}:{plot_res.index[plot_res.argmax()]%(60*60)//60:02d}')"
   ]
  },
  {
   "cell_type": "code",
   "execution_count": 19,
   "id": "565c0872-01ce-4610-a941-628c71882e44",
   "metadata": {},
   "outputs": [
    {
     "data": {
      "text/plain": [
       "0.6770833333333334"
      ]
     },
     "execution_count": 19,
     "metadata": {},
     "output_type": "execute_result"
    }
   ],
   "source": [
    "pred_time = plot_res.index[plot_res.argmax()]/(24*60*60)\n",
    "pred_time"
   ]
  },
  {
   "cell_type": "code",
   "execution_count": 20,
   "id": "98e72566-056a-430c-99f9-5b45e1d91bde",
   "metadata": {},
   "outputs": [],
   "source": [
    "move_bins_counts, move_bins_bins = np.histogram(p_train[\"time_of_day\"], bins=np.arange(0, 24*60*60, TIME_WINDOW)/(24*60*60))"
   ]
  },
  {
   "cell_type": "code",
   "execution_count": 21,
   "id": "2cce8e84-8b11-4ae7-aeb0-bb69a422078b",
   "metadata": {},
   "outputs": [],
   "source": [
    "def search_nearest_move_bin(pred_time, move_bins_counts, move_bins_bins):\n",
    "    ref_idx, = np.where(move_bins_bins == pred_time)[0]\n",
    "    rel_idx = 0\n",
    "    #searching backward:\n",
    "    while (ref_idx+rel_idx >= 0) and (move_bins_counts[ref_idx+rel_idx]==0):\n",
    "        rel_idx -= 1\n",
    "    down_step = 1\n",
    "    if rel_idx<=0: #found some data\n",
    "        down_step = rel_idx\n",
    "    rel_idx = 0\n",
    "    #searching forward:\n",
    "    while (ref_idx+rel_idx < len(move_bins_counts)) and (move_bins_counts[ref_idx+rel_idx]==0):\n",
    "        rel_idx += 1\n",
    "    if rel_idx < (24*60*60)//TIME_WINDOW: #found some data\n",
    "        if down_step == 1:\n",
    "            return rel_idx\n",
    "        else:\n",
    "            return down_step if abs(down_step)<rel_idx else rel_idx\n",
    "    else:\n",
    "        return None if down_step == 1 else down_step"
   ]
  },
  {
   "cell_type": "code",
   "execution_count": 22,
   "id": "9b192c93-cbad-4872-b732-6b52cc2f88ba",
   "metadata": {},
   "outputs": [
    {
     "data": {
      "text/plain": [
       "7"
      ]
     },
     "execution_count": 22,
     "metadata": {},
     "output_type": "execute_result"
    }
   ],
   "source": [
    "search_nearest_move_bin(pred_time, move_bins_counts, move_bins_bins)"
   ]
  }
 ],
 "metadata": {
  "kernelspec": {
   "display_name": "tf_env",
   "language": "python",
   "name": "tf_env"
  },
  "language_info": {
   "codemirror_mode": {
    "name": "ipython",
    "version": 3
   },
   "file_extension": ".py",
   "mimetype": "text/x-python",
   "name": "python",
   "nbconvert_exporter": "python",
   "pygments_lexer": "ipython3",
   "version": "3.9.16"
  }
 },
 "nbformat": 4,
 "nbformat_minor": 5
}
